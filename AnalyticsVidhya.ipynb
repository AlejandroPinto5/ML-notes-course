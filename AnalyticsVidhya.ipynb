{
  "nbformat": 4,
  "nbformat_minor": 0,
  "metadata": {
    "colab": {
      "provenance": [],
      "mount_file_id": "1wP3dThbBpL4L7K5AtCCSCF1CMdYhce-z",
      "authorship_tag": "ABX9TyOOj+froAEj2eqb5kBo4cyN",
      "include_colab_link": true
    },
    "kernelspec": {
      "name": "python3",
      "display_name": "Python 3"
    },
    "language_info": {
      "name": "python"
    }
  },
  "cells": [
    {
      "cell_type": "markdown",
      "metadata": {
        "id": "view-in-github",
        "colab_type": "text"
      },
      "source": [
        "<a href=\"https://colab.research.google.com/github/AlejandroPinto5/ML-notes-course/blob/main/AnalyticsVidhya.ipynb\" target=\"_parent\"><img src=\"https://colab.research.google.com/assets/colab-badge.svg\" alt=\"Open In Colab\"/></a>"
      ]
    },
    {
      "cell_type": "markdown",
      "source": [
        "# **Data Structures**"
      ],
      "metadata": {
        "id": "GeDoNQiOZtaU"
      }
    },
    {
      "cell_type": "code",
      "source": [
        "# Height in cm\n",
        "Ramesh = 150\n",
        "Suresh = 145\n",
        "Sudesh = 165"
      ],
      "metadata": {
        "id": "gAG-v8OeZwYo"
      },
      "execution_count": null,
      "outputs": []
    },
    {
      "cell_type": "code",
      "source": [
        "# Weight in kg\n",
        "Ramesh_weight = 56\n",
        "Suresh_weight = 60\n",
        "Sudesh_weight = 65"
      ],
      "metadata": {
        "id": "moFpux_-aRYE"
      },
      "execution_count": null,
      "outputs": []
    },
    {
      "cell_type": "code",
      "source": [
        "# Age in Years\n",
        "Ramesh_age = 23\n",
        "Suresh_age = 46\n",
        "Sudesh_age = 58\n",
        "# A lot of variables. Very tedious"
      ],
      "metadata": {
        "id": "vQW-kRmbafmZ"
      },
      "execution_count": null,
      "outputs": []
    },
    {
      "cell_type": "code",
      "source": [
        "import numpy as np\n",
        "A = np.array([[0.1, 0.2], [0.03, 0.44], [0.25, 0.16]])\n",
        "A.select([0,0], [1,0], [2,1])\n"
      ],
      "metadata": {
        "colab": {
          "base_uri": "https://localhost:8080/",
          "height": 200
        },
        "id": "0_qsXx5u5K5t",
        "outputId": "375a0b98-e705-46b2-f1e1-4f6ff46878bb"
      },
      "execution_count": null,
      "outputs": [
        {
          "output_type": "error",
          "ename": "AttributeError",
          "evalue": "ignored",
          "traceback": [
            "\u001b[0;31m---------------------------------------------------------------------------\u001b[0m",
            "\u001b[0;31mAttributeError\u001b[0m                            Traceback (most recent call last)",
            "\u001b[0;32m<ipython-input-3-9c1bc5d815e6>\u001b[0m in \u001b[0;36m<module>\u001b[0;34m()\u001b[0m\n\u001b[1;32m      1\u001b[0m \u001b[0;32mimport\u001b[0m \u001b[0mnumpy\u001b[0m \u001b[0;32mas\u001b[0m \u001b[0mnp\u001b[0m\u001b[0;34m\u001b[0m\u001b[0;34m\u001b[0m\u001b[0m\n\u001b[1;32m      2\u001b[0m \u001b[0mA\u001b[0m \u001b[0;34m=\u001b[0m \u001b[0mnp\u001b[0m\u001b[0;34m.\u001b[0m\u001b[0marray\u001b[0m\u001b[0;34m(\u001b[0m\u001b[0;34m[\u001b[0m\u001b[0;34m[\u001b[0m\u001b[0;36m0.1\u001b[0m\u001b[0;34m,\u001b[0m \u001b[0;36m0.2\u001b[0m\u001b[0;34m]\u001b[0m\u001b[0;34m,\u001b[0m \u001b[0;34m[\u001b[0m\u001b[0;36m0.03\u001b[0m\u001b[0;34m,\u001b[0m \u001b[0;36m0.44\u001b[0m\u001b[0;34m]\u001b[0m\u001b[0;34m,\u001b[0m \u001b[0;34m[\u001b[0m\u001b[0;36m0.25\u001b[0m\u001b[0;34m,\u001b[0m \u001b[0;36m0.16\u001b[0m\u001b[0;34m]\u001b[0m\u001b[0;34m]\u001b[0m\u001b[0;34m)\u001b[0m\u001b[0;34m\u001b[0m\u001b[0;34m\u001b[0m\u001b[0m\n\u001b[0;32m----> 3\u001b[0;31m \u001b[0mA\u001b[0m\u001b[0;34m.\u001b[0m\u001b[0mselect\u001b[0m\u001b[0;34m(\u001b[0m\u001b[0;34m[\u001b[0m\u001b[0;36m0\u001b[0m\u001b[0;34m,\u001b[0m\u001b[0;36m0\u001b[0m\u001b[0;34m]\u001b[0m\u001b[0;34m,\u001b[0m \u001b[0;34m[\u001b[0m\u001b[0;36m1\u001b[0m\u001b[0;34m,\u001b[0m\u001b[0;36m0\u001b[0m\u001b[0;34m]\u001b[0m\u001b[0;34m,\u001b[0m \u001b[0;34m[\u001b[0m\u001b[0;36m2\u001b[0m\u001b[0;34m,\u001b[0m\u001b[0;36m1\u001b[0m\u001b[0;34m]\u001b[0m\u001b[0;34m)\u001b[0m\u001b[0;34m\u001b[0m\u001b[0;34m\u001b[0m\u001b[0m\n\u001b[0m",
            "\u001b[0;31mAttributeError\u001b[0m: 'numpy.ndarray' object has no attribute 'select'"
          ]
        }
      ]
    },
    {
      "cell_type": "markdown",
      "source": [
        "# **LIST [ ]**"
      ],
      "metadata": {
        "id": "L9a0KfIPbRNM"
      }
    },
    {
      "cell_type": "code",
      "source": [
        "# List \n",
        "names = [\"Ramesh\", \"Suresh\", \"Sudesh\"]\n",
        "height = [150, 145, 165]\n",
        "weight = [56, 60, 65]\n",
        "age = [23, 45, 58]"
      ],
      "metadata": {
        "id": "_vlFs-cXaolg"
      },
      "execution_count": null,
      "outputs": []
    },
    {
      "cell_type": "code",
      "source": [
        "# Example\n",
        "list1 = [2, 3, 4, 5, 6] # Lists remebmer the order\n",
        "list2 = [\"Python\", \"is\", \"Awesome\"] # Single data type\n",
        "list3 = [1, \"Python\", 2, \"is\", 3, \"Awesome\"]# Mixed data type"
      ],
      "metadata": {
        "id": "TkKatEwwb57w"
      },
      "execution_count": null,
      "outputs": []
    },
    {
      "cell_type": "code",
      "source": [
        "# Extract an element\n",
        "list3[1]"
      ],
      "metadata": {
        "colab": {
          "base_uri": "https://localhost:8080/",
          "height": 35
        },
        "id": "xDoezE-DcNRA",
        "outputId": "c16ac686-77b9-43ea-8b1c-2c12e5cdbd88"
      },
      "execution_count": null,
      "outputs": [
        {
          "output_type": "execute_result",
          "data": {
            "application/vnd.google.colaboratory.intrinsic+json": {
              "type": "string"
            },
            "text/plain": [
              "'Python'"
            ]
          },
          "metadata": {},
          "execution_count": 12
        }
      ]
    },
    {
      "cell_type": "code",
      "source": [
        "# Extract a sequence of elements\n",
        "list3[1:4]"
      ],
      "metadata": {
        "colab": {
          "base_uri": "https://localhost:8080/"
        },
        "id": "xD5SSsSKdDIx",
        "outputId": "d6421e43-5dbc-4b17-f372-ce313d36c264"
      },
      "execution_count": null,
      "outputs": [
        {
          "output_type": "execute_result",
          "data": {
            "text/plain": [
              "['Python', 2, 'is']"
            ]
          },
          "metadata": {},
          "execution_count": 9
        }
      ]
    },
    {
      "cell_type": "code",
      "source": [
        "# Adding a single element\n",
        "list3.append(4)\n",
        "list3"
      ],
      "metadata": {
        "colab": {
          "base_uri": "https://localhost:8080/"
        },
        "id": "rPAPDcL8dLBh",
        "outputId": "f9edb56a-d9f3-4abf-d236-96d05b7f2beb"
      },
      "execution_count": null,
      "outputs": [
        {
          "output_type": "execute_result",
          "data": {
            "text/plain": [
              "[1, 'Python', 2, 'is', 3, 'Awesome', 4, 4, 4]"
            ]
          },
          "metadata": {},
          "execution_count": 12
        }
      ]
    },
    {
      "cell_type": "code",
      "source": [
        "# Adding a multiple elements\n",
        "list3.extend([5,6])\n",
        "list3"
      ],
      "metadata": {
        "colab": {
          "base_uri": "https://localhost:8080/"
        },
        "id": "jd2EH_UYdaAm",
        "outputId": "e8b44185-174a-4b6b-b7f3-3faa99e25ecf"
      },
      "execution_count": null,
      "outputs": [
        {
          "output_type": "execute_result",
          "data": {
            "text/plain": [
              "[1, 'Python', 2, 'is', 3, 'Awesome', 4, 4, 4, 5, 6]"
            ]
          },
          "metadata": {},
          "execution_count": 13
        }
      ]
    },
    {
      "cell_type": "code",
      "source": [
        "#  Adding list into another list\n",
        "list3.append([7,8])\n",
        "list3"
      ],
      "metadata": {
        "colab": {
          "base_uri": "https://localhost:8080/"
        },
        "id": "1IIkkzMXdvf0",
        "outputId": "f7220710-6b6b-4b79-a54d-09217c0c0a76"
      },
      "execution_count": null,
      "outputs": [
        {
          "output_type": "execute_result",
          "data": {
            "text/plain": [
              "[1, 'Python', 2, 'is', 3, 'Awesome', 4, 4, 4, 5, 6, [7, 8]]"
            ]
          },
          "metadata": {},
          "execution_count": 14
        }
      ]
    },
    {
      "cell_type": "code",
      "source": [
        "# Delete element by value\n",
        "list3.remove(2)\n",
        "list3"
      ],
      "metadata": {
        "colab": {
          "base_uri": "https://localhost:8080/"
        },
        "id": "akXiodbueEow",
        "outputId": "4b7db678-33eb-4b52-a015-31e618b662e1"
      },
      "execution_count": null,
      "outputs": [
        {
          "output_type": "execute_result",
          "data": {
            "text/plain": [
              "[1, 'Python', 'is', 3, 'Awesome', 4, 4, 4, 5, 6, [7, 8]]"
            ]
          },
          "metadata": {},
          "execution_count": 15
        }
      ]
    },
    {
      "cell_type": "code",
      "source": [
        "# Delete element by index\n",
        "del list3[5]\n",
        "list3"
      ],
      "metadata": {
        "colab": {
          "base_uri": "https://localhost:8080/"
        },
        "id": "H2RquxQxeYBY",
        "outputId": "f0b327f0-35e1-4f8a-f6be-24fb64cbeb64"
      },
      "execution_count": null,
      "outputs": [
        {
          "output_type": "execute_result",
          "data": {
            "text/plain": [
              "[1, 'Python', 'is', 3, 'Awesome', 4, 4, 5, 6, [7, 8]]"
            ]
          },
          "metadata": {},
          "execution_count": 16
        }
      ]
    },
    {
      "cell_type": "code",
      "source": [
        "# Negative index\n",
        "list1[-2]"
      ],
      "metadata": {
        "colab": {
          "base_uri": "https://localhost:8080/"
        },
        "id": "RSeuPgWvf1ed",
        "outputId": "710a88a1-d72c-486f-c951-1ec4ccdf2ffc"
      },
      "execution_count": null,
      "outputs": [
        {
          "output_type": "execute_result",
          "data": {
            "text/plain": [
              "5"
            ]
          },
          "metadata": {},
          "execution_count": 18
        }
      ]
    },
    {
      "cell_type": "code",
      "source": [
        "# Doble colon -- initial:final:step\n",
        "list3[1:4:2]"
      ],
      "metadata": {
        "colab": {
          "base_uri": "https://localhost:8080/"
        },
        "id": "2o2eKZiAgAc6",
        "outputId": "81b23d8f-f11b-45f6-921d-0a6f9d8c479a"
      },
      "execution_count": null,
      "outputs": [
        {
          "output_type": "execute_result",
          "data": {
            "text/plain": [
              "['Python', 3]"
            ]
          },
          "metadata": {},
          "execution_count": 20
        }
      ]
    },
    {
      "cell_type": "code",
      "source": [
        "# Check if particular element is in the list\n",
        "90 in list3"
      ],
      "metadata": {
        "colab": {
          "base_uri": "https://localhost:8080/"
        },
        "id": "WbmuaCiMgmqh",
        "outputId": "e68437e2-4e9d-4a5e-fe50-dfa7c1d62d8b"
      },
      "execution_count": null,
      "outputs": [
        {
          "output_type": "execute_result",
          "data": {
            "text/plain": [
              "False"
            ]
          },
          "metadata": {},
          "execution_count": 21
        }
      ]
    },
    {
      "cell_type": "code",
      "source": [
        "# Check if particular element isn't in the list\n",
        "[1,2] not in list3"
      ],
      "metadata": {
        "colab": {
          "base_uri": "https://localhost:8080/"
        },
        "id": "GYi0SyGlh58_",
        "outputId": "56adb91b-1b43-42d6-c2f2-709f1e5626e7"
      },
      "execution_count": null,
      "outputs": [
        {
          "output_type": "execute_result",
          "data": {
            "text/plain": [
              "True"
            ]
          },
          "metadata": {},
          "execution_count": 22
        }
      ]
    },
    {
      "cell_type": "code",
      "source": [
        "# Iterate the list\n",
        "for element in list3:\n",
        "  print(element)"
      ],
      "metadata": {
        "colab": {
          "base_uri": "https://localhost:8080/"
        },
        "id": "NPTVLaK-iXYT",
        "outputId": "9e360fdf-8622-46d5-d2eb-ef21bcf64894"
      },
      "execution_count": null,
      "outputs": [
        {
          "output_type": "stream",
          "name": "stdout",
          "text": [
            "1\n",
            "Python\n",
            "is\n",
            "3\n",
            "Awesome\n",
            "4\n",
            "4\n",
            "5\n",
            "6\n",
            "[7, 8]\n"
          ]
        }
      ]
    },
    {
      "cell_type": "code",
      "source": [
        "# Lenght of the list\n",
        "len(list3)"
      ],
      "metadata": {
        "colab": {
          "base_uri": "https://localhost:8080/"
        },
        "id": "louOI78eikKs",
        "outputId": "77afc951-207b-4966-b23f-d5c24919a10b"
      },
      "execution_count": null,
      "outputs": [
        {
          "output_type": "execute_result",
          "data": {
            "text/plain": [
              "10"
            ]
          },
          "metadata": {},
          "execution_count": 24
        }
      ]
    },
    {
      "cell_type": "code",
      "source": [
        "# Sorting list only for one type of data\n",
        "sorted(list2)"
      ],
      "metadata": {
        "colab": {
          "base_uri": "https://localhost:8080/"
        },
        "id": "7eXxaZzeirNa",
        "outputId": "45263606-587d-4d7b-b1b1-8bd03c77d73e"
      },
      "execution_count": null,
      "outputs": [
        {
          "output_type": "execute_result",
          "data": {
            "text/plain": [
              "['Awesome', 'Python', 'is']"
            ]
          },
          "metadata": {},
          "execution_count": 28
        }
      ]
    },
    {
      "cell_type": "code",
      "source": [
        "# Access a particular element into another element\n",
        "list3[9][1]"
      ],
      "metadata": {
        "colab": {
          "base_uri": "https://localhost:8080/"
        },
        "id": "4rfEQwunjdgI",
        "outputId": "469dc107-c089-4432-d574-f1a753bbd468"
      },
      "execution_count": null,
      "outputs": [
        {
          "output_type": "execute_result",
          "data": {
            "text/plain": [
              "8"
            ]
          },
          "metadata": {},
          "execution_count": 33
        }
      ]
    },
    {
      "cell_type": "code",
      "source": [
        "test = [\"This\" , \"is\", \"1\", \"list\"]\n",
        "test[1]"
      ],
      "metadata": {
        "colab": {
          "base_uri": "https://localhost:8080/",
          "height": 35
        },
        "id": "Pe00HnoikeZW",
        "outputId": "9f6e8744-df0d-4d84-8e40-a37702a00399"
      },
      "execution_count": null,
      "outputs": [
        {
          "output_type": "execute_result",
          "data": {
            "application/vnd.google.colaboratory.intrinsic+json": {
              "type": "string"
            },
            "text/plain": [
              "'is'"
            ]
          },
          "metadata": {},
          "execution_count": 35
        }
      ]
    },
    {
      "cell_type": "code",
      "source": [
        "my_list = [[\"A\", \"B\"], [\"X\", \"A\"], [\"B\", \"A\"], [\"A\", \"X\"]]\n",
        "my_list[2][1]"
      ],
      "metadata": {
        "colab": {
          "base_uri": "https://localhost:8080/",
          "height": 35
        },
        "id": "rrxhvPeRknv6",
        "outputId": "c124feb4-183f-42d3-9e31-cfa340c26b51"
      },
      "execution_count": null,
      "outputs": [
        {
          "output_type": "execute_result",
          "data": {
            "application/vnd.google.colaboratory.intrinsic+json": {
              "type": "string"
            },
            "text/plain": [
              "'A'"
            ]
          },
          "metadata": {},
          "execution_count": 36
        }
      ]
    },
    {
      "cell_type": "markdown",
      "source": [
        "*Challenge*"
      ],
      "metadata": {
        "id": "j2Ji3Wi7lJAj"
      }
    },
    {
      "cell_type": "code",
      "source": [
        "students_mark = [[\"Name\",[\"A\", \"B\", \"C\", \"D\", \"E\"]],\n",
        "                 [\"Ankit\",[41, 34, 45, 55, 63]],\n",
        "                 [\"Aravind\",[42, 23, 34, 44, 53]],\n",
        "                 [\"lakshay\",[32, 23, 13, 54, 67]],\n",
        "                 [\"Gyan\",[23, 82, 23, 63, 34]],\n",
        "                 [\"Pranav\",[21, 23, 25, 56, 56]]\n",
        "                 ]\n",
        "students_mark"
      ],
      "metadata": {
        "colab": {
          "base_uri": "https://localhost:8080/"
        },
        "id": "FuhG7NeDlNEX",
        "outputId": "69694dd4-d5e6-4829-ec26-8af92ea9c6e5"
      },
      "execution_count": null,
      "outputs": [
        {
          "output_type": "execute_result",
          "data": {
            "text/plain": [
              "[['Name', ['A', 'B', 'C', 'D', 'E']],\n",
              " ['Ankit', [41, 34, 45, 55, 63]],\n",
              " ['Aravind', [42, 23, 34, 44, 53]],\n",
              " ['lakshay', [32, 23, 13, 54, 67]],\n",
              " ['Gyan', [23, 82, 23, 63, 34]],\n",
              " ['Pranav', [21, 23, 25, 56, 56]]]"
            ]
          },
          "metadata": {},
          "execution_count": 42
        }
      ]
    },
    {
      "cell_type": "code",
      "source": [
        "students_mark[0]"
      ],
      "metadata": {
        "colab": {
          "base_uri": "https://localhost:8080/"
        },
        "id": "XRVzIrkbmgfD",
        "outputId": "c531d5eb-68cb-4fd9-84b3-b641973deb7e"
      },
      "execution_count": null,
      "outputs": [
        {
          "output_type": "execute_result",
          "data": {
            "text/plain": [
              "['Name', ['A', 'B', 'C', 'D', 'E']]"
            ]
          },
          "metadata": {},
          "execution_count": 43
        }
      ]
    },
    {
      "cell_type": "code",
      "source": [
        "students_mark[3][1]"
      ],
      "metadata": {
        "colab": {
          "base_uri": "https://localhost:8080/"
        },
        "id": "UxsvmodNmpXG",
        "outputId": "5b9d54ef-5fd6-4d86-c538-a0fb7c2eb7ba"
      },
      "execution_count": null,
      "outputs": [
        {
          "output_type": "execute_result",
          "data": {
            "text/plain": [
              "[32, 23, 13, 54, 67]"
            ]
          },
          "metadata": {},
          "execution_count": 44
        }
      ]
    },
    {
      "cell_type": "code",
      "source": [
        "students_mark[5][1][3]"
      ],
      "metadata": {
        "colab": {
          "base_uri": "https://localhost:8080/"
        },
        "id": "cbCItVErmpli",
        "outputId": "f652962f-de3d-4dff-f5d4-028975e86bc8"
      },
      "execution_count": null,
      "outputs": [
        {
          "output_type": "execute_result",
          "data": {
            "text/plain": [
              "56"
            ]
          },
          "metadata": {},
          "execution_count": 45
        }
      ]
    },
    {
      "cell_type": "code",
      "source": [
        "# Select the name of the student and mark the subject B without the title\n",
        "\n",
        "for students in students_mark[1:]:\n",
        "  name = students[0]\n",
        "  mark_in_B = students[1][1]\n",
        "  print(name, mark_in_B)"
      ],
      "metadata": {
        "colab": {
          "base_uri": "https://localhost:8080/"
        },
        "id": "F2KfusegmpqP",
        "outputId": "8a370965-296d-4594-8315-15a499a16058"
      },
      "execution_count": null,
      "outputs": [
        {
          "output_type": "stream",
          "name": "stdout",
          "text": [
            "Ankit 34\n",
            "Aravind 23\n",
            "lakshay 23\n",
            "Gyan 82\n",
            "Pranav 23\n"
          ]
        }
      ]
    },
    {
      "cell_type": "code",
      "source": [
        "# Create other list with names and mark subject B\n",
        "student_mark_B = []\n",
        "\n",
        "for students in students_mark[1:]:\n",
        "  name = students[0]\n",
        "  mark_in_B = students[1][1]\n",
        "  student_mark_B.append([mark_in_B,name])\n",
        "\n",
        "student_mark_B"
      ],
      "metadata": {
        "colab": {
          "base_uri": "https://localhost:8080/"
        },
        "id": "x9wc1BPNpAK1",
        "outputId": "56da7d9b-63ce-42aa-8f98-750911677e71"
      },
      "execution_count": null,
      "outputs": [
        {
          "output_type": "execute_result",
          "data": {
            "text/plain": [
              "[[34, 'Ankit'], [23, 'Aravind'], [23, 'lakshay'], [82, 'Gyan'], [23, 'Pranav']]"
            ]
          },
          "metadata": {},
          "execution_count": 57
        }
      ]
    },
    {
      "cell_type": "code",
      "source": [
        "sorted(student_mark_B)"
      ],
      "metadata": {
        "colab": {
          "base_uri": "https://localhost:8080/"
        },
        "id": "G-s50VW_pmir",
        "outputId": "ea24ffa8-66b5-4c7c-b57d-4e39b1fc6e05"
      },
      "execution_count": null,
      "outputs": [
        {
          "output_type": "execute_result",
          "data": {
            "text/plain": [
              "[[23, 'Aravind'], [23, 'Pranav'], [23, 'lakshay'], [34, 'Ankit'], [82, 'Gyan']]"
            ]
          },
          "metadata": {},
          "execution_count": 58
        }
      ]
    },
    {
      "cell_type": "code",
      "source": [
        "sorted(student_mark_B, reverse=True)"
      ],
      "metadata": {
        "colab": {
          "base_uri": "https://localhost:8080/"
        },
        "id": "0Inhgs8SqipD",
        "outputId": "27a579b8-ea9b-4da4-988f-b55c01224c85"
      },
      "execution_count": null,
      "outputs": [
        {
          "output_type": "execute_result",
          "data": {
            "text/plain": [
              "[[82, 'Gyan'], [34, 'Ankit'], [23, 'lakshay'], [23, 'Pranav'], [23, 'Aravind']]"
            ]
          },
          "metadata": {},
          "execution_count": 60
        }
      ]
    },
    {
      "cell_type": "markdown",
      "source": [
        "# **TUPLE ( )**"
      ],
      "metadata": {
        "id": "dHAnld0zew3U"
      }
    },
    {
      "cell_type": "code",
      "source": [
        "my_tuple1 = (1, 2, 3, \"Hello\") # Also ordered elements\n",
        "my_tuple = (\"A\", \"B\", \"C\",\"D\", \"D\", \"E\", 1, \"D\")\n",
        "my_tuple #Immutable data structure"
      ],
      "metadata": {
        "colab": {
          "base_uri": "https://localhost:8080/"
        },
        "id": "tNz-BnvfeljU",
        "outputId": "01e4ba8e-7655-4bd3-bbdf-a2698eafd7e7"
      },
      "execution_count": null,
      "outputs": [
        {
          "output_type": "execute_result",
          "data": {
            "text/plain": [
              "('A', 'B', 'C', 'D', 'D', 'E', 1, 'D')"
            ]
          },
          "metadata": {},
          "execution_count": 2
        }
      ]
    },
    {
      "cell_type": "code",
      "source": [
        "my_tuple[2]"
      ],
      "metadata": {
        "id": "_EXe1ZlLe9oh",
        "colab": {
          "base_uri": "https://localhost:8080/",
          "height": 35
        },
        "outputId": "35f72902-e383-4dc9-8b9c-39783bfa59b7"
      },
      "execution_count": null,
      "outputs": [
        {
          "output_type": "execute_result",
          "data": {
            "application/vnd.google.colaboratory.intrinsic+json": {
              "type": "string"
            },
            "text/plain": [
              "'C'"
            ]
          },
          "metadata": {},
          "execution_count": 3
        }
      ]
    },
    {
      "cell_type": "code",
      "source": [
        "# Find out the index of element\n",
        "my_tuple.index(\"E\")"
      ],
      "metadata": {
        "colab": {
          "base_uri": "https://localhost:8080/"
        },
        "id": "8fNTJME4x4fG",
        "outputId": "788d0828-905b-40cf-8f52-a9a9bab370ab"
      },
      "execution_count": null,
      "outputs": [
        {
          "output_type": "execute_result",
          "data": {
            "text/plain": [
              "5"
            ]
          },
          "metadata": {},
          "execution_count": 4
        }
      ]
    },
    {
      "cell_type": "code",
      "source": [
        "# Count how many elements there are\n",
        "my_tuple.count(\"D\")"
      ],
      "metadata": {
        "colab": {
          "base_uri": "https://localhost:8080/"
        },
        "id": "mOuFqRFKyEqV",
        "outputId": "0dc1c4cb-a04b-4c9b-8c73-557d26aef01b"
      },
      "execution_count": null,
      "outputs": [
        {
          "output_type": "execute_result",
          "data": {
            "text/plain": [
              "3"
            ]
          },
          "metadata": {},
          "execution_count": 6
        }
      ]
    },
    {
      "cell_type": "code",
      "source": [
        "# Show elements in the list\n",
        "for element in my_tuple:\n",
        "  print(element)"
      ],
      "metadata": {
        "colab": {
          "base_uri": "https://localhost:8080/"
        },
        "id": "IS4t758eyQ3w",
        "outputId": "dd492298-25ce-4cec-8063-17d8e6a3ffc3"
      },
      "execution_count": null,
      "outputs": [
        {
          "output_type": "stream",
          "name": "stdout",
          "text": [
            "A\n",
            "B\n",
            "C\n",
            "D\n",
            "D\n",
            "E\n",
            "1\n",
            "D\n"
          ]
        }
      ]
    },
    {
      "cell_type": "code",
      "source": [
        "#Show first three elements\n",
        "my_tuple[:3]"
      ],
      "metadata": {
        "colab": {
          "base_uri": "https://localhost:8080/"
        },
        "id": "hUQCqHR6yl3Z",
        "outputId": "0466caf1-d1d4-4f2e-ae86-e9c73ed38a2d"
      },
      "execution_count": null,
      "outputs": [
        {
          "output_type": "execute_result",
          "data": {
            "text/plain": [
              "('A', 'B', 'C')"
            ]
          },
          "metadata": {},
          "execution_count": 8
        }
      ]
    },
    {
      "cell_type": "code",
      "source": [
        "# Combine slides with '.index' or '.count'\n",
        "my_tuple[2:5].count(\"D\")"
      ],
      "metadata": {
        "colab": {
          "base_uri": "https://localhost:8080/"
        },
        "id": "VToAyIOpywpT",
        "outputId": "ff724e13-26f4-495d-82ae-2f37938fb01b"
      },
      "execution_count": null,
      "outputs": [
        {
          "output_type": "execute_result",
          "data": {
            "text/plain": [
              "2"
            ]
          },
          "metadata": {},
          "execution_count": 14
        }
      ]
    },
    {
      "cell_type": "code",
      "source": [
        "# We can NOT use edit/update or delete elements from the tuples"
      ],
      "metadata": {
        "id": "biZHmCBRzTde"
      },
      "execution_count": null,
      "outputs": []
    },
    {
      "cell_type": "code",
      "source": [
        "my_tuple2 = (\"A\", \"B\", \"C\", \"D\", \"E\", \"E\", 1, \"D\")\n",
        "my_tuple2.index(\"E\")"
      ],
      "metadata": {
        "colab": {
          "base_uri": "https://localhost:8080/"
        },
        "id": "8Ht-TLaPztg1",
        "outputId": "e6c48593-bae5-4909-e73f-7b2dbe98f9ae"
      },
      "execution_count": null,
      "outputs": [
        {
          "output_type": "execute_result",
          "data": {
            "text/plain": [
              "4"
            ]
          },
          "metadata": {},
          "execution_count": 16
        }
      ]
    },
    {
      "cell_type": "code",
      "source": [
        "my_tuple3 = (\"A\", \"B\", \"B\", \"C\", \"B\", \"D\")\n",
        "my_tuple3[2:5].count(\"B\")"
      ],
      "metadata": {
        "colab": {
          "base_uri": "https://localhost:8080/"
        },
        "id": "lvHGHQlK0DhM",
        "outputId": "cac86ab0-03ed-41d4-9ce3-4c8b37f4efd0"
      },
      "execution_count": null,
      "outputs": [
        {
          "output_type": "execute_result",
          "data": {
            "text/plain": [
              "2"
            ]
          },
          "metadata": {},
          "execution_count": 17
        }
      ]
    },
    {
      "cell_type": "code",
      "source": [
        "my_tuple4 = ((1, 2, 3, 1),\n",
        "             (1, 1, 1, 2),\n",
        "             (2, 1, 2, 1),\n",
        "             (1, 2, 1, 1))\n",
        "my_tuple4[1][1:3]"
      ],
      "metadata": {
        "colab": {
          "base_uri": "https://localhost:8080/"
        },
        "id": "qma5Wl080S7P",
        "outputId": "1874fb8c-11e5-4459-87b8-dbc24d7e829c"
      },
      "execution_count": null,
      "outputs": [
        {
          "output_type": "execute_result",
          "data": {
            "text/plain": [
              "(1, 1)"
            ]
          },
          "metadata": {},
          "execution_count": 18
        }
      ]
    },
    {
      "cell_type": "markdown",
      "source": [
        "# **SETS { }**"
      ],
      "metadata": {
        "id": "BsNrHv2x3O1V"
      }
    },
    {
      "cell_type": "code",
      "source": [
        "from google.colab import drive\n",
        "drive.mount('/content/drive')"
      ],
      "metadata": {
        "id": "J3GzbJAfzqTS"
      },
      "execution_count": null,
      "outputs": []
    },
    {
      "cell_type": "code",
      "source": [
        "list_of_sports = [\"Soccer\", \"Tennis\", \"Cricket\", \"Soccer\", \"Golf\"]\n",
        "\n",
        "# unordered collection of elements\n",
        "set_of_sports = {\"Soccer\", \"Tennis\", \"Cricket\", \"Golf\"} # not necessarly repeat an element\n",
        "my_set = {\"A\", \"B\", \"C\", \"D\", 1, \"E\", 2, 4,4}\n",
        "my_set # The order doesn't matter and there aren't duplicate elements. Autoatically removed "
      ],
      "metadata": {
        "colab": {
          "base_uri": "https://localhost:8080/"
        },
        "id": "_hyF567_3QLS",
        "outputId": "92755032-bc96-4fc9-9e1f-07d600a7db87"
      },
      "execution_count": null,
      "outputs": [
        {
          "output_type": "execute_result",
          "data": {
            "text/plain": [
              "{1, 2, 4, 'A', 'B', 'C', 'D', 'E'}"
            ]
          },
          "metadata": {},
          "execution_count": 1
        }
      ]
    },
    {
      "cell_type": "code",
      "source": [
        "# Convert from list to set\n",
        "my_list = [\"A\", \"B\", 1, 2, \"B\", \"A\"]\n",
        "from_list_to_set = set(my_list)\n",
        "print(\n",
        "    my_list,\n",
        "from_list_to_set)"
      ],
      "metadata": {
        "colab": {
          "base_uri": "https://localhost:8080/"
        },
        "id": "MzlPgI8p5R-B",
        "outputId": "ca4dd08f-3b1f-4400-9119-02c127aaf728"
      },
      "execution_count": null,
      "outputs": [
        {
          "output_type": "stream",
          "name": "stdout",
          "text": [
            "['A', 'B', 1, 2, 'B', 'A'] {1, 2, 'B', 'A'}\n"
          ]
        }
      ]
    },
    {
      "cell_type": "code",
      "source": [
        "# Convert from tuple to set\n",
        "my_tuple = (\"A\", \"B\", 1, 2, \"B\", \"A\")\n",
        "from_tuple_to_set = set(my_tuple)\n",
        "print(\n",
        "my_tuple,\n",
        "from_tuple_to_set)"
      ],
      "metadata": {
        "colab": {
          "base_uri": "https://localhost:8080/",
          "height": 235
        },
        "id": "OeIBtAu8553X",
        "outputId": "11c0c15c-7255-4ff9-c083-b96bbcb7fd72"
      },
      "execution_count": null,
      "outputs": [
        {
          "output_type": "error",
          "ename": "NameError",
          "evalue": "ignored",
          "traceback": [
            "\u001b[0;31m---------------------------------------------------------------------------\u001b[0m",
            "\u001b[0;31mNameError\u001b[0m                                 Traceback (most recent call last)",
            "\u001b[0;32m<ipython-input-3-230b64d3e47a>\u001b[0m in \u001b[0;36m<module>\u001b[0;34m()\u001b[0m\n\u001b[0;32m----> 1\u001b[0;31m \u001b[0mç\u001b[0m\u001b[0;31m# Convert from tuple to set\u001b[0m\u001b[0;34m\u001b[0m\u001b[0;34m\u001b[0m\u001b[0m\n\u001b[0m\u001b[1;32m      2\u001b[0m \u001b[0mmy_tuple\u001b[0m \u001b[0;34m=\u001b[0m \u001b[0;34m(\u001b[0m\u001b[0;34m\"A\"\u001b[0m\u001b[0;34m,\u001b[0m \u001b[0;34m\"B\"\u001b[0m\u001b[0;34m,\u001b[0m \u001b[0;36m1\u001b[0m\u001b[0;34m,\u001b[0m \u001b[0;36m2\u001b[0m\u001b[0;34m,\u001b[0m \u001b[0;34m\"B\"\u001b[0m\u001b[0;34m,\u001b[0m \u001b[0;34m\"A\"\u001b[0m\u001b[0;34m)\u001b[0m\u001b[0;34m\u001b[0m\u001b[0;34m\u001b[0m\u001b[0m\n\u001b[1;32m      3\u001b[0m \u001b[0mfrom_tuple_to_set\u001b[0m \u001b[0;34m=\u001b[0m \u001b[0mset\u001b[0m\u001b[0;34m(\u001b[0m\u001b[0mmy_tuple\u001b[0m\u001b[0;34m)\u001b[0m\u001b[0;34m\u001b[0m\u001b[0;34m\u001b[0m\u001b[0m\n\u001b[1;32m      4\u001b[0m print(\n\u001b[1;32m      5\u001b[0m \u001b[0mmy_tuple\u001b[0m\u001b[0;34m,\u001b[0m\u001b[0;34m\u001b[0m\u001b[0;34m\u001b[0m\u001b[0m\n",
            "\u001b[0;31mNameError\u001b[0m: name 'ç' is not defined"
          ]
        }
      ]
    },
    {
      "cell_type": "code",
      "source": [
        "# We can add elements\n",
        "my_set.add(0)\n",
        "my_set"
      ],
      "metadata": {
        "id": "K72jQALu556V"
      },
      "execution_count": null,
      "outputs": []
    },
    {
      "cell_type": "code",
      "source": [
        "# Discard/Remove\n",
        "my_set.discard(\"A\")\n",
        "my_set"
      ],
      "metadata": {
        "id": "6WhSs8wk6j5M"
      },
      "execution_count": null,
      "outputs": []
    },
    {
      "cell_type": "code",
      "source": [
        "my_set.remove(2)\n",
        "my_set"
      ],
      "metadata": {
        "id": "i-NFs4d77Br-"
      },
      "execution_count": null,
      "outputs": []
    },
    {
      "cell_type": "code",
      "source": [
        "# With sets, you can play with the theory operations (intersection, union...)\n",
        "print(my_set,from_list_to_set)"
      ],
      "metadata": {
        "id": "ty5quHub4TF2"
      },
      "execution_count": null,
      "outputs": []
    },
    {
      "cell_type": "code",
      "source": [
        "# Difference of two sets\n",
        "print(\n",
        "my_set.difference(from_list_to_set),\n",
        "from_list_to_set.difference(my_set))\n",
        "\n",
        "# If you want to save the result, just use difference.update"
      ],
      "metadata": {
        "id": "udmm0mCh7NGC"
      },
      "execution_count": null,
      "outputs": []
    },
    {
      "cell_type": "code",
      "source": [
        "# Intersection of two sets\n",
        "print(\n",
        "    my_set.intersection(from_list_to_set),\n",
        "    from_list_to_set.intersection(my_set)\n",
        ")\n",
        "\n",
        "# If you want to save the results, use intersection_update"
      ],
      "metadata": {
        "id": "-MVJDtQm7cDs"
      },
      "execution_count": null,
      "outputs": []
    },
    {
      "cell_type": "code",
      "source": [
        "sample_set1 = {\"A\", \"B\", \"C\", \"D\", \"E\", \"F\"}\n",
        "sample_set2 = {\"A\", \"D\", \"E\"}\n",
        "sample_set3 = {\"S\", \"T\", \"U\"}\n",
        "sample_set1, sample_set2"
      ],
      "metadata": {
        "id": "V8PYcKm68pTB"
      },
      "execution_count": null,
      "outputs": []
    },
    {
      "cell_type": "code",
      "source": [
        "# Check if two sets are disjoint\n",
        "print(\n",
        "    sample_set1.isdisjoint(sample_set2),\n",
        "    sample_set2.isdisjoint(sample_set1)\n",
        ")\n"
      ],
      "metadata": {
        "id": "LHYKcTF39Lp2"
      },
      "execution_count": null,
      "outputs": []
    },
    {
      "cell_type": "code",
      "source": [
        "# Check if one is a subset/superset of another\n",
        "print(\n",
        "    sample_set2.issubset(sample_set1),\n",
        "    sample_set1.issubset(sample_set2))\n",
        "print(\n",
        "    sample_set1.issuperset(sample_set2),\n",
        "    sample_set2.issuperset(sample_set1)\n",
        ")"
      ],
      "metadata": {
        "id": "hTpxQMhA9n7h"
      },
      "execution_count": null,
      "outputs": []
    },
    {
      "cell_type": "code",
      "source": [
        "# Unions of two sets\n",
        "sample_set1.union(sample_set3)\n",
        "# Doesn't save the result"
      ],
      "metadata": {
        "id": "PLGBA9SL91R1"
      },
      "execution_count": null,
      "outputs": []
    },
    {
      "cell_type": "code",
      "source": [
        "# Update sets\n",
        "sample_set3.update({\"C\", \"D\", \"S\", \"Z\"})\n",
        "sample_set3"
      ],
      "metadata": {
        "id": "XAfVNRhC-9mc"
      },
      "execution_count": null,
      "outputs": []
    },
    {
      "cell_type": "code",
      "source": [
        "# Show the elements of the set\n",
        "for element in sample_set1:\n",
        "  print(element)"
      ],
      "metadata": {
        "id": "l5xJOM3i_zoI"
      },
      "execution_count": null,
      "outputs": []
    },
    {
      "cell_type": "code",
      "source": [
        "# Define 3 random sets\n",
        "set1 = {1, 2, 3, 4, 5, 6}\n",
        "set2 = {1, 4, 3}\n",
        "set1.isdisjoint(set2)"
      ],
      "metadata": {
        "id": "ma-qg31h_9ih"
      },
      "execution_count": null,
      "outputs": []
    },
    {
      "cell_type": "code",
      "source": [
        "set3 = {1, 2, 3, 4, 5, 6}\n",
        "set4 = {1, 4, 7}\n",
        "set3.issuperset(set4)"
      ],
      "metadata": {
        "id": "6TqHw4GuA2JZ"
      },
      "execution_count": null,
      "outputs": []
    },
    {
      "cell_type": "code",
      "source": [
        "dat = ((1, 2, 3, 4, 5),\n",
        "        (2, 1, 1, 3, 1),\n",
        "        (1, 2, 2, 1, 1),\n",
        "        (1, 1, 2, 3, 1))\n",
        "set(dat[0]).intersection(set(dat[2]))"
      ],
      "metadata": {
        "id": "wUK3aijCBMUq"
      },
      "execution_count": null,
      "outputs": []
    },
    {
      "cell_type": "markdown",
      "source": [
        "# **Dictionary**"
      ],
      "metadata": {
        "id": "3M_4Af53C1UR"
      }
    },
    {
      "cell_type": "code",
      "source": [
        "employee_info = {\n",
        "    \"names\": [\"Ramesh\", \"Suresh\", \"Sudesh\"],\n",
        "    \"height\": [150, 145, 165],\n",
        "    \"weight\": [56, 60, 65],\n",
        "    \"age\": [23, 45, 58]\n",
        "}\n",
        "employee_info"
      ],
      "metadata": {
        "colab": {
          "base_uri": "https://localhost:8080/"
        },
        "id": "PCu5CIk2C3LH",
        "outputId": "deb53c78-7453-43bb-ec8c-c2c7dc700411"
      },
      "execution_count": null,
      "outputs": [
        {
          "output_type": "execute_result",
          "data": {
            "text/plain": [
              "{'age': [23, 45, 58],\n",
              " 'height': [150, 145, 165],\n",
              " 'names': ['Ramesh', 'Suresh', 'Sudesh'],\n",
              " 'weight': [56, 60, 65]}"
            ]
          },
          "metadata": {},
          "execution_count": 70
        }
      ]
    },
    {
      "cell_type": "code",
      "source": [
        "# Key: Value. The value can be number, list...\n",
        "dict1 = {\"Ramesh\": 150,\"Suresh\": 146, \"Sudesh\": 160}\n",
        "dict1"
      ],
      "metadata": {
        "colab": {
          "base_uri": "https://localhost:8080/"
        },
        "id": "e_-4jmqgD6Df",
        "outputId": "430f4c6d-d8c4-408b-a6db-f7d64a2c3fc3"
      },
      "execution_count": null,
      "outputs": [
        {
          "output_type": "execute_result",
          "data": {
            "text/plain": [
              "{'Ramesh': 150, 'Sudesh': 160, 'Suresh': 146}"
            ]
          },
          "metadata": {},
          "execution_count": 73
        }
      ]
    },
    {
      "cell_type": "code",
      "source": [
        "# Acces the dictionary\n",
        "dict1[\"Suresh\"]"
      ],
      "metadata": {
        "colab": {
          "base_uri": "https://localhost:8080/"
        },
        "id": "pzl6UzSJEW06",
        "outputId": "e01e419d-ff38-421c-ad07-357ed36d6933"
      },
      "execution_count": null,
      "outputs": [
        {
          "output_type": "execute_result",
          "data": {
            "text/plain": [
              "146"
            ]
          },
          "metadata": {},
          "execution_count": 74
        }
      ]
    },
    {
      "cell_type": "code",
      "source": [
        "# Adding elements\n",
        "dict1[\"Neeraj\"]=176\n",
        "dict1"
      ],
      "metadata": {
        "colab": {
          "base_uri": "https://localhost:8080/"
        },
        "id": "A9YtT-daEvum",
        "outputId": "740c8d9b-1064-460b-ec1c-c4d2d5029c5c"
      },
      "execution_count": null,
      "outputs": [
        {
          "output_type": "execute_result",
          "data": {
            "text/plain": [
              "{'Neeraj': 176, 'Ramesh': 150, 'Sudesh': 160, 'Suresh': 146}"
            ]
          },
          "metadata": {},
          "execution_count": 77
        }
      ]
    },
    {
      "cell_type": "code",
      "source": [
        "# If you eant to add multiple elements, you can use 'update'\n",
        "dict1.update({\"Sunil\": 150, \"Disha\": 155})\n",
        "dict1"
      ],
      "metadata": {
        "colab": {
          "base_uri": "https://localhost:8080/"
        },
        "id": "ETO9pRv4E4z-",
        "outputId": "186ae9eb-0d14-436f-da33-4800d559e837"
      },
      "execution_count": null,
      "outputs": [
        {
          "output_type": "execute_result",
          "data": {
            "text/plain": [
              "{'Disha': 155,\n",
              " 'Neeraj': 176,\n",
              " 'Ramesh': 150,\n",
              " 'Sudesh': 160,\n",
              " 'Sunil': 150,\n",
              " 'Suresh': 146}"
            ]
          },
          "metadata": {},
          "execution_count": 78
        }
      ]
    },
    {
      "cell_type": "code",
      "source": [
        "# Delet a single element\n",
        "del dict1[\"Ramesh\"]\n",
        "dict1"
      ],
      "metadata": {
        "colab": {
          "base_uri": "https://localhost:8080/"
        },
        "id": "vEvsgRipFPAx",
        "outputId": "5e40cbb9-8546-4d59-a110-3370c4104c0b"
      },
      "execution_count": null,
      "outputs": [
        {
          "output_type": "execute_result",
          "data": {
            "text/plain": [
              "{'Disha': 155, 'Neeraj': 176, 'Sudesh': 160, 'Sunil': 150, 'Suresh': 146}"
            ]
          },
          "metadata": {},
          "execution_count": 79
        }
      ]
    },
    {
      "cell_type": "code",
      "source": [
        "my_dictionary = {\n",
        "    \"name\"      : \"Alejandro\",\n",
        "    \"age\"       :  24,\n",
        "    \"roll_on\"   : \"QRQ878\",\n",
        "    \"percentage\":  85,\n",
        "    \"attendance\":  3.67,\n",
        "    \"city\"      : \"Bucaramanga\",\n",
        "    \"country\"   : \"Colombia\"\n",
        "    }\n",
        "\n",
        "my_dictionary"
      ],
      "metadata": {
        "colab": {
          "base_uri": "https://localhost:8080/"
        },
        "id": "wYIBwhlXFagB",
        "outputId": "93bd8faa-f3a6-4ac9-b497-4a783af520c2"
      },
      "execution_count": null,
      "outputs": [
        {
          "output_type": "execute_result",
          "data": {
            "text/plain": [
              "{'age': 24,\n",
              " 'attendance': 3.67,\n",
              " 'city': 'Bucaramanga',\n",
              " 'country': 'Colombia',\n",
              " 'name': 'Alejandro',\n",
              " 'percentage': 85,\n",
              " 'roll_on': 'QRQ878'}"
            ]
          },
          "metadata": {},
          "execution_count": 80
        }
      ]
    },
    {
      "cell_type": "code",
      "source": [
        "# We can't use the index 'my_dictionary[3]'\n",
        "my_dictionary[\"name\"]"
      ],
      "metadata": {
        "colab": {
          "base_uri": "https://localhost:8080/",
          "height": 35
        },
        "id": "LQPj_iWdGWjy",
        "outputId": "c6f5a800-6621-49b7-fa3f-2bea3f0d5e9f"
      },
      "execution_count": null,
      "outputs": [
        {
          "output_type": "execute_result",
          "data": {
            "application/vnd.google.colaboratory.intrinsic+json": {
              "type": "string"
            },
            "text/plain": [
              "'Alejandro'"
            ]
          },
          "metadata": {},
          "execution_count": 81
        }
      ]
    },
    {
      "cell_type": "code",
      "source": [
        "# You can know what is the keys and the values\n",
        "print(\n",
        "    my_dictionary.keys(),\n",
        "    my_dictionary.values()\n",
        ")"
      ],
      "metadata": {
        "colab": {
          "base_uri": "https://localhost:8080/"
        },
        "id": "0m1-zJpTGtNZ",
        "outputId": "2c0696ec-e51f-4421-a3e6-b4644849cfdc"
      },
      "execution_count": null,
      "outputs": [
        {
          "output_type": "stream",
          "name": "stdout",
          "text": [
            "dict_keys(['name', 'age', 'roll_on', 'percentage', 'attendance', 'city', 'country']) dict_values(['Alejandro', 24, 'QRQ878', 85, 3.67, 'Bucaramanga', 'Colombia'])\n"
          ]
        }
      ]
    },
    {
      "cell_type": "code",
      "source": [
        "my_dictionary.items()"
      ],
      "metadata": {
        "colab": {
          "base_uri": "https://localhost:8080/"
        },
        "id": "LQpJg_pqHMvQ",
        "outputId": "9fd27b45-0fb1-4de6-9366-e0b16360a732"
      },
      "execution_count": null,
      "outputs": [
        {
          "output_type": "execute_result",
          "data": {
            "text/plain": [
              "dict_items([('name', 'Alejandro'), ('age', 24), ('roll_on', 'QRQ878'), ('percentage', 85), ('attendance', 3.67), ('city', 'Bucaramanga'), ('country', 'Colombia')])"
            ]
          },
          "metadata": {},
          "execution_count": 83
        }
      ]
    },
    {
      "cell_type": "code",
      "source": [
        "#Add and Update\n",
        "my_dictionary[\"new_key\"] = \"new_value\"\n",
        "my_dictionary.update({\"pincode\": 2150744, \"last_name\": \"Pinto\"})\n",
        "my_dictionary"
      ],
      "metadata": {
        "colab": {
          "base_uri": "https://localhost:8080/"
        },
        "id": "OgAJVw0mHBNp",
        "outputId": "65fd2af3-bdfd-4bf1-969d-7fb090f5c47b"
      },
      "execution_count": null,
      "outputs": [
        {
          "output_type": "execute_result",
          "data": {
            "text/plain": [
              "{'age': 24,\n",
              " 'attendance': 3.67,\n",
              " 'city': 'Bucaramanga',\n",
              " 'country': 'Colombia',\n",
              " 'last_name': 'Pinto',\n",
              " 'name': 'Alejandro',\n",
              " 'new_key': ['new_value'],\n",
              " 'percentage': 85,\n",
              " 'pincode': 2150744,\n",
              " 'roll_on': 'QRQ878'}"
            ]
          },
          "metadata": {},
          "execution_count": 88
        }
      ]
    },
    {
      "cell_type": "code",
      "source": [
        "# Override the value if you add the same key. the keys are inmutable"
      ],
      "metadata": {
        "id": "yUYvmwOqHhqu"
      },
      "execution_count": null,
      "outputs": []
    },
    {
      "cell_type": "code",
      "source": [
        "# Show the elements of a dictionary\n",
        "for key, value in my_dictionary.items():\n",
        "  print(key,value)\n",
        "\n",
        "sorted(my_dictionary.items())"
      ],
      "metadata": {
        "colab": {
          "base_uri": "https://localhost:8080/"
        },
        "id": "ROFpsOJmJJeP",
        "outputId": "e3ad499e-1aa5-4c2e-bab5-6296378627f9"
      },
      "execution_count": null,
      "outputs": [
        {
          "output_type": "stream",
          "name": "stdout",
          "text": [
            "name Alejandro\n",
            "age 24\n",
            "roll_on QRQ878\n",
            "percentage 85\n",
            "attendance 3.67\n",
            "city Bucaramanga\n",
            "country Colombia\n",
            "pincode 2150744\n",
            "last_name Pinto\n",
            "new_key ['new_value']\n"
          ]
        },
        {
          "output_type": "execute_result",
          "data": {
            "text/plain": [
              "[('age', 24),\n",
              " ('attendance', 3.67),\n",
              " ('city', 'Bucaramanga'),\n",
              " ('country', 'Colombia'),\n",
              " ('last_name', 'Pinto'),\n",
              " ('name', 'Alejandro'),\n",
              " ('new_key', ['new_value']),\n",
              " ('percentage', 85),\n",
              " ('pincode', 2150744),\n",
              " ('roll_on', 'QRQ878')]"
            ]
          },
          "metadata": {},
          "execution_count": 97
        }
      ]
    },
    {
      "cell_type": "markdown",
      "source": [
        "#**String Manipulation**"
      ],
      "metadata": {
        "id": "D7EfpgiZ5lyk"
      }
    },
    {
      "cell_type": "code",
      "source": [
        "myString = \"Analytics Vidhya creating next generation data sicence eco-system\""
      ],
      "metadata": {
        "id": "rrRpM_UpJSV4"
      },
      "execution_count": null,
      "outputs": []
    },
    {
      "cell_type": "markdown",
      "source": [],
      "metadata": {
        "id": "96em8qOR5frV"
      }
    },
    {
      "cell_type": "code",
      "source": [
        "len(myString)"
      ],
      "metadata": {
        "colab": {
          "base_uri": "https://localhost:8080/"
        },
        "id": "vF7_Pd-c6GEq",
        "outputId": "9b8c4205-bf74-43e5-c288-bbaf75856362"
      },
      "execution_count": null,
      "outputs": [
        {
          "output_type": "execute_result",
          "data": {
            "text/plain": [
              "65"
            ]
          },
          "metadata": {},
          "execution_count": 5
        }
      ]
    },
    {
      "cell_type": "code",
      "source": [
        "myString[0]"
      ],
      "metadata": {
        "colab": {
          "base_uri": "https://localhost:8080/",
          "height": 35
        },
        "id": "q7_0gasS6LCc",
        "outputId": "5b798f01-387a-40ec-e9bf-045e33be7398"
      },
      "execution_count": null,
      "outputs": [
        {
          "output_type": "execute_result",
          "data": {
            "application/vnd.google.colaboratory.intrinsic+json": {
              "type": "string"
            },
            "text/plain": [
              "'A'"
            ]
          },
          "metadata": {},
          "execution_count": 6
        }
      ]
    },
    {
      "cell_type": "code",
      "source": [
        "myString[-1]"
      ],
      "metadata": {
        "colab": {
          "base_uri": "https://localhost:8080/",
          "height": 35
        },
        "id": "ecgmndkQ6Qyg",
        "outputId": "3fb29829-749c-4660-812f-107c809f45c4"
      },
      "execution_count": null,
      "outputs": [
        {
          "output_type": "execute_result",
          "data": {
            "application/vnd.google.colaboratory.intrinsic+json": {
              "type": "string"
            },
            "text/plain": [
              "'m'"
            ]
          },
          "metadata": {},
          "execution_count": 7
        }
      ]
    },
    {
      "cell_type": "code",
      "source": [
        "myString[::-1]"
      ],
      "metadata": {
        "colab": {
          "base_uri": "https://localhost:8080/",
          "height": 35
        },
        "id": "oia0-zU86VjB",
        "outputId": "6ddc639b-edb5-411d-d022-282c7cacde98"
      },
      "execution_count": null,
      "outputs": [
        {
          "output_type": "execute_result",
          "data": {
            "application/vnd.google.colaboratory.intrinsic+json": {
              "type": "string"
            },
            "text/plain": [
              "'metsys-oce ecnecis atad noitareneg txen gnitaerc ayhdiV scitylanA'"
            ]
          },
          "metadata": {},
          "execution_count": 8
        }
      ]
    },
    {
      "cell_type": "code",
      "source": [
        "myString.count('c')"
      ],
      "metadata": {
        "colab": {
          "base_uri": "https://localhost:8080/"
        },
        "id": "AUevq7a16ZSB",
        "outputId": "e597a5b0-2494-4604-fc6f-08a7d9c50441"
      },
      "execution_count": null,
      "outputs": [
        {
          "output_type": "execute_result",
          "data": {
            "text/plain": [
              "5"
            ]
          },
          "metadata": {},
          "execution_count": 9
        }
      ]
    },
    {
      "cell_type": "code",
      "source": [
        "myString[10:-10]"
      ],
      "metadata": {
        "colab": {
          "base_uri": "https://localhost:8080/",
          "height": 35
        },
        "id": "_VlwWo3u6jOM",
        "outputId": "ea9b57ec-e4b4-40e6-e9e0-3d4dd9462d5b"
      },
      "execution_count": null,
      "outputs": [
        {
          "output_type": "execute_result",
          "data": {
            "application/vnd.google.colaboratory.intrinsic+json": {
              "type": "string"
            },
            "text/plain": [
              "'Vidhya creating next generation data sicence '"
            ]
          },
          "metadata": {},
          "execution_count": 10
        }
      ]
    },
    {
      "cell_type": "code",
      "source": [
        "myString.find('next')"
      ],
      "metadata": {
        "colab": {
          "base_uri": "https://localhost:8080/"
        },
        "id": "qS79Qo1L6sBl",
        "outputId": "1641efbc-867c-4b95-ead4-101b07831618"
      },
      "execution_count": null,
      "outputs": [
        {
          "output_type": "execute_result",
          "data": {
            "text/plain": [
              "26"
            ]
          },
          "metadata": {},
          "execution_count": 11
        }
      ]
    },
    {
      "cell_type": "code",
      "source": [
        "myString.endswith('system')"
      ],
      "metadata": {
        "colab": {
          "base_uri": "https://localhost:8080/"
        },
        "id": "Jnllyy-76yq2",
        "outputId": "7e9c0799-44ba-4d61-fb52-03385a2c7f03"
      },
      "execution_count": null,
      "outputs": [
        {
          "output_type": "execute_result",
          "data": {
            "text/plain": [
              "True"
            ]
          },
          "metadata": {},
          "execution_count": 12
        }
      ]
    },
    {
      "cell_type": "code",
      "source": [
        "myString.startswith('analytics')"
      ],
      "metadata": {
        "colab": {
          "base_uri": "https://localhost:8080/"
        },
        "id": "D2ipzYlS7HXM",
        "outputId": "3326ee33-7d87-4e8f-b0cf-4a8025274b14"
      },
      "execution_count": null,
      "outputs": [
        {
          "output_type": "execute_result",
          "data": {
            "text/plain": [
              "False"
            ]
          },
          "metadata": {},
          "execution_count": 13
        }
      ]
    },
    {
      "cell_type": "code",
      "source": [
        "myString.startswith('Analytics')"
      ],
      "metadata": {
        "colab": {
          "base_uri": "https://localhost:8080/"
        },
        "id": "OoBJhvue7LtE",
        "outputId": "449d2975-4d46-4e73-98c0-8c09c83eb34c"
      },
      "execution_count": null,
      "outputs": [
        {
          "output_type": "execute_result",
          "data": {
            "text/plain": [
              "True"
            ]
          },
          "metadata": {},
          "execution_count": 14
        }
      ]
    },
    {
      "cell_type": "code",
      "source": [
        "myString.upper()"
      ],
      "metadata": {
        "colab": {
          "base_uri": "https://localhost:8080/",
          "height": 35
        },
        "id": "uR-CdWf87PKH",
        "outputId": "ef569c87-3c73-439f-c6f3-1cc378db600e"
      },
      "execution_count": null,
      "outputs": [
        {
          "output_type": "execute_result",
          "data": {
            "application/vnd.google.colaboratory.intrinsic+json": {
              "type": "string"
            },
            "text/plain": [
              "'ANALYTICS VIDHYA CREATING NEXT GENERATION DATA SICENCE ECO-SYSTEM'"
            ]
          },
          "metadata": {},
          "execution_count": 16
        }
      ]
    },
    {
      "cell_type": "code",
      "source": [
        "'1'.isnumeric()"
      ],
      "metadata": {
        "colab": {
          "base_uri": "https://localhost:8080/"
        },
        "id": "pbFi6JiI7ZI5",
        "outputId": "6204a097-b921-4e47-ed3d-ac6c47246320"
      },
      "execution_count": null,
      "outputs": [
        {
          "output_type": "execute_result",
          "data": {
            "text/plain": [
              "True"
            ]
          },
          "metadata": {},
          "execution_count": 17
        }
      ]
    },
    {
      "cell_type": "code",
      "source": [
        "'w'.isalpha()"
      ],
      "metadata": {
        "colab": {
          "base_uri": "https://localhost:8080/"
        },
        "id": "5yLJ104e7tUC",
        "outputId": "f75299de-2d4b-4041-b6d9-eb1c4ce2685d"
      },
      "execution_count": null,
      "outputs": [
        {
          "output_type": "execute_result",
          "data": {
            "text/plain": [
              "True"
            ]
          },
          "metadata": {},
          "execution_count": 18
        }
      ]
    },
    {
      "cell_type": "code",
      "source": [
        "'1w'.isalnum()"
      ],
      "metadata": {
        "colab": {
          "base_uri": "https://localhost:8080/"
        },
        "id": "LalA7Qbc7vfp",
        "outputId": "4639f2d0-2063-4ba3-cf82-3acb27f9b23e"
      },
      "execution_count": null,
      "outputs": [
        {
          "output_type": "execute_result",
          "data": {
            "text/plain": [
              "True"
            ]
          },
          "metadata": {},
          "execution_count": 20
        }
      ]
    },
    {
      "cell_type": "code",
      "source": [
        "myString.isalpha() # don't recognize spaces"
      ],
      "metadata": {
        "colab": {
          "base_uri": "https://localhost:8080/"
        },
        "id": "BZX3tmsI7ygq",
        "outputId": "6acfc46b-452b-4120-a2ff-a24a727f0ac6"
      },
      "execution_count": null,
      "outputs": [
        {
          "output_type": "execute_result",
          "data": {
            "text/plain": [
              "False"
            ]
          },
          "metadata": {},
          "execution_count": 23
        }
      ]
    },
    {
      "cell_type": "code",
      "source": [
        "'java is easy to learn'.replace('java', 'python')"
      ],
      "metadata": {
        "colab": {
          "base_uri": "https://localhost:8080/",
          "height": 35
        },
        "id": "K9vPReaf7_G9",
        "outputId": "2a707da7-9080-4f5f-fdd8-ccc0f613a783"
      },
      "execution_count": null,
      "outputs": [
        {
          "output_type": "execute_result",
          "data": {
            "application/vnd.google.colaboratory.intrinsic+json": {
              "type": "string"
            },
            "text/plain": [
              "'python is easy to learn'"
            ]
          },
          "metadata": {},
          "execution_count": 24
        }
      ]
    },
    {
      "cell_type": "code",
      "source": [
        "'python is easy to learn'.split(' ')"
      ],
      "metadata": {
        "colab": {
          "base_uri": "https://localhost:8080/"
        },
        "id": "Hqh7p6Nc8LQR",
        "outputId": "ead70250-6325-4884-c214-ef54e597b0ec"
      },
      "execution_count": null,
      "outputs": [
        {
          "output_type": "execute_result",
          "data": {
            "text/plain": [
              "['python', 'is', 'easy', 'to', 'learn']"
            ]
          },
          "metadata": {},
          "execution_count": 25
        }
      ]
    },
    {
      "cell_type": "code",
      "source": [
        "'python is easy to learn'.split('easy')"
      ],
      "metadata": {
        "colab": {
          "base_uri": "https://localhost:8080/"
        },
        "id": "kSCpp2R88Q3f",
        "outputId": "8cdf32f5-1c03-498e-a73c-53c9a2dbad10"
      },
      "execution_count": null,
      "outputs": [
        {
          "output_type": "execute_result",
          "data": {
            "text/plain": [
              "['python is ', ' to learn']"
            ]
          },
          "metadata": {},
          "execution_count": 26
        }
      ]
    },
    {
      "cell_type": "code",
      "source": [
        "len('python is easy to learn'.split(' '))"
      ],
      "metadata": {
        "colab": {
          "base_uri": "https://localhost:8080/"
        },
        "id": "g6goPy2l8Wtl",
        "outputId": "99fab7ae-257e-4517-c952-255cd923fd9f"
      },
      "execution_count": null,
      "outputs": [
        {
          "output_type": "execute_result",
          "data": {
            "text/plain": [
              "5"
            ]
          },
          "metadata": {},
          "execution_count": 27
        }
      ]
    },
    {
      "cell_type": "markdown",
      "source": [
        "Quiz"
      ],
      "metadata": {
        "id": "KXn8qjVp8pjV"
      }
    },
    {
      "cell_type": "code",
      "source": [
        "my_string = 'ANALYTICS VIDHYA'\n",
        "my_string[::-1]"
      ],
      "metadata": {
        "colab": {
          "base_uri": "https://localhost:8080/",
          "height": 35
        },
        "id": "IoJsp-YJ8ilM",
        "outputId": "beadeb1f-57b1-4599-a6a2-655c944ef316"
      },
      "execution_count": null,
      "outputs": [
        {
          "output_type": "execute_result",
          "data": {
            "application/vnd.google.colaboratory.intrinsic+json": {
              "type": "string"
            },
            "text/plain": [
              "'AYHDIV SCITYLANA'"
            ]
          },
          "metadata": {},
          "execution_count": 28
        }
      ]
    },
    {
      "cell_type": "code",
      "source": [
        "#Statment A\n",
        "'analytics'.isalpha()"
      ],
      "metadata": {
        "colab": {
          "base_uri": "https://localhost:8080/"
        },
        "id": "8ZBj7PL08pVL",
        "outputId": "e981328c-fda8-4284-9b82-cad30740020b"
      },
      "execution_count": null,
      "outputs": [
        {
          "output_type": "execute_result",
          "data": {
            "text/plain": [
              "True"
            ]
          },
          "metadata": {},
          "execution_count": 29
        }
      ]
    },
    {
      "cell_type": "code",
      "source": [
        "#Statment B\n",
        "'analytics01'.isalnum()"
      ],
      "metadata": {
        "colab": {
          "base_uri": "https://localhost:8080/"
        },
        "id": "hr7nYYh29CIP",
        "outputId": "073e62f4-3f9d-46c8-996d-2747c37d8ecf"
      },
      "execution_count": null,
      "outputs": [
        {
          "output_type": "execute_result",
          "data": {
            "text/plain": [
              "True"
            ]
          },
          "metadata": {},
          "execution_count": 30
        }
      ]
    },
    {
      "cell_type": "code",
      "source": [
        "#Statment C\n",
        "'analytics01'.islower()"
      ],
      "metadata": {
        "colab": {
          "base_uri": "https://localhost:8080/"
        },
        "id": "oEm8MBvV9Gri",
        "outputId": "91c9a428-21d8-4bd1-cfa2-e6d710fb2b3c"
      },
      "execution_count": null,
      "outputs": [
        {
          "output_type": "execute_result",
          "data": {
            "text/plain": [
              "True"
            ]
          },
          "metadata": {},
          "execution_count": 31
        }
      ]
    },
    {
      "cell_type": "code",
      "source": [
        "my_list = ['lakshay', 'sanad', 'aravind', 'aishwarya', 'prateek']\n",
        "find_a = []\n",
        "\n",
        "for  name in my_list:\n",
        "  x = name.find('a')\n",
        "  find_a.append(x)\n",
        "\n",
        "find_a"
      ],
      "metadata": {
        "colab": {
          "base_uri": "https://localhost:8080/"
        },
        "id": "8wl5V_Oe9K61",
        "outputId": "20c8bcf5-714a-45d4-dbaa-55dbd469f05d"
      },
      "execution_count": null,
      "outputs": [
        {
          "output_type": "execute_result",
          "data": {
            "text/plain": [
              "[1, 1, 0, 0, 2]"
            ]
          },
          "metadata": {},
          "execution_count": 32
        }
      ]
    },
    {
      "cell_type": "code",
      "source": [
        "state = ['haryana', 'punjab', 'rajasthan', 'karnataka', 'goa']\n",
        "output = []\n",
        "output_state = []\n",
        "\n",
        "for s in state:\n",
        "  split_with_a = s.split('a')\n",
        "  output.append(len(split_with_a))\n",
        "  output_state.append(split_with_a)\n",
        "\n",
        "output\n",
        "#output_state"
      ],
      "metadata": {
        "colab": {
          "base_uri": "https://localhost:8080/"
        },
        "id": "DAPwq8ay-Y-W",
        "outputId": "589b652f-7286-4d78-d90c-75e1e25b3897"
      },
      "execution_count": null,
      "outputs": [
        {
          "output_type": "execute_result",
          "data": {
            "text/plain": [
              "[4, 2, 4, 5, 2]"
            ]
          },
          "metadata": {},
          "execution_count": 36
        }
      ]
    },
    {
      "cell_type": "markdown",
      "source": [
        "#**Functions**"
      ],
      "metadata": {
        "id": "aqWwg-IGzxtG"
      }
    },
    {
      "cell_type": "code",
      "source": [
        "def area(r):\n",
        "  area = 3.14*r*r\n",
        "  return area\n",
        "\n",
        "area(5) #Calling a function"
      ],
      "metadata": {
        "id": "0gNKDsZB-7JH",
        "colab": {
          "base_uri": "https://localhost:8080/"
        },
        "outputId": "b9eebb9f-2ac8-4984-fc95-1930af3bb0a3"
      },
      "execution_count": null,
      "outputs": [
        {
          "output_type": "execute_result",
          "data": {
            "text/plain": [
              "78.5"
            ]
          },
          "metadata": {},
          "execution_count": 1
        }
      ]
    },
    {
      "cell_type": "code",
      "source": [
        "def welcome():\n",
        "  print(\"Welcome to the python course!!\")\n",
        "\n",
        "welcome()\n"
      ],
      "metadata": {
        "colab": {
          "base_uri": "https://localhost:8080/"
        },
        "id": "s4FIhg7U1Mk3",
        "outputId": "8688401e-be8d-48b3-8eaa-9b2960c0e1c9"
      },
      "execution_count": null,
      "outputs": [
        {
          "output_type": "stream",
          "name": "stdout",
          "text": [
            "Welcome to the python course!!\n"
          ]
        }
      ]
    },
    {
      "cell_type": "code",
      "source": [
        "def add_2_number():\n",
        "  total = 3 + 4\n",
        "  print(\"Sum of 3 and 4 is: \", total)"
      ],
      "metadata": {
        "id": "0wLz75g82G4t"
      },
      "execution_count": null,
      "outputs": []
    },
    {
      "cell_type": "code",
      "source": [
        "def   add_2_numbers_return():\n",
        "  total = 3 + 4\n",
        "  print(\"Sum of 3 and 4 is: \", total)\n",
        "  return total"
      ],
      "metadata": {
        "id": "tGmwTzQw2j3I"
      },
      "execution_count": null,
      "outputs": []
    },
    {
      "cell_type": "code",
      "source": [
        "add_2_number()"
      ],
      "metadata": {
        "colab": {
          "base_uri": "https://localhost:8080/"
        },
        "id": "q_ZhSkyj2xZo",
        "outputId": "f9298ecd-1759-410d-a8d2-f7e097b78845"
      },
      "execution_count": null,
      "outputs": [
        {
          "output_type": "stream",
          "name": "stdout",
          "text": [
            "Sum of 3 and 4 is:  7\n"
          ]
        }
      ]
    },
    {
      "cell_type": "code",
      "source": [
        "add_2_numbers_return()"
      ],
      "metadata": {
        "colab": {
          "base_uri": "https://localhost:8080/"
        },
        "id": "YyPgGIme2zn2",
        "outputId": "63f556e0-e1d0-4f6f-ff04-db16de38a30e"
      },
      "execution_count": null,
      "outputs": [
        {
          "output_type": "stream",
          "name": "stdout",
          "text": [
            "Sum of 3 and 4 is:  7\n"
          ]
        },
        {
          "output_type": "execute_result",
          "data": {
            "text/plain": [
              "7"
            ]
          },
          "metadata": {},
          "execution_count": 6
        }
      ]
    },
    {
      "cell_type": "code",
      "source": [
        "output1 = add_2_number()\n",
        "output1 #Don't save 'cause dones't have a return"
      ],
      "metadata": {
        "colab": {
          "base_uri": "https://localhost:8080/"
        },
        "id": "6axjUEMi22gc",
        "outputId": "63956d70-28f3-44c3-b2ac-4be5eff98187"
      },
      "execution_count": null,
      "outputs": [
        {
          "output_type": "stream",
          "name": "stdout",
          "text": [
            "Sum of 3 and 4 is:  7\n"
          ]
        }
      ]
    },
    {
      "cell_type": "code",
      "source": [
        "output2 = add_2_numbers_return()\n",
        "output2"
      ],
      "metadata": {
        "colab": {
          "base_uri": "https://localhost:8080/"
        },
        "id": "a3ja76we3H7W",
        "outputId": "5ebd56fe-2268-4a31-b91d-f582b41587f9"
      },
      "execution_count": null,
      "outputs": [
        {
          "output_type": "stream",
          "name": "stdout",
          "text": [
            "Sum of 3 and 4 is:  7\n"
          ]
        },
        {
          "output_type": "execute_result",
          "data": {
            "text/plain": [
              "7"
            ]
          },
          "metadata": {},
          "execution_count": 8
        }
      ]
    },
    {
      "cell_type": "code",
      "source": [
        "def welcome(name): #If we put 'name = \"Alejo\"', you can call the function 'welcome()' without errors\n",
        "  return \"Welcome \" + name"
      ],
      "metadata": {
        "id": "CP1TkHWh3Lg1"
      },
      "execution_count": null,
      "outputs": []
    },
    {
      "cell_type": "code",
      "source": [
        "welcome(\"Alejo\")"
      ],
      "metadata": {
        "colab": {
          "base_uri": "https://localhost:8080/",
          "height": 35
        },
        "id": "i_0j6Eyx3g0Y",
        "outputId": "7d804cf8-32fa-430b-eef6-53fcad1760d9"
      },
      "execution_count": null,
      "outputs": [
        {
          "output_type": "execute_result",
          "data": {
            "text/plain": [
              "'Welcome Alejo'"
            ],
            "application/vnd.google.colaboratory.intrinsic+json": {
              "type": "string"
            }
          },
          "metadata": {},
          "execution_count": 10
        }
      ]
    },
    {
      "cell_type": "code",
      "source": [
        "def differ(largeNumber, smallNumber):\n",
        "  difference = largeNumber - smallNumber\n",
        "  return difference\n",
        "\n",
        "differ(largeNumber= 16, smallNumber =  4) # Necessary to not confuse the numbers"
      ],
      "metadata": {
        "colab": {
          "base_uri": "https://localhost:8080/"
        },
        "id": "vaMbGwuD3iro",
        "outputId": "654d9350-0d40-46bb-a401-63d4c9ed3abe"
      },
      "execution_count": null,
      "outputs": [
        {
          "output_type": "execute_result",
          "data": {
            "text/plain": [
              "12"
            ]
          },
          "metadata": {},
          "execution_count": 11
        }
      ]
    },
    {
      "cell_type": "code",
      "source": [
        "differ(smallNumber = 4, largeNumber = 16)"
      ],
      "metadata": {
        "colab": {
          "base_uri": "https://localhost:8080/"
        },
        "id": "xBT2CvgI45TL",
        "outputId": "0ef47792-2dbb-43d8-abe2-aed2989b03fc"
      },
      "execution_count": null,
      "outputs": [
        {
          "output_type": "execute_result",
          "data": {
            "text/plain": [
              "12"
            ]
          },
          "metadata": {},
          "execution_count": 12
        }
      ]
    },
    {
      "cell_type": "code",
      "source": [
        "def function(*args): # '*' indicates multiple values -- unknow int or string, you can use '**'\n",
        "  for i in args:\n",
        "    print(i)\n",
        "\n",
        "function(1,2,3,4)"
      ],
      "metadata": {
        "colab": {
          "base_uri": "https://localhost:8080/"
        },
        "id": "geUVHTZc64Qx",
        "outputId": "14b650bd-d3bd-4595-cb58-a658e78615f9"
      },
      "execution_count": null,
      "outputs": [
        {
          "output_type": "stream",
          "name": "stdout",
          "text": [
            "1\n",
            "2\n",
            "3\n",
            "4\n"
          ]
        }
      ]
    },
    {
      "cell_type": "markdown",
      "source": [
        "QUIZ\n"
      ],
      "metadata": {
        "id": "484--GTx84DX"
      }
    },
    {
      "cell_type": "code",
      "source": [
        "def min(a, b):\n",
        "  if a > b:\n",
        "    return b\n",
        "  elif a == b:\n",
        "    return \"Equal numbers\"\n",
        "  else:\n",
        "    return a\n",
        "\n",
        "min(200,400)"
      ],
      "metadata": {
        "colab": {
          "base_uri": "https://localhost:8080/"
        },
        "id": "3qrqm-Vd7AmY",
        "outputId": "bd4e8639-9e19-40d5-e1b4-051920aafebb"
      },
      "execution_count": null,
      "outputs": [
        {
          "output_type": "execute_result",
          "data": {
            "text/plain": [
              "200"
            ]
          },
          "metadata": {},
          "execution_count": 14
        }
      ]
    },
    {
      "cell_type": "code",
      "source": [
        "def odd(a):\n",
        "  if a%2 == 0:\n",
        "    print(\"not odd\")\n",
        "  else:\n",
        "    print(\"odd\")\n",
        "\n",
        "odd(9)"
      ],
      "metadata": {
        "colab": {
          "base_uri": "https://localhost:8080/"
        },
        "id": "Z9tn6VMB9cZP",
        "outputId": "86c466fe-bc25-41fe-8946-3076ee089965"
      },
      "execution_count": null,
      "outputs": [
        {
          "output_type": "stream",
          "name": "stdout",
          "text": [
            "odd\n"
          ]
        }
      ]
    },
    {
      "cell_type": "markdown",
      "source": [
        "**Lambda functions**"
      ],
      "metadata": {
        "id": "KuBjjK_GIc3w"
      }
    },
    {
      "cell_type": "code",
      "source": [
        "def add20(a):\n",
        "  return a+20\n",
        "\n",
        "add20(5)"
      ],
      "metadata": {
        "colab": {
          "base_uri": "https://localhost:8080/"
        },
        "id": "CO_9PJF7Ihd7",
        "outputId": "b821eae2-e961-46c6-cb3d-db6bed433a16"
      },
      "execution_count": null,
      "outputs": [
        {
          "output_type": "execute_result",
          "data": {
            "text/plain": [
              "25"
            ]
          },
          "metadata": {},
          "execution_count": 16
        }
      ]
    },
    {
      "cell_type": "code",
      "source": [
        "var = lambda a: a + 20\n",
        "\n",
        "print(\"With argument value 5: \", var(5))\n",
        "print(\"With argument value 10: \", var(10))"
      ],
      "metadata": {
        "colab": {
          "base_uri": "https://localhost:8080/"
        },
        "id": "9Kzn5SkYI9Fw",
        "outputId": "11dc6911-33d2-43bd-c546-8b048200592e"
      },
      "execution_count": null,
      "outputs": [
        {
          "output_type": "stream",
          "name": "stdout",
          "text": [
            "With argument value 5:  25\n",
            "With argument value 10:  30\n"
          ]
        }
      ]
    },
    {
      "cell_type": "code",
      "source": [
        "# Filter function\n",
        "def normalEven(x):\n",
        "  if x%2 !=0:\n",
        "    return True\n",
        "  else:\n",
        "    return False"
      ],
      "metadata": {
        "id": "eqShKHa5JKwz"
      },
      "execution_count": null,
      "outputs": []
    },
    {
      "cell_type": "code",
      "source": [
        "originalList = [5,17, 32, 43, 12, 62, 237, 133, 78, 21]\n",
        "\n",
        "filteredList = list(filter(normalEven, originalList))\n",
        "print('The odd numbers are: ', filteredList)"
      ],
      "metadata": {
        "colab": {
          "base_uri": "https://localhost:8080/"
        },
        "id": "bmxSB1PLJjVT",
        "outputId": "c03e3b2f-982c-4ea1-a5c0-96cc553fb61d"
      },
      "execution_count": null,
      "outputs": [
        {
          "output_type": "stream",
          "name": "stdout",
          "text": [
            "The odd numbers are:  [5, 17, 43, 237, 133, 21]\n"
          ]
        }
      ]
    },
    {
      "cell_type": "code",
      "source": [
        "originalList = [5, 11, 15, 43, 20, 65, 235, 133, 75, 21]\n",
        "filteredList = list(filter(lambda x: x%5 == 0, originalList))\n",
        "\n",
        "print('The multiple of 5 are: ', filteredList)"
      ],
      "metadata": {
        "colab": {
          "base_uri": "https://localhost:8080/"
        },
        "id": "SAYSI4NZKG3y",
        "outputId": "faeb966b-a469-4d2f-b4b4-6d0c6df61325"
      },
      "execution_count": null,
      "outputs": [
        {
          "output_type": "stream",
          "name": "stdout",
          "text": [
            "The multiple of 5 are:  [5, 15, 20, 65, 235, 75]\n"
          ]
        }
      ]
    },
    {
      "cell_type": "code",
      "source": [
        "# 'map' is the same in 'filter'\n",
        "originalList = ['analytics', 'vidhya', 'king', 'south', 'east']\n",
        "mappedList = list(map(lambda x: x[0].upper()+x[1:], originalList))\n",
        "\n",
        "print('New List: ', mappedList)"
      ],
      "metadata": {
        "colab": {
          "base_uri": "https://localhost:8080/"
        },
        "id": "jtzXu3TaKiRJ",
        "outputId": "602c1bdd-225d-48c1-bb67-d21142be8fce"
      },
      "execution_count": null,
      "outputs": [
        {
          "output_type": "stream",
          "name": "stdout",
          "text": [
            "New List:  ['Analytics', 'Vidhya', 'King', 'South', 'East']\n"
          ]
        }
      ]
    },
    {
      "cell_type": "code",
      "source": [
        "# Reduce Function\n",
        "from functools import reduce\n",
        "originalList =  [1,2, 3, 4, 5, 6, 7, 8, 9]\n",
        "sumList = reduce(lambda x, y: x+y, originalList)\n",
        "\n",
        "print('Sum of numbers in the original list is: ', sumList)\n"
      ],
      "metadata": {
        "colab": {
          "base_uri": "https://localhost:8080/"
        },
        "id": "c6WpJTc7Lrzo",
        "outputId": "978589ab-007d-49a4-c108-6939d1d85476"
      },
      "execution_count": null,
      "outputs": [
        {
          "output_type": "stream",
          "name": "stdout",
          "text": [
            "Sum of numbers in the original list is:  45\n"
          ]
        }
      ]
    },
    {
      "cell_type": "code",
      "source": [
        "originalList = [110, 53, 3, 424, 255, 16, 42, 256]\n",
        "largestNumber = reduce(lambda x, y: x if x > y else y, originalList)\n",
        "\n",
        "print('Largest number in the original list is: ', largestNumber)"
      ],
      "metadata": {
        "colab": {
          "base_uri": "https://localhost:8080/"
        },
        "id": "_qcchWZKOnuA",
        "outputId": "88a2f39b-826b-415c-82b1-4fdea612dbe8"
      },
      "execution_count": null,
      "outputs": [
        {
          "output_type": "stream",
          "name": "stdout",
          "text": [
            "Largest number in the original list is:  424\n"
          ]
        }
      ]
    },
    {
      "cell_type": "markdown",
      "source": [
        "QUIZ"
      ],
      "metadata": {
        "id": "HSawkjFqPgQb"
      }
    },
    {
      "cell_type": "code",
      "source": [
        "originalList = [5, 17, 62, 43, 12, 62, 27, 63, 68, 21]\n",
        "filteredList = list(filter(lambda x: x // 10 == 6, originalList))\n",
        "\n",
        "print(filteredList)"
      ],
      "metadata": {
        "colab": {
          "base_uri": "https://localhost:8080/"
        },
        "id": "YoRexT2BPFEj",
        "outputId": "0c55cf8b-a67c-42ed-b25d-0ce2b6085b82"
      },
      "execution_count": null,
      "outputs": [
        {
          "output_type": "stream",
          "name": "stdout",
          "text": [
            "[62, 62, 63, 68]\n"
          ]
        }
      ]
    },
    {
      "cell_type": "code",
      "source": [
        "from functools import reduce\n",
        "\n",
        "originalList = [110, 53, 3, 424, 255, 16, 42, 256]\n",
        "number = reduce(lambda x, y: x if x < y else y, originalList)\n",
        "\n",
        "print(number)"
      ],
      "metadata": {
        "colab": {
          "base_uri": "https://localhost:8080/"
        },
        "id": "pATTdK73QXOG",
        "outputId": "a4eae54f-cc75-4fe0-8b67-3d424af8eb00"
      },
      "execution_count": null,
      "outputs": [
        {
          "output_type": "stream",
          "name": "stdout",
          "text": [
            "3\n"
          ]
        }
      ]
    },
    {
      "cell_type": "markdown",
      "source": [
        "**Recursion function**"
      ],
      "metadata": {
        "id": "88nbCRsLQ88F"
      }
    },
    {
      "cell_type": "code",
      "source": [
        "# Probability and statistics\n",
        "def HowManyHandshakes(TotalPersons):\n",
        "  if TotalPersons == 2:\n",
        "    return 1\n",
        "  elif TotalPersons == 1:\n",
        "    return \"Doesn't make any sense\"\n",
        "  else:\n",
        "    return HowManyHandshakes(TotalPersons - 1) + (TotalPersons - 1) #F(N) = F(N-1)+(N-1)\n",
        "\n",
        "HowManyHandshakes(6)\n"
      ],
      "metadata": {
        "colab": {
          "base_uri": "https://localhost:8080/"
        },
        "id": "m5whymk-Q_x9",
        "outputId": "10ca5fc0-1e14-4fb9-e955-966946b19bc8"
      },
      "execution_count": null,
      "outputs": [
        {
          "output_type": "execute_result",
          "data": {
            "text/plain": [
              "15"
            ]
          },
          "metadata": {},
          "execution_count": 26
        }
      ]
    },
    {
      "cell_type": "markdown",
      "source": [
        "QUIZ"
      ],
      "metadata": {
        "id": "tYo6UecqYeJU"
      }
    },
    {
      "cell_type": "code",
      "source": [
        "def function(number):\n",
        "  if number == 1:\n",
        "    return 0 \n",
        "  elif number == 2:\n",
        "    return 1\n",
        "  else:\n",
        "    return function(number - 1) + function(number - 2) #F(n)=F(n-1)+F(n-2)\n",
        "\n",
        "function(5)"
      ],
      "metadata": {
        "colab": {
          "base_uri": "https://localhost:8080/"
        },
        "id": "W1Wly7FvWtJ7",
        "outputId": "8a2798b6-7555-4661-9935-3dd48322d98c"
      },
      "execution_count": null,
      "outputs": [
        {
          "output_type": "execute_result",
          "data": {
            "text/plain": [
              "3"
            ]
          },
          "metadata": {},
          "execution_count": 27
        }
      ]
    },
    {
      "cell_type": "code",
      "source": [
        "def function(number):\n",
        "  if number == 2:\n",
        "    return 1\n",
        "  else:\n",
        "    return function(number - 1)+ (number + 1)\n",
        "\n",
        "function(5)"
      ],
      "metadata": {
        "colab": {
          "base_uri": "https://localhost:8080/"
        },
        "id": "Hz336pIiZcb5",
        "outputId": "674f86f2-7fef-40fd-bd08-4b00bb170d1a"
      },
      "execution_count": null,
      "outputs": [
        {
          "output_type": "execute_result",
          "data": {
            "text/plain": [
              "16"
            ]
          },
          "metadata": {},
          "execution_count": 28
        }
      ]
    },
    {
      "cell_type": "markdown",
      "source": [
        "#**Modules, Packages and Standar libraries**\n"
      ],
      "metadata": {
        "id": "Yt22VkEOSiaP"
      }
    },
    {
      "cell_type": "code",
      "source": [
        "#Function\n",
        "def area_circle(r):\n",
        "  area = 3.1416*r*r\n",
        "  return area\n",
        "\n",
        "area_circle(2)"
      ],
      "metadata": {
        "colab": {
          "base_uri": "https://localhost:8080/"
        },
        "id": "sew6dogtSzA4",
        "outputId": "15e169f4-cd85-4a26-aaed-0cbb8bbfc8d8"
      },
      "execution_count": null,
      "outputs": [
        {
          "output_type": "execute_result",
          "data": {
            "text/plain": [
              "12.5664"
            ]
          },
          "metadata": {},
          "execution_count": 32
        }
      ]
    },
    {
      "cell_type": "code",
      "source": [
        "# Module: Several funcions in one file.py that you can call in other file.py. \n",
        "# You call the module as: import --module--"
      ],
      "metadata": {
        "id": "KtiMiepOTJWh"
      },
      "execution_count": null,
      "outputs": []
    },
    {
      "cell_type": "code",
      "source": [
        "# packages: several modules in one, a collection of modules\n",
        "# important packages:\n",
        "#                     math\n",
        "#                     random\n",
        "#                     datetime\n",
        "#                     os"
      ],
      "metadata": {
        "id": "nbj32BoYULiC"
      },
      "execution_count": null,
      "outputs": []
    },
    {
      "cell_type": "code",
      "source": [
        "# Call or import functions:\n",
        "#                           from --package.module-- import --function--\n",
        "#                           from --package-- import --module--\n",
        "#                           import --module--\n",
        "# How create your own package:\n",
        "                            # You put all modules in one carpet, then you cam call as: import --name_of_carpet--\n",
        "# important libraries for data science:\n",
        "#                     numpy\n",
        "#                     scipy\n",
        "#                     pandas\n",
        "#                     matplotlib\n",
        "                      # seaborn\n",
        "                      # scikit learn\n",
        "                      # statsmodel"
      ],
      "metadata": {
        "id": "PRRb_koIVpqO"
      },
      "execution_count": null,
      "outputs": []
    },
    {
      "cell_type": "code",
      "source": [
        "# numpy and scipy\n",
        "\n",
        "import numpy as np\n",
        "\n",
        "x = np.array([[1,2,3],\n",
        "              [2,1,1],\n",
        "              [4,2,3]])\n",
        "\n",
        "y = np.array([[1,2],\n",
        "              [1,1],\n",
        "              [1,1]])\n",
        "\n",
        "np.concatenate([x,y],axis=1)"
      ],
      "metadata": {
        "id": "c67WplPFjaIo",
        "colab": {
          "base_uri": "https://localhost:8080/"
        },
        "outputId": "8302358c-d33d-488e-e743-81d06599e84e"
      },
      "execution_count": null,
      "outputs": [
        {
          "output_type": "execute_result",
          "data": {
            "text/plain": [
              "array([[1, 2, 3, 1, 2],\n",
              "       [2, 1, 1, 1, 1],\n",
              "       [4, 2, 3, 1, 1]])"
            ]
          },
          "metadata": {},
          "execution_count": 1
        }
      ]
    },
    {
      "cell_type": "code",
      "source": [
        "np.zeros((2,3), dtype=int)"
      ],
      "metadata": {
        "colab": {
          "base_uri": "https://localhost:8080/"
        },
        "id": "lOYKQqbyii2r",
        "outputId": "947473c8-8a26-4834-d3bd-41ae84caad1c"
      },
      "execution_count": null,
      "outputs": [
        {
          "output_type": "execute_result",
          "data": {
            "text/plain": [
              "array([[0, 0, 0],\n",
              "       [0, 0, 0]])"
            ]
          },
          "metadata": {},
          "execution_count": 3
        }
      ]
    },
    {
      "cell_type": "code",
      "source": [
        "from scipy.misc import derivative\n",
        "\n",
        "def my_function(x):\n",
        "  dev=x**2 + 5\n",
        "  return dev\n",
        "\n",
        "derivative(func = my_function, x0=2)"
      ],
      "metadata": {
        "colab": {
          "base_uri": "https://localhost:8080/"
        },
        "id": "j6vplwvai3B4",
        "outputId": "5eb52a7c-5c9a-46b6-bd93-0a144ad83da2"
      },
      "execution_count": null,
      "outputs": [
        {
          "output_type": "execute_result",
          "data": {
            "text/plain": [
              "4.0"
            ]
          },
          "metadata": {},
          "execution_count": 4
        }
      ]
    },
    {
      "cell_type": "markdown",
      "source": [
        "#**Reading data in python**"
      ],
      "metadata": {
        "id": "aqzbtlcoaV2q"
      }
    },
    {
      "cell_type": "code",
      "source": [
        "# pd.read_{file(csv, excel,json)}=('')\n",
        "# to csv file you need:\n",
        "#                       skirows=\n",
        "#                       glob to multidirectory\n",
        "#                       uecols=[]\n",
        "#                       data.shape()\n",
        "\n",
        "# to excel file you need:\n",
        "#                         sheet_name=\n",
        "\n",
        "# to json file you need:\n",
        "#                         lines=boolean\n",
        "                          # json\n",
        "                          # pprint"
      ],
      "metadata": {
        "id": "qf3tI4QXEDga"
      },
      "execution_count": null,
      "outputs": []
    },
    {
      "cell_type": "markdown",
      "source": [
        "#**Preprocessing, subsetting and modifying pandas dataframes**"
      ],
      "metadata": {
        "id": "RN_kFO_-icKi"
      }
    },
    {
      "cell_type": "code",
      "source": [
        "# subsetting:\n",
        "#             drop\n",
        "            # inplace\n",
        "            # data.set_index['label']\n",
        "#             data.index\n",
        "#             data.loc[]\n",
        "#     Sunset a data sabed on other:\n",
        "#                                 data[data['']==''] acts like filter\n",
        "      # subet based on position (rows):\n",
        "      #                         data[n:n:i] like data.head() or data.tail()\n",
        "      #                         data.iloc[[rows],[columns]] like specific row\n",
        "\n",
        "      # subsetting based on label (columns):\n",
        "      #                           data.loc[] labels on index\n",
        "\n",
        "      # subsetting based on value (value):\n",
        "      # q                         you can chose a value into the table to act like a filter (&-and |-or !-not)\n",
        "                                  # data[data.column([value])]\n",
        "                                # data.select_dtypes(object, float64 or integer)\n",
        "\n",
        "# check null calues with data.isna().sum()\n",
        "# convertcategorical variables into numerical variables with data = pd.get_dummies(data)"
      ],
      "metadata": {
        "id": "jHiCxerOibuX"
      },
      "execution_count": null,
      "outputs": []
    },
    {
      "cell_type": "code",
      "source": [
        "import pandas as pd\n",
        "sample_df = [['id','grade','marks'],\n",
        "             ['a101','m','a',22],\n",
        "             ['a102','f','a',21],\n",
        "             ['a103','m','b',12],\n",
        "             ['a104','m','b',14],\n",
        "             ['a105','f','a',20],\n",
        "              ]\n",
        "sample_df =pd.DataFrame(sample_df)\n",
        "sample_df"
      ],
      "metadata": {
        "colab": {
          "base_uri": "https://localhost:8080/",
          "height": 237
        },
        "id": "fGQCrpp-JKQJ",
        "outputId": "4cbfd425-8ce9-4a66-c6ef-48ebda4d7017"
      },
      "execution_count": null,
      "outputs": [
        {
          "output_type": "execute_result",
          "data": {
            "text/plain": [
              "      0      1      2     3\n",
              "0    id  grade  marks   NaN\n",
              "1  a101      m      a  22.0\n",
              "2  a102      f      a  21.0\n",
              "3  a103      m      b  12.0\n",
              "4  a104      m      b  14.0\n",
              "5  a105      f      a  20.0"
            ],
            "text/html": [
              "\n",
              "  <div id=\"df-5eaf38ae-9683-4408-a45d-75e2f4b596b9\">\n",
              "    <div class=\"colab-df-container\">\n",
              "      <div>\n",
              "<style scoped>\n",
              "    .dataframe tbody tr th:only-of-type {\n",
              "        vertical-align: middle;\n",
              "    }\n",
              "\n",
              "    .dataframe tbody tr th {\n",
              "        vertical-align: top;\n",
              "    }\n",
              "\n",
              "    .dataframe thead th {\n",
              "        text-align: right;\n",
              "    }\n",
              "</style>\n",
              "<table border=\"1\" class=\"dataframe\">\n",
              "  <thead>\n",
              "    <tr style=\"text-align: right;\">\n",
              "      <th></th>\n",
              "      <th>0</th>\n",
              "      <th>1</th>\n",
              "      <th>2</th>\n",
              "      <th>3</th>\n",
              "    </tr>\n",
              "  </thead>\n",
              "  <tbody>\n",
              "    <tr>\n",
              "      <th>0</th>\n",
              "      <td>id</td>\n",
              "      <td>grade</td>\n",
              "      <td>marks</td>\n",
              "      <td>NaN</td>\n",
              "    </tr>\n",
              "    <tr>\n",
              "      <th>1</th>\n",
              "      <td>a101</td>\n",
              "      <td>m</td>\n",
              "      <td>a</td>\n",
              "      <td>22.0</td>\n",
              "    </tr>\n",
              "    <tr>\n",
              "      <th>2</th>\n",
              "      <td>a102</td>\n",
              "      <td>f</td>\n",
              "      <td>a</td>\n",
              "      <td>21.0</td>\n",
              "    </tr>\n",
              "    <tr>\n",
              "      <th>3</th>\n",
              "      <td>a103</td>\n",
              "      <td>m</td>\n",
              "      <td>b</td>\n",
              "      <td>12.0</td>\n",
              "    </tr>\n",
              "    <tr>\n",
              "      <th>4</th>\n",
              "      <td>a104</td>\n",
              "      <td>m</td>\n",
              "      <td>b</td>\n",
              "      <td>14.0</td>\n",
              "    </tr>\n",
              "    <tr>\n",
              "      <th>5</th>\n",
              "      <td>a105</td>\n",
              "      <td>f</td>\n",
              "      <td>a</td>\n",
              "      <td>20.0</td>\n",
              "    </tr>\n",
              "  </tbody>\n",
              "</table>\n",
              "</div>\n",
              "      <button class=\"colab-df-convert\" onclick=\"convertToInteractive('df-5eaf38ae-9683-4408-a45d-75e2f4b596b9')\"\n",
              "              title=\"Convert this dataframe to an interactive table.\"\n",
              "              style=\"display:none;\">\n",
              "        \n",
              "  <svg xmlns=\"http://www.w3.org/2000/svg\" height=\"24px\"viewBox=\"0 0 24 24\"\n",
              "       width=\"24px\">\n",
              "    <path d=\"M0 0h24v24H0V0z\" fill=\"none\"/>\n",
              "    <path d=\"M18.56 5.44l.94 2.06.94-2.06 2.06-.94-2.06-.94-.94-2.06-.94 2.06-2.06.94zm-11 1L8.5 8.5l.94-2.06 2.06-.94-2.06-.94L8.5 2.5l-.94 2.06-2.06.94zm10 10l.94 2.06.94-2.06 2.06-.94-2.06-.94-.94-2.06-.94 2.06-2.06.94z\"/><path d=\"M17.41 7.96l-1.37-1.37c-.4-.4-.92-.59-1.43-.59-.52 0-1.04.2-1.43.59L10.3 9.45l-7.72 7.72c-.78.78-.78 2.05 0 2.83L4 21.41c.39.39.9.59 1.41.59.51 0 1.02-.2 1.41-.59l7.78-7.78 2.81-2.81c.8-.78.8-2.07 0-2.86zM5.41 20L4 18.59l7.72-7.72 1.47 1.35L5.41 20z\"/>\n",
              "  </svg>\n",
              "      </button>\n",
              "      \n",
              "  <style>\n",
              "    .colab-df-container {\n",
              "      display:flex;\n",
              "      flex-wrap:wrap;\n",
              "      gap: 12px;\n",
              "    }\n",
              "\n",
              "    .colab-df-convert {\n",
              "      background-color: #E8F0FE;\n",
              "      border: none;\n",
              "      border-radius: 50%;\n",
              "      cursor: pointer;\n",
              "      display: none;\n",
              "      fill: #1967D2;\n",
              "      height: 32px;\n",
              "      padding: 0 0 0 0;\n",
              "      width: 32px;\n",
              "    }\n",
              "\n",
              "    .colab-df-convert:hover {\n",
              "      background-color: #E2EBFA;\n",
              "      box-shadow: 0px 1px 2px rgba(60, 64, 67, 0.3), 0px 1px 3px 1px rgba(60, 64, 67, 0.15);\n",
              "      fill: #174EA6;\n",
              "    }\n",
              "\n",
              "    [theme=dark] .colab-df-convert {\n",
              "      background-color: #3B4455;\n",
              "      fill: #D2E3FC;\n",
              "    }\n",
              "\n",
              "    [theme=dark] .colab-df-convert:hover {\n",
              "      background-color: #434B5C;\n",
              "      box-shadow: 0px 1px 3px 1px rgba(0, 0, 0, 0.15);\n",
              "      filter: drop-shadow(0px 1px 2px rgba(0, 0, 0, 0.3));\n",
              "      fill: #FFFFFF;\n",
              "    }\n",
              "  </style>\n",
              "\n",
              "      <script>\n",
              "        const buttonEl =\n",
              "          document.querySelector('#df-5eaf38ae-9683-4408-a45d-75e2f4b596b9 button.colab-df-convert');\n",
              "        buttonEl.style.display =\n",
              "          google.colab.kernel.accessAllowed ? 'block' : 'none';\n",
              "\n",
              "        async function convertToInteractive(key) {\n",
              "          const element = document.querySelector('#df-5eaf38ae-9683-4408-a45d-75e2f4b596b9');\n",
              "          const dataTable =\n",
              "            await google.colab.kernel.invokeFunction('convertToInteractive',\n",
              "                                                     [key], {});\n",
              "          if (!dataTable) return;\n",
              "\n",
              "          const docLinkHtml = 'Like what you see? Visit the ' +\n",
              "            '<a target=\"_blank\" href=https://colab.research.google.com/notebooks/data_table.ipynb>data table notebook</a>'\n",
              "            + ' to learn more about interactive tables.';\n",
              "          element.innerHTML = '';\n",
              "          dataTable['output_type'] = 'display_data';\n",
              "          await google.colab.output.renderOutput(dataTable, element);\n",
              "          const docLink = document.createElement('div');\n",
              "          docLink.innerHTML = docLinkHtml;\n",
              "          element.appendChild(docLink);\n",
              "        }\n",
              "      </script>\n",
              "    </div>\n",
              "  </div>\n",
              "  "
            ]
          },
          "metadata": {},
          "execution_count": 20
        }
      ]
    },
    {
      "cell_type": "code",
      "source": [
        "sample_df.loc['a101':'a104']"
      ],
      "metadata": {
        "colab": {
          "base_uri": "https://localhost:8080/",
          "height": 49
        },
        "id": "v79z6pSBKfdi",
        "outputId": "6bcdac90-1bcb-4578-dc7f-76ef9d5aa620"
      },
      "execution_count": null,
      "outputs": [
        {
          "output_type": "execute_result",
          "data": {
            "text/plain": [
              "Empty DataFrame\n",
              "Columns: [0, 1, 2, 3]\n",
              "Index: []"
            ],
            "text/html": [
              "\n",
              "  <div id=\"df-48ad95f8-36fa-4894-b28e-6d920f9f2d83\">\n",
              "    <div class=\"colab-df-container\">\n",
              "      <div>\n",
              "<style scoped>\n",
              "    .dataframe tbody tr th:only-of-type {\n",
              "        vertical-align: middle;\n",
              "    }\n",
              "\n",
              "    .dataframe tbody tr th {\n",
              "        vertical-align: top;\n",
              "    }\n",
              "\n",
              "    .dataframe thead th {\n",
              "        text-align: right;\n",
              "    }\n",
              "</style>\n",
              "<table border=\"1\" class=\"dataframe\">\n",
              "  <thead>\n",
              "    <tr style=\"text-align: right;\">\n",
              "      <th></th>\n",
              "      <th>0</th>\n",
              "      <th>1</th>\n",
              "      <th>2</th>\n",
              "      <th>3</th>\n",
              "    </tr>\n",
              "  </thead>\n",
              "  <tbody>\n",
              "  </tbody>\n",
              "</table>\n",
              "</div>\n",
              "      <button class=\"colab-df-convert\" onclick=\"convertToInteractive('df-48ad95f8-36fa-4894-b28e-6d920f9f2d83')\"\n",
              "              title=\"Convert this dataframe to an interactive table.\"\n",
              "              style=\"display:none;\">\n",
              "        \n",
              "  <svg xmlns=\"http://www.w3.org/2000/svg\" height=\"24px\"viewBox=\"0 0 24 24\"\n",
              "       width=\"24px\">\n",
              "    <path d=\"M0 0h24v24H0V0z\" fill=\"none\"/>\n",
              "    <path d=\"M18.56 5.44l.94 2.06.94-2.06 2.06-.94-2.06-.94-.94-2.06-.94 2.06-2.06.94zm-11 1L8.5 8.5l.94-2.06 2.06-.94-2.06-.94L8.5 2.5l-.94 2.06-2.06.94zm10 10l.94 2.06.94-2.06 2.06-.94-2.06-.94-.94-2.06-.94 2.06-2.06.94z\"/><path d=\"M17.41 7.96l-1.37-1.37c-.4-.4-.92-.59-1.43-.59-.52 0-1.04.2-1.43.59L10.3 9.45l-7.72 7.72c-.78.78-.78 2.05 0 2.83L4 21.41c.39.39.9.59 1.41.59.51 0 1.02-.2 1.41-.59l7.78-7.78 2.81-2.81c.8-.78.8-2.07 0-2.86zM5.41 20L4 18.59l7.72-7.72 1.47 1.35L5.41 20z\"/>\n",
              "  </svg>\n",
              "      </button>\n",
              "      \n",
              "  <style>\n",
              "    .colab-df-container {\n",
              "      display:flex;\n",
              "      flex-wrap:wrap;\n",
              "      gap: 12px;\n",
              "    }\n",
              "\n",
              "    .colab-df-convert {\n",
              "      background-color: #E8F0FE;\n",
              "      border: none;\n",
              "      border-radius: 50%;\n",
              "      cursor: pointer;\n",
              "      display: none;\n",
              "      fill: #1967D2;\n",
              "      height: 32px;\n",
              "      padding: 0 0 0 0;\n",
              "      width: 32px;\n",
              "    }\n",
              "\n",
              "    .colab-df-convert:hover {\n",
              "      background-color: #E2EBFA;\n",
              "      box-shadow: 0px 1px 2px rgba(60, 64, 67, 0.3), 0px 1px 3px 1px rgba(60, 64, 67, 0.15);\n",
              "      fill: #174EA6;\n",
              "    }\n",
              "\n",
              "    [theme=dark] .colab-df-convert {\n",
              "      background-color: #3B4455;\n",
              "      fill: #D2E3FC;\n",
              "    }\n",
              "\n",
              "    [theme=dark] .colab-df-convert:hover {\n",
              "      background-color: #434B5C;\n",
              "      box-shadow: 0px 1px 3px 1px rgba(0, 0, 0, 0.15);\n",
              "      filter: drop-shadow(0px 1px 2px rgba(0, 0, 0, 0.3));\n",
              "      fill: #FFFFFF;\n",
              "    }\n",
              "  </style>\n",
              "\n",
              "      <script>\n",
              "        const buttonEl =\n",
              "          document.querySelector('#df-48ad95f8-36fa-4894-b28e-6d920f9f2d83 button.colab-df-convert');\n",
              "        buttonEl.style.display =\n",
              "          google.colab.kernel.accessAllowed ? 'block' : 'none';\n",
              "\n",
              "        async function convertToInteractive(key) {\n",
              "          const element = document.querySelector('#df-48ad95f8-36fa-4894-b28e-6d920f9f2d83');\n",
              "          const dataTable =\n",
              "            await google.colab.kernel.invokeFunction('convertToInteractive',\n",
              "                                                     [key], {});\n",
              "          if (!dataTable) return;\n",
              "\n",
              "          const docLinkHtml = 'Like what you see? Visit the ' +\n",
              "            '<a target=\"_blank\" href=https://colab.research.google.com/notebooks/data_table.ipynb>data table notebook</a>'\n",
              "            + ' to learn more about interactive tables.';\n",
              "          element.innerHTML = '';\n",
              "          dataTable['output_type'] = 'display_data';\n",
              "          await google.colab.output.renderOutput(dataTable, element);\n",
              "          const docLink = document.createElement('div');\n",
              "          docLink.innerHTML = docLinkHtml;\n",
              "          element.appendChild(docLink);\n",
              "        }\n",
              "      </script>\n",
              "    </div>\n",
              "  </div>\n",
              "  "
            ]
          },
          "metadata": {},
          "execution_count": 21
        }
      ]
    },
    {
      "cell_type": "code",
      "source": [
        "data = pd.DataFrame({'gender':['M','F','f','F','M'],\n",
        "                     'age':[10,12,12,12,11]})\n",
        "data"
      ],
      "metadata": {
        "colab": {
          "base_uri": "https://localhost:8080/",
          "height": 206
        },
        "id": "GnLIbmW7Kzur",
        "outputId": "1e430bec-da33-43ed-cf14-f3e6e848bc3d"
      },
      "execution_count": null,
      "outputs": [
        {
          "output_type": "execute_result",
          "data": {
            "text/plain": [
              "  gender  age\n",
              "0      M   10\n",
              "1      F   12\n",
              "2      f   12\n",
              "3      F   12\n",
              "4      M   11"
            ],
            "text/html": [
              "\n",
              "  <div id=\"df-52da8cd8-7649-4e23-b853-0cecfca05880\">\n",
              "    <div class=\"colab-df-container\">\n",
              "      <div>\n",
              "<style scoped>\n",
              "    .dataframe tbody tr th:only-of-type {\n",
              "        vertical-align: middle;\n",
              "    }\n",
              "\n",
              "    .dataframe tbody tr th {\n",
              "        vertical-align: top;\n",
              "    }\n",
              "\n",
              "    .dataframe thead th {\n",
              "        text-align: right;\n",
              "    }\n",
              "</style>\n",
              "<table border=\"1\" class=\"dataframe\">\n",
              "  <thead>\n",
              "    <tr style=\"text-align: right;\">\n",
              "      <th></th>\n",
              "      <th>gender</th>\n",
              "      <th>age</th>\n",
              "    </tr>\n",
              "  </thead>\n",
              "  <tbody>\n",
              "    <tr>\n",
              "      <th>0</th>\n",
              "      <td>M</td>\n",
              "      <td>10</td>\n",
              "    </tr>\n",
              "    <tr>\n",
              "      <th>1</th>\n",
              "      <td>F</td>\n",
              "      <td>12</td>\n",
              "    </tr>\n",
              "    <tr>\n",
              "      <th>2</th>\n",
              "      <td>f</td>\n",
              "      <td>12</td>\n",
              "    </tr>\n",
              "    <tr>\n",
              "      <th>3</th>\n",
              "      <td>F</td>\n",
              "      <td>12</td>\n",
              "    </tr>\n",
              "    <tr>\n",
              "      <th>4</th>\n",
              "      <td>M</td>\n",
              "      <td>11</td>\n",
              "    </tr>\n",
              "  </tbody>\n",
              "</table>\n",
              "</div>\n",
              "      <button class=\"colab-df-convert\" onclick=\"convertToInteractive('df-52da8cd8-7649-4e23-b853-0cecfca05880')\"\n",
              "              title=\"Convert this dataframe to an interactive table.\"\n",
              "              style=\"display:none;\">\n",
              "        \n",
              "  <svg xmlns=\"http://www.w3.org/2000/svg\" height=\"24px\"viewBox=\"0 0 24 24\"\n",
              "       width=\"24px\">\n",
              "    <path d=\"M0 0h24v24H0V0z\" fill=\"none\"/>\n",
              "    <path d=\"M18.56 5.44l.94 2.06.94-2.06 2.06-.94-2.06-.94-.94-2.06-.94 2.06-2.06.94zm-11 1L8.5 8.5l.94-2.06 2.06-.94-2.06-.94L8.5 2.5l-.94 2.06-2.06.94zm10 10l.94 2.06.94-2.06 2.06-.94-2.06-.94-.94-2.06-.94 2.06-2.06.94z\"/><path d=\"M17.41 7.96l-1.37-1.37c-.4-.4-.92-.59-1.43-.59-.52 0-1.04.2-1.43.59L10.3 9.45l-7.72 7.72c-.78.78-.78 2.05 0 2.83L4 21.41c.39.39.9.59 1.41.59.51 0 1.02-.2 1.41-.59l7.78-7.78 2.81-2.81c.8-.78.8-2.07 0-2.86zM5.41 20L4 18.59l7.72-7.72 1.47 1.35L5.41 20z\"/>\n",
              "  </svg>\n",
              "      </button>\n",
              "      \n",
              "  <style>\n",
              "    .colab-df-container {\n",
              "      display:flex;\n",
              "      flex-wrap:wrap;\n",
              "      gap: 12px;\n",
              "    }\n",
              "\n",
              "    .colab-df-convert {\n",
              "      background-color: #E8F0FE;\n",
              "      border: none;\n",
              "      border-radius: 50%;\n",
              "      cursor: pointer;\n",
              "      display: none;\n",
              "      fill: #1967D2;\n",
              "      height: 32px;\n",
              "      padding: 0 0 0 0;\n",
              "      width: 32px;\n",
              "    }\n",
              "\n",
              "    .colab-df-convert:hover {\n",
              "      background-color: #E2EBFA;\n",
              "      box-shadow: 0px 1px 2px rgba(60, 64, 67, 0.3), 0px 1px 3px 1px rgba(60, 64, 67, 0.15);\n",
              "      fill: #174EA6;\n",
              "    }\n",
              "\n",
              "    [theme=dark] .colab-df-convert {\n",
              "      background-color: #3B4455;\n",
              "      fill: #D2E3FC;\n",
              "    }\n",
              "\n",
              "    [theme=dark] .colab-df-convert:hover {\n",
              "      background-color: #434B5C;\n",
              "      box-shadow: 0px 1px 3px 1px rgba(0, 0, 0, 0.15);\n",
              "      filter: drop-shadow(0px 1px 2px rgba(0, 0, 0, 0.3));\n",
              "      fill: #FFFFFF;\n",
              "    }\n",
              "  </style>\n",
              "\n",
              "      <script>\n",
              "        const buttonEl =\n",
              "          document.querySelector('#df-52da8cd8-7649-4e23-b853-0cecfca05880 button.colab-df-convert');\n",
              "        buttonEl.style.display =\n",
              "          google.colab.kernel.accessAllowed ? 'block' : 'none';\n",
              "\n",
              "        async function convertToInteractive(key) {\n",
              "          const element = document.querySelector('#df-52da8cd8-7649-4e23-b853-0cecfca05880');\n",
              "          const dataTable =\n",
              "            await google.colab.kernel.invokeFunction('convertToInteractive',\n",
              "                                                     [key], {});\n",
              "          if (!dataTable) return;\n",
              "\n",
              "          const docLinkHtml = 'Like what you see? Visit the ' +\n",
              "            '<a target=\"_blank\" href=https://colab.research.google.com/notebooks/data_table.ipynb>data table notebook</a>'\n",
              "            + ' to learn more about interactive tables.';\n",
              "          element.innerHTML = '';\n",
              "          dataTable['output_type'] = 'display_data';\n",
              "          await google.colab.output.renderOutput(dataTable, element);\n",
              "          const docLink = document.createElement('div');\n",
              "          docLink.innerHTML = docLinkHtml;\n",
              "          element.appendChild(docLink);\n",
              "        }\n",
              "      </script>\n",
              "    </div>\n",
              "  </div>\n",
              "  "
            ]
          },
          "metadata": {},
          "execution_count": 24
        }
      ]
    },
    {
      "cell_type": "code",
      "source": [
        "pd.get_dummies(data)"
      ],
      "metadata": {
        "colab": {
          "base_uri": "https://localhost:8080/",
          "height": 206
        },
        "id": "vxeyPmzoQhz-",
        "outputId": "d0ae0871-3c6b-4679-e3a3-d6cfa94be477"
      },
      "execution_count": null,
      "outputs": [
        {
          "output_type": "execute_result",
          "data": {
            "text/plain": [
              "   age  gender_F  gender_M  gender_f\n",
              "0   10         0         1         0\n",
              "1   12         1         0         0\n",
              "2   12         0         0         1\n",
              "3   12         1         0         0\n",
              "4   11         0         1         0"
            ],
            "text/html": [
              "\n",
              "  <div id=\"df-a0b42bfe-977b-4ae7-9268-a5fa72707226\">\n",
              "    <div class=\"colab-df-container\">\n",
              "      <div>\n",
              "<style scoped>\n",
              "    .dataframe tbody tr th:only-of-type {\n",
              "        vertical-align: middle;\n",
              "    }\n",
              "\n",
              "    .dataframe tbody tr th {\n",
              "        vertical-align: top;\n",
              "    }\n",
              "\n",
              "    .dataframe thead th {\n",
              "        text-align: right;\n",
              "    }\n",
              "</style>\n",
              "<table border=\"1\" class=\"dataframe\">\n",
              "  <thead>\n",
              "    <tr style=\"text-align: right;\">\n",
              "      <th></th>\n",
              "      <th>age</th>\n",
              "      <th>gender_F</th>\n",
              "      <th>gender_M</th>\n",
              "      <th>gender_f</th>\n",
              "    </tr>\n",
              "  </thead>\n",
              "  <tbody>\n",
              "    <tr>\n",
              "      <th>0</th>\n",
              "      <td>10</td>\n",
              "      <td>0</td>\n",
              "      <td>1</td>\n",
              "      <td>0</td>\n",
              "    </tr>\n",
              "    <tr>\n",
              "      <th>1</th>\n",
              "      <td>12</td>\n",
              "      <td>1</td>\n",
              "      <td>0</td>\n",
              "      <td>0</td>\n",
              "    </tr>\n",
              "    <tr>\n",
              "      <th>2</th>\n",
              "      <td>12</td>\n",
              "      <td>0</td>\n",
              "      <td>0</td>\n",
              "      <td>1</td>\n",
              "    </tr>\n",
              "    <tr>\n",
              "      <th>3</th>\n",
              "      <td>12</td>\n",
              "      <td>1</td>\n",
              "      <td>0</td>\n",
              "      <td>0</td>\n",
              "    </tr>\n",
              "    <tr>\n",
              "      <th>4</th>\n",
              "      <td>11</td>\n",
              "      <td>0</td>\n",
              "      <td>1</td>\n",
              "      <td>0</td>\n",
              "    </tr>\n",
              "  </tbody>\n",
              "</table>\n",
              "</div>\n",
              "      <button class=\"colab-df-convert\" onclick=\"convertToInteractive('df-a0b42bfe-977b-4ae7-9268-a5fa72707226')\"\n",
              "              title=\"Convert this dataframe to an interactive table.\"\n",
              "              style=\"display:none;\">\n",
              "        \n",
              "  <svg xmlns=\"http://www.w3.org/2000/svg\" height=\"24px\"viewBox=\"0 0 24 24\"\n",
              "       width=\"24px\">\n",
              "    <path d=\"M0 0h24v24H0V0z\" fill=\"none\"/>\n",
              "    <path d=\"M18.56 5.44l.94 2.06.94-2.06 2.06-.94-2.06-.94-.94-2.06-.94 2.06-2.06.94zm-11 1L8.5 8.5l.94-2.06 2.06-.94-2.06-.94L8.5 2.5l-.94 2.06-2.06.94zm10 10l.94 2.06.94-2.06 2.06-.94-2.06-.94-.94-2.06-.94 2.06-2.06.94z\"/><path d=\"M17.41 7.96l-1.37-1.37c-.4-.4-.92-.59-1.43-.59-.52 0-1.04.2-1.43.59L10.3 9.45l-7.72 7.72c-.78.78-.78 2.05 0 2.83L4 21.41c.39.39.9.59 1.41.59.51 0 1.02-.2 1.41-.59l7.78-7.78 2.81-2.81c.8-.78.8-2.07 0-2.86zM5.41 20L4 18.59l7.72-7.72 1.47 1.35L5.41 20z\"/>\n",
              "  </svg>\n",
              "      </button>\n",
              "      \n",
              "  <style>\n",
              "    .colab-df-container {\n",
              "      display:flex;\n",
              "      flex-wrap:wrap;\n",
              "      gap: 12px;\n",
              "    }\n",
              "\n",
              "    .colab-df-convert {\n",
              "      background-color: #E8F0FE;\n",
              "      border: none;\n",
              "      border-radius: 50%;\n",
              "      cursor: pointer;\n",
              "      display: none;\n",
              "      fill: #1967D2;\n",
              "      height: 32px;\n",
              "      padding: 0 0 0 0;\n",
              "      width: 32px;\n",
              "    }\n",
              "\n",
              "    .colab-df-convert:hover {\n",
              "      background-color: #E2EBFA;\n",
              "      box-shadow: 0px 1px 2px rgba(60, 64, 67, 0.3), 0px 1px 3px 1px rgba(60, 64, 67, 0.15);\n",
              "      fill: #174EA6;\n",
              "    }\n",
              "\n",
              "    [theme=dark] .colab-df-convert {\n",
              "      background-color: #3B4455;\n",
              "      fill: #D2E3FC;\n",
              "    }\n",
              "\n",
              "    [theme=dark] .colab-df-convert:hover {\n",
              "      background-color: #434B5C;\n",
              "      box-shadow: 0px 1px 3px 1px rgba(0, 0, 0, 0.15);\n",
              "      filter: drop-shadow(0px 1px 2px rgba(0, 0, 0, 0.3));\n",
              "      fill: #FFFFFF;\n",
              "    }\n",
              "  </style>\n",
              "\n",
              "      <script>\n",
              "        const buttonEl =\n",
              "          document.querySelector('#df-a0b42bfe-977b-4ae7-9268-a5fa72707226 button.colab-df-convert');\n",
              "        buttonEl.style.display =\n",
              "          google.colab.kernel.accessAllowed ? 'block' : 'none';\n",
              "\n",
              "        async function convertToInteractive(key) {\n",
              "          const element = document.querySelector('#df-a0b42bfe-977b-4ae7-9268-a5fa72707226');\n",
              "          const dataTable =\n",
              "            await google.colab.kernel.invokeFunction('convertToInteractive',\n",
              "                                                     [key], {});\n",
              "          if (!dataTable) return;\n",
              "\n",
              "          const docLinkHtml = 'Like what you see? Visit the ' +\n",
              "            '<a target=\"_blank\" href=https://colab.research.google.com/notebooks/data_table.ipynb>data table notebook</a>'\n",
              "            + ' to learn more about interactive tables.';\n",
              "          element.innerHTML = '';\n",
              "          dataTable['output_type'] = 'display_data';\n",
              "          await google.colab.output.renderOutput(dataTable, element);\n",
              "          const docLink = document.createElement('div');\n",
              "          docLink.innerHTML = docLinkHtml;\n",
              "          element.appendChild(docLink);\n",
              "        }\n",
              "      </script>\n",
              "    </div>\n",
              "  </div>\n",
              "  "
            ]
          },
          "metadata": {},
          "execution_count": 27
        }
      ]
    },
    {
      "cell_type": "code",
      "source": [
        "import numpy as np \n",
        "sample_df = pd.DataFrame({'gender' : ['M','F','M','M','F'],\n",
        "                          'grade' : ['A','A','B','B','A'],\n",
        "                          'marks' : [22,np.nan,12,np.nan,np.nan],\n",
        "                          'id' : ['a101','a102','a103','a104','a105']})\n",
        "sample_df"
      ],
      "metadata": {
        "colab": {
          "base_uri": "https://localhost:8080/",
          "height": 206
        },
        "id": "IKDQF7cPQ4vM",
        "outputId": "8a3bfa46-9df6-428a-f7ba-4004e6b1d64e"
      },
      "execution_count": null,
      "outputs": [
        {
          "output_type": "execute_result",
          "data": {
            "text/plain": [
              "  gender grade  marks    id\n",
              "0      M     A   22.0  a101\n",
              "1      F     A    NaN  a102\n",
              "2      M     B   12.0  a103\n",
              "3      M     B    NaN  a104\n",
              "4      F     A    NaN  a105"
            ],
            "text/html": [
              "\n",
              "  <div id=\"df-48d7e49a-ab2d-4d9a-96e4-4191855120ce\">\n",
              "    <div class=\"colab-df-container\">\n",
              "      <div>\n",
              "<style scoped>\n",
              "    .dataframe tbody tr th:only-of-type {\n",
              "        vertical-align: middle;\n",
              "    }\n",
              "\n",
              "    .dataframe tbody tr th {\n",
              "        vertical-align: top;\n",
              "    }\n",
              "\n",
              "    .dataframe thead th {\n",
              "        text-align: right;\n",
              "    }\n",
              "</style>\n",
              "<table border=\"1\" class=\"dataframe\">\n",
              "  <thead>\n",
              "    <tr style=\"text-align: right;\">\n",
              "      <th></th>\n",
              "      <th>gender</th>\n",
              "      <th>grade</th>\n",
              "      <th>marks</th>\n",
              "      <th>id</th>\n",
              "    </tr>\n",
              "  </thead>\n",
              "  <tbody>\n",
              "    <tr>\n",
              "      <th>0</th>\n",
              "      <td>M</td>\n",
              "      <td>A</td>\n",
              "      <td>22.0</td>\n",
              "      <td>a101</td>\n",
              "    </tr>\n",
              "    <tr>\n",
              "      <th>1</th>\n",
              "      <td>F</td>\n",
              "      <td>A</td>\n",
              "      <td>NaN</td>\n",
              "      <td>a102</td>\n",
              "    </tr>\n",
              "    <tr>\n",
              "      <th>2</th>\n",
              "      <td>M</td>\n",
              "      <td>B</td>\n",
              "      <td>12.0</td>\n",
              "      <td>a103</td>\n",
              "    </tr>\n",
              "    <tr>\n",
              "      <th>3</th>\n",
              "      <td>M</td>\n",
              "      <td>B</td>\n",
              "      <td>NaN</td>\n",
              "      <td>a104</td>\n",
              "    </tr>\n",
              "    <tr>\n",
              "      <th>4</th>\n",
              "      <td>F</td>\n",
              "      <td>A</td>\n",
              "      <td>NaN</td>\n",
              "      <td>a105</td>\n",
              "    </tr>\n",
              "  </tbody>\n",
              "</table>\n",
              "</div>\n",
              "      <button class=\"colab-df-convert\" onclick=\"convertToInteractive('df-48d7e49a-ab2d-4d9a-96e4-4191855120ce')\"\n",
              "              title=\"Convert this dataframe to an interactive table.\"\n",
              "              style=\"display:none;\">\n",
              "        \n",
              "  <svg xmlns=\"http://www.w3.org/2000/svg\" height=\"24px\"viewBox=\"0 0 24 24\"\n",
              "       width=\"24px\">\n",
              "    <path d=\"M0 0h24v24H0V0z\" fill=\"none\"/>\n",
              "    <path d=\"M18.56 5.44l.94 2.06.94-2.06 2.06-.94-2.06-.94-.94-2.06-.94 2.06-2.06.94zm-11 1L8.5 8.5l.94-2.06 2.06-.94-2.06-.94L8.5 2.5l-.94 2.06-2.06.94zm10 10l.94 2.06.94-2.06 2.06-.94-2.06-.94-.94-2.06-.94 2.06-2.06.94z\"/><path d=\"M17.41 7.96l-1.37-1.37c-.4-.4-.92-.59-1.43-.59-.52 0-1.04.2-1.43.59L10.3 9.45l-7.72 7.72c-.78.78-.78 2.05 0 2.83L4 21.41c.39.39.9.59 1.41.59.51 0 1.02-.2 1.41-.59l7.78-7.78 2.81-2.81c.8-.78.8-2.07 0-2.86zM5.41 20L4 18.59l7.72-7.72 1.47 1.35L5.41 20z\"/>\n",
              "  </svg>\n",
              "      </button>\n",
              "      \n",
              "  <style>\n",
              "    .colab-df-container {\n",
              "      display:flex;\n",
              "      flex-wrap:wrap;\n",
              "      gap: 12px;\n",
              "    }\n",
              "\n",
              "    .colab-df-convert {\n",
              "      background-color: #E8F0FE;\n",
              "      border: none;\n",
              "      border-radius: 50%;\n",
              "      cursor: pointer;\n",
              "      display: none;\n",
              "      fill: #1967D2;\n",
              "      height: 32px;\n",
              "      padding: 0 0 0 0;\n",
              "      width: 32px;\n",
              "    }\n",
              "\n",
              "    .colab-df-convert:hover {\n",
              "      background-color: #E2EBFA;\n",
              "      box-shadow: 0px 1px 2px rgba(60, 64, 67, 0.3), 0px 1px 3px 1px rgba(60, 64, 67, 0.15);\n",
              "      fill: #174EA6;\n",
              "    }\n",
              "\n",
              "    [theme=dark] .colab-df-convert {\n",
              "      background-color: #3B4455;\n",
              "      fill: #D2E3FC;\n",
              "    }\n",
              "\n",
              "    [theme=dark] .colab-df-convert:hover {\n",
              "      background-color: #434B5C;\n",
              "      box-shadow: 0px 1px 3px 1px rgba(0, 0, 0, 0.15);\n",
              "      filter: drop-shadow(0px 1px 2px rgba(0, 0, 0, 0.3));\n",
              "      fill: #FFFFFF;\n",
              "    }\n",
              "  </style>\n",
              "\n",
              "      <script>\n",
              "        const buttonEl =\n",
              "          document.querySelector('#df-48d7e49a-ab2d-4d9a-96e4-4191855120ce button.colab-df-convert');\n",
              "        buttonEl.style.display =\n",
              "          google.colab.kernel.accessAllowed ? 'block' : 'none';\n",
              "\n",
              "        async function convertToInteractive(key) {\n",
              "          const element = document.querySelector('#df-48d7e49a-ab2d-4d9a-96e4-4191855120ce');\n",
              "          const dataTable =\n",
              "            await google.colab.kernel.invokeFunction('convertToInteractive',\n",
              "                                                     [key], {});\n",
              "          if (!dataTable) return;\n",
              "\n",
              "          const docLinkHtml = 'Like what you see? Visit the ' +\n",
              "            '<a target=\"_blank\" href=https://colab.research.google.com/notebooks/data_table.ipynb>data table notebook</a>'\n",
              "            + ' to learn more about interactive tables.';\n",
              "          element.innerHTML = '';\n",
              "          dataTable['output_type'] = 'display_data';\n",
              "          await google.colab.output.renderOutput(dataTable, element);\n",
              "          const docLink = document.createElement('div');\n",
              "          docLink.innerHTML = docLinkHtml;\n",
              "          element.appendChild(docLink);\n",
              "        }\n",
              "      </script>\n",
              "    </div>\n",
              "  </div>\n",
              "  "
            ]
          },
          "metadata": {},
          "execution_count": 35
        }
      ]
    },
    {
      "cell_type": "code",
      "source": [
        "sample_df.marks.fillna(sample_df.marks.mean(),inplace=True)\n",
        "sample_df"
      ],
      "metadata": {
        "colab": {
          "base_uri": "https://localhost:8080/",
          "height": 206
        },
        "id": "KB1pnK27R6J5",
        "outputId": "e16d222c-6d87-4dd6-d6f2-a6be57035985"
      },
      "execution_count": null,
      "outputs": [
        {
          "output_type": "execute_result",
          "data": {
            "text/plain": [
              "  gender grade  marks    id\n",
              "0      M     A   22.0  a101\n",
              "1      F     A   17.0  a102\n",
              "2      M     B   12.0  a103\n",
              "3      M     B   17.0  a104\n",
              "4      F     A   17.0  a105"
            ],
            "text/html": [
              "\n",
              "  <div id=\"df-8ceebfc4-133a-494e-a9ae-68a7872666e5\">\n",
              "    <div class=\"colab-df-container\">\n",
              "      <div>\n",
              "<style scoped>\n",
              "    .dataframe tbody tr th:only-of-type {\n",
              "        vertical-align: middle;\n",
              "    }\n",
              "\n",
              "    .dataframe tbody tr th {\n",
              "        vertical-align: top;\n",
              "    }\n",
              "\n",
              "    .dataframe thead th {\n",
              "        text-align: right;\n",
              "    }\n",
              "</style>\n",
              "<table border=\"1\" class=\"dataframe\">\n",
              "  <thead>\n",
              "    <tr style=\"text-align: right;\">\n",
              "      <th></th>\n",
              "      <th>gender</th>\n",
              "      <th>grade</th>\n",
              "      <th>marks</th>\n",
              "      <th>id</th>\n",
              "    </tr>\n",
              "  </thead>\n",
              "  <tbody>\n",
              "    <tr>\n",
              "      <th>0</th>\n",
              "      <td>M</td>\n",
              "      <td>A</td>\n",
              "      <td>22.0</td>\n",
              "      <td>a101</td>\n",
              "    </tr>\n",
              "    <tr>\n",
              "      <th>1</th>\n",
              "      <td>F</td>\n",
              "      <td>A</td>\n",
              "      <td>17.0</td>\n",
              "      <td>a102</td>\n",
              "    </tr>\n",
              "    <tr>\n",
              "      <th>2</th>\n",
              "      <td>M</td>\n",
              "      <td>B</td>\n",
              "      <td>12.0</td>\n",
              "      <td>a103</td>\n",
              "    </tr>\n",
              "    <tr>\n",
              "      <th>3</th>\n",
              "      <td>M</td>\n",
              "      <td>B</td>\n",
              "      <td>17.0</td>\n",
              "      <td>a104</td>\n",
              "    </tr>\n",
              "    <tr>\n",
              "      <th>4</th>\n",
              "      <td>F</td>\n",
              "      <td>A</td>\n",
              "      <td>17.0</td>\n",
              "      <td>a105</td>\n",
              "    </tr>\n",
              "  </tbody>\n",
              "</table>\n",
              "</div>\n",
              "      <button class=\"colab-df-convert\" onclick=\"convertToInteractive('df-8ceebfc4-133a-494e-a9ae-68a7872666e5')\"\n",
              "              title=\"Convert this dataframe to an interactive table.\"\n",
              "              style=\"display:none;\">\n",
              "        \n",
              "  <svg xmlns=\"http://www.w3.org/2000/svg\" height=\"24px\"viewBox=\"0 0 24 24\"\n",
              "       width=\"24px\">\n",
              "    <path d=\"M0 0h24v24H0V0z\" fill=\"none\"/>\n",
              "    <path d=\"M18.56 5.44l.94 2.06.94-2.06 2.06-.94-2.06-.94-.94-2.06-.94 2.06-2.06.94zm-11 1L8.5 8.5l.94-2.06 2.06-.94-2.06-.94L8.5 2.5l-.94 2.06-2.06.94zm10 10l.94 2.06.94-2.06 2.06-.94-2.06-.94-.94-2.06-.94 2.06-2.06.94z\"/><path d=\"M17.41 7.96l-1.37-1.37c-.4-.4-.92-.59-1.43-.59-.52 0-1.04.2-1.43.59L10.3 9.45l-7.72 7.72c-.78.78-.78 2.05 0 2.83L4 21.41c.39.39.9.59 1.41.59.51 0 1.02-.2 1.41-.59l7.78-7.78 2.81-2.81c.8-.78.8-2.07 0-2.86zM5.41 20L4 18.59l7.72-7.72 1.47 1.35L5.41 20z\"/>\n",
              "  </svg>\n",
              "      </button>\n",
              "      \n",
              "  <style>\n",
              "    .colab-df-container {\n",
              "      display:flex;\n",
              "      flex-wrap:wrap;\n",
              "      gap: 12px;\n",
              "    }\n",
              "\n",
              "    .colab-df-convert {\n",
              "      background-color: #E8F0FE;\n",
              "      border: none;\n",
              "      border-radius: 50%;\n",
              "      cursor: pointer;\n",
              "      display: none;\n",
              "      fill: #1967D2;\n",
              "      height: 32px;\n",
              "      padding: 0 0 0 0;\n",
              "      width: 32px;\n",
              "    }\n",
              "\n",
              "    .colab-df-convert:hover {\n",
              "      background-color: #E2EBFA;\n",
              "      box-shadow: 0px 1px 2px rgba(60, 64, 67, 0.3), 0px 1px 3px 1px rgba(60, 64, 67, 0.15);\n",
              "      fill: #174EA6;\n",
              "    }\n",
              "\n",
              "    [theme=dark] .colab-df-convert {\n",
              "      background-color: #3B4455;\n",
              "      fill: #D2E3FC;\n",
              "    }\n",
              "\n",
              "    [theme=dark] .colab-df-convert:hover {\n",
              "      background-color: #434B5C;\n",
              "      box-shadow: 0px 1px 3px 1px rgba(0, 0, 0, 0.15);\n",
              "      filter: drop-shadow(0px 1px 2px rgba(0, 0, 0, 0.3));\n",
              "      fill: #FFFFFF;\n",
              "    }\n",
              "  </style>\n",
              "\n",
              "      <script>\n",
              "        const buttonEl =\n",
              "          document.querySelector('#df-8ceebfc4-133a-494e-a9ae-68a7872666e5 button.colab-df-convert');\n",
              "        buttonEl.style.display =\n",
              "          google.colab.kernel.accessAllowed ? 'block' : 'none';\n",
              "\n",
              "        async function convertToInteractive(key) {\n",
              "          const element = document.querySelector('#df-8ceebfc4-133a-494e-a9ae-68a7872666e5');\n",
              "          const dataTable =\n",
              "            await google.colab.kernel.invokeFunction('convertToInteractive',\n",
              "                                                     [key], {});\n",
              "          if (!dataTable) return;\n",
              "\n",
              "          const docLinkHtml = 'Like what you see? Visit the ' +\n",
              "            '<a target=\"_blank\" href=https://colab.research.google.com/notebooks/data_table.ipynb>data table notebook</a>'\n",
              "            + ' to learn more about interactive tables.';\n",
              "          element.innerHTML = '';\n",
              "          dataTable['output_type'] = 'display_data';\n",
              "          await google.colab.output.renderOutput(dataTable, element);\n",
              "          const docLink = document.createElement('div');\n",
              "          docLink.innerHTML = docLinkHtml;\n",
              "          element.appendChild(docLink);\n",
              "        }\n",
              "      </script>\n",
              "    </div>\n",
              "  </div>\n",
              "  "
            ]
          },
          "metadata": {},
          "execution_count": 36
        }
      ]
    },
    {
      "cell_type": "markdown",
      "source": [
        "#**Preprocessing, sorting and agregatingdata**"
      ],
      "metadata": {
        "id": "I5bwjOYDSQPs"
      }
    },
    {
      "cell_type": "code",
      "source": [
        "# sort by id, student ...\n",
        "# data_frame.sort_value(by=['column']) or # data_frame.sort_value(by=['column',''column], ascending =[True,False])\n",
        "# important inplace = True\n",
        "# if you do not have inplace, use data_frame.reset_index()\n",
        "\n",
        "\n",
        "# Concatenate multiple dataframes\n",
        "          #  pd.concat(dataframes, axis=0) 0 is rows and 1 is columns\n",
        "\n",
        "# SQL-like joints\n",
        "        # main_df.merge(mapping_df, how= 'left', on = 'label') also left, right, inner or outer"
      ],
      "metadata": {
        "id": "AxytkI0MRjDL"
      },
      "execution_count": null,
      "outputs": []
    },
    {
      "cell_type": "code",
      "source": [
        "import pandas as pd\n",
        "\n",
        "sample_df1 = pd.DataFrame({'gender': ['m','f','m','m','f'],\n",
        "                           'id': ['a101','a104','a106', 'a110', 'a105']})\n",
        "\n",
        "\n",
        "sample_df2 = pd.DataFrame({'grade':['a','a','b','b','a'],\n",
        "                           'id': ['a101','a102','a103','a104','a105']})\n",
        "\n",
        "# sample_df1.merge(sample_df2, how='outer', on ='id')\n",
        "sample_df1.merge(sample_df2, how='right', on ='id')"
      ],
      "metadata": {
        "colab": {
          "base_uri": "https://localhost:8080/",
          "height": 206
        },
        "id": "GQz0qVgbMBfN",
        "outputId": "2c720841-e7f6-4629-da3d-dad973059ef2"
      },
      "execution_count": null,
      "outputs": [
        {
          "output_type": "execute_result",
          "data": {
            "text/plain": [
              "  gender    id grade\n",
              "0      m  a101     a\n",
              "1    NaN  a102     a\n",
              "2    NaN  a103     b\n",
              "3      f  a104     b\n",
              "4      f  a105     a"
            ],
            "text/html": [
              "\n",
              "  <div id=\"df-0f1bbc3d-c3f8-491a-99f7-4787d1b7189f\">\n",
              "    <div class=\"colab-df-container\">\n",
              "      <div>\n",
              "<style scoped>\n",
              "    .dataframe tbody tr th:only-of-type {\n",
              "        vertical-align: middle;\n",
              "    }\n",
              "\n",
              "    .dataframe tbody tr th {\n",
              "        vertical-align: top;\n",
              "    }\n",
              "\n",
              "    .dataframe thead th {\n",
              "        text-align: right;\n",
              "    }\n",
              "</style>\n",
              "<table border=\"1\" class=\"dataframe\">\n",
              "  <thead>\n",
              "    <tr style=\"text-align: right;\">\n",
              "      <th></th>\n",
              "      <th>gender</th>\n",
              "      <th>id</th>\n",
              "      <th>grade</th>\n",
              "    </tr>\n",
              "  </thead>\n",
              "  <tbody>\n",
              "    <tr>\n",
              "      <th>0</th>\n",
              "      <td>m</td>\n",
              "      <td>a101</td>\n",
              "      <td>a</td>\n",
              "    </tr>\n",
              "    <tr>\n",
              "      <th>1</th>\n",
              "      <td>NaN</td>\n",
              "      <td>a102</td>\n",
              "      <td>a</td>\n",
              "    </tr>\n",
              "    <tr>\n",
              "      <th>2</th>\n",
              "      <td>NaN</td>\n",
              "      <td>a103</td>\n",
              "      <td>b</td>\n",
              "    </tr>\n",
              "    <tr>\n",
              "      <th>3</th>\n",
              "      <td>f</td>\n",
              "      <td>a104</td>\n",
              "      <td>b</td>\n",
              "    </tr>\n",
              "    <tr>\n",
              "      <th>4</th>\n",
              "      <td>f</td>\n",
              "      <td>a105</td>\n",
              "      <td>a</td>\n",
              "    </tr>\n",
              "  </tbody>\n",
              "</table>\n",
              "</div>\n",
              "      <button class=\"colab-df-convert\" onclick=\"convertToInteractive('df-0f1bbc3d-c3f8-491a-99f7-4787d1b7189f')\"\n",
              "              title=\"Convert this dataframe to an interactive table.\"\n",
              "              style=\"display:none;\">\n",
              "        \n",
              "  <svg xmlns=\"http://www.w3.org/2000/svg\" height=\"24px\"viewBox=\"0 0 24 24\"\n",
              "       width=\"24px\">\n",
              "    <path d=\"M0 0h24v24H0V0z\" fill=\"none\"/>\n",
              "    <path d=\"M18.56 5.44l.94 2.06.94-2.06 2.06-.94-2.06-.94-.94-2.06-.94 2.06-2.06.94zm-11 1L8.5 8.5l.94-2.06 2.06-.94-2.06-.94L8.5 2.5l-.94 2.06-2.06.94zm10 10l.94 2.06.94-2.06 2.06-.94-2.06-.94-.94-2.06-.94 2.06-2.06.94z\"/><path d=\"M17.41 7.96l-1.37-1.37c-.4-.4-.92-.59-1.43-.59-.52 0-1.04.2-1.43.59L10.3 9.45l-7.72 7.72c-.78.78-.78 2.05 0 2.83L4 21.41c.39.39.9.59 1.41.59.51 0 1.02-.2 1.41-.59l7.78-7.78 2.81-2.81c.8-.78.8-2.07 0-2.86zM5.41 20L4 18.59l7.72-7.72 1.47 1.35L5.41 20z\"/>\n",
              "  </svg>\n",
              "      </button>\n",
              "      \n",
              "  <style>\n",
              "    .colab-df-container {\n",
              "      display:flex;\n",
              "      flex-wrap:wrap;\n",
              "      gap: 12px;\n",
              "    }\n",
              "\n",
              "    .colab-df-convert {\n",
              "      background-color: #E8F0FE;\n",
              "      border: none;\n",
              "      border-radius: 50%;\n",
              "      cursor: pointer;\n",
              "      display: none;\n",
              "      fill: #1967D2;\n",
              "      height: 32px;\n",
              "      padding: 0 0 0 0;\n",
              "      width: 32px;\n",
              "    }\n",
              "\n",
              "    .colab-df-convert:hover {\n",
              "      background-color: #E2EBFA;\n",
              "      box-shadow: 0px 1px 2px rgba(60, 64, 67, 0.3), 0px 1px 3px 1px rgba(60, 64, 67, 0.15);\n",
              "      fill: #174EA6;\n",
              "    }\n",
              "\n",
              "    [theme=dark] .colab-df-convert {\n",
              "      background-color: #3B4455;\n",
              "      fill: #D2E3FC;\n",
              "    }\n",
              "\n",
              "    [theme=dark] .colab-df-convert:hover {\n",
              "      background-color: #434B5C;\n",
              "      box-shadow: 0px 1px 3px 1px rgba(0, 0, 0, 0.15);\n",
              "      filter: drop-shadow(0px 1px 2px rgba(0, 0, 0, 0.3));\n",
              "      fill: #FFFFFF;\n",
              "    }\n",
              "  </style>\n",
              "\n",
              "      <script>\n",
              "        const buttonEl =\n",
              "          document.querySelector('#df-0f1bbc3d-c3f8-491a-99f7-4787d1b7189f button.colab-df-convert');\n",
              "        buttonEl.style.display =\n",
              "          google.colab.kernel.accessAllowed ? 'block' : 'none';\n",
              "\n",
              "        async function convertToInteractive(key) {\n",
              "          const element = document.querySelector('#df-0f1bbc3d-c3f8-491a-99f7-4787d1b7189f');\n",
              "          const dataTable =\n",
              "            await google.colab.kernel.invokeFunction('convertToInteractive',\n",
              "                                                     [key], {});\n",
              "          if (!dataTable) return;\n",
              "\n",
              "          const docLinkHtml = 'Like what you see? Visit the ' +\n",
              "            '<a target=\"_blank\" href=https://colab.research.google.com/notebooks/data_table.ipynb>data table notebook</a>'\n",
              "            + ' to learn more about interactive tables.';\n",
              "          element.innerHTML = '';\n",
              "          dataTable['output_type'] = 'display_data';\n",
              "          await google.colab.output.renderOutput(dataTable, element);\n",
              "          const docLink = document.createElement('div');\n",
              "          docLink.innerHTML = docLinkHtml;\n",
              "          element.appendChild(docLink);\n",
              "        }\n",
              "      </script>\n",
              "    </div>\n",
              "  </div>\n",
              "  "
            ]
          },
          "metadata": {},
          "execution_count": 4
        }
      ]
    },
    {
      "cell_type": "code",
      "source": [
        "student_id = pd.DataFrame({'college':['zu university','zu university','zu university','zu university','zu university',],\n",
        "                           'roll_no': [102,101,104,103,105],\n",
        "                           'name': ['Aravind','Rahul','Prateek','Piyuesh', 'Kartik'],\n",
        "                           'grade':['b','b','a','c','a'],\n",
        "                           'mark':[15,15,20,4,22],\n",
        "                           'city': ['Gurugram','Delhi','Delhi', 'Gurugram','hyderabad']})\n",
        "pool = pd.DataFrame({'college':['zu university','zu university','ab university','zu university','ab university',],\n",
        "                     'name':['Aravind','Rahul','Rahul','Prateek','Harsh'],\n",
        "                     'company':['abc','xyz','abc','aep','abc'],\n",
        "                     'package':[8,14.5,11,6,6]})\n",
        "\n",
        "\n",
        "student_id.merge(pool, how = 'inner', on = ['college','name'])\n",
        "# student_id.merge(pool, how = 'left', on = ['college','name'])\n",
        "# student_id.merge(pool, how = 'right', on = ['college','name'])"
      ],
      "metadata": {
        "colab": {
          "base_uri": "https://localhost:8080/",
          "height": 143
        },
        "id": "CLw2XKTiM60p",
        "outputId": "448a261c-c187-41ff-bc9a-71b5518729a5"
      },
      "execution_count": null,
      "outputs": [
        {
          "output_type": "execute_result",
          "data": {
            "text/plain": [
              "         college  roll_no     name grade  mark      city company  package\n",
              "0  zu university      102  Aravind     b    15  Gurugram     abc      8.0\n",
              "1  zu university      101    Rahul     b    15     Delhi     xyz     14.5\n",
              "2  zu university      104  Prateek     a    20     Delhi     aep      6.0"
            ],
            "text/html": [
              "\n",
              "  <div id=\"df-7b0d7e18-9058-409d-9e1e-4893ac6f04b4\">\n",
              "    <div class=\"colab-df-container\">\n",
              "      <div>\n",
              "<style scoped>\n",
              "    .dataframe tbody tr th:only-of-type {\n",
              "        vertical-align: middle;\n",
              "    }\n",
              "\n",
              "    .dataframe tbody tr th {\n",
              "        vertical-align: top;\n",
              "    }\n",
              "\n",
              "    .dataframe thead th {\n",
              "        text-align: right;\n",
              "    }\n",
              "</style>\n",
              "<table border=\"1\" class=\"dataframe\">\n",
              "  <thead>\n",
              "    <tr style=\"text-align: right;\">\n",
              "      <th></th>\n",
              "      <th>college</th>\n",
              "      <th>roll_no</th>\n",
              "      <th>name</th>\n",
              "      <th>grade</th>\n",
              "      <th>mark</th>\n",
              "      <th>city</th>\n",
              "      <th>company</th>\n",
              "      <th>package</th>\n",
              "    </tr>\n",
              "  </thead>\n",
              "  <tbody>\n",
              "    <tr>\n",
              "      <th>0</th>\n",
              "      <td>zu university</td>\n",
              "      <td>102</td>\n",
              "      <td>Aravind</td>\n",
              "      <td>b</td>\n",
              "      <td>15</td>\n",
              "      <td>Gurugram</td>\n",
              "      <td>abc</td>\n",
              "      <td>8.0</td>\n",
              "    </tr>\n",
              "    <tr>\n",
              "      <th>1</th>\n",
              "      <td>zu university</td>\n",
              "      <td>101</td>\n",
              "      <td>Rahul</td>\n",
              "      <td>b</td>\n",
              "      <td>15</td>\n",
              "      <td>Delhi</td>\n",
              "      <td>xyz</td>\n",
              "      <td>14.5</td>\n",
              "    </tr>\n",
              "    <tr>\n",
              "      <th>2</th>\n",
              "      <td>zu university</td>\n",
              "      <td>104</td>\n",
              "      <td>Prateek</td>\n",
              "      <td>a</td>\n",
              "      <td>20</td>\n",
              "      <td>Delhi</td>\n",
              "      <td>aep</td>\n",
              "      <td>6.0</td>\n",
              "    </tr>\n",
              "  </tbody>\n",
              "</table>\n",
              "</div>\n",
              "      <button class=\"colab-df-convert\" onclick=\"convertToInteractive('df-7b0d7e18-9058-409d-9e1e-4893ac6f04b4')\"\n",
              "              title=\"Convert this dataframe to an interactive table.\"\n",
              "              style=\"display:none;\">\n",
              "        \n",
              "  <svg xmlns=\"http://www.w3.org/2000/svg\" height=\"24px\"viewBox=\"0 0 24 24\"\n",
              "       width=\"24px\">\n",
              "    <path d=\"M0 0h24v24H0V0z\" fill=\"none\"/>\n",
              "    <path d=\"M18.56 5.44l.94 2.06.94-2.06 2.06-.94-2.06-.94-.94-2.06-.94 2.06-2.06.94zm-11 1L8.5 8.5l.94-2.06 2.06-.94-2.06-.94L8.5 2.5l-.94 2.06-2.06.94zm10 10l.94 2.06.94-2.06 2.06-.94-2.06-.94-.94-2.06-.94 2.06-2.06.94z\"/><path d=\"M17.41 7.96l-1.37-1.37c-.4-.4-.92-.59-1.43-.59-.52 0-1.04.2-1.43.59L10.3 9.45l-7.72 7.72c-.78.78-.78 2.05 0 2.83L4 21.41c.39.39.9.59 1.41.59.51 0 1.02-.2 1.41-.59l7.78-7.78 2.81-2.81c.8-.78.8-2.07 0-2.86zM5.41 20L4 18.59l7.72-7.72 1.47 1.35L5.41 20z\"/>\n",
              "  </svg>\n",
              "      </button>\n",
              "      \n",
              "  <style>\n",
              "    .colab-df-container {\n",
              "      display:flex;\n",
              "      flex-wrap:wrap;\n",
              "      gap: 12px;\n",
              "    }\n",
              "\n",
              "    .colab-df-convert {\n",
              "      background-color: #E8F0FE;\n",
              "      border: none;\n",
              "      border-radius: 50%;\n",
              "      cursor: pointer;\n",
              "      display: none;\n",
              "      fill: #1967D2;\n",
              "      height: 32px;\n",
              "      padding: 0 0 0 0;\n",
              "      width: 32px;\n",
              "    }\n",
              "\n",
              "    .colab-df-convert:hover {\n",
              "      background-color: #E2EBFA;\n",
              "      box-shadow: 0px 1px 2px rgba(60, 64, 67, 0.3), 0px 1px 3px 1px rgba(60, 64, 67, 0.15);\n",
              "      fill: #174EA6;\n",
              "    }\n",
              "\n",
              "    [theme=dark] .colab-df-convert {\n",
              "      background-color: #3B4455;\n",
              "      fill: #D2E3FC;\n",
              "    }\n",
              "\n",
              "    [theme=dark] .colab-df-convert:hover {\n",
              "      background-color: #434B5C;\n",
              "      box-shadow: 0px 1px 3px 1px rgba(0, 0, 0, 0.15);\n",
              "      filter: drop-shadow(0px 1px 2px rgba(0, 0, 0, 0.3));\n",
              "      fill: #FFFFFF;\n",
              "    }\n",
              "  </style>\n",
              "\n",
              "      <script>\n",
              "        const buttonEl =\n",
              "          document.querySelector('#df-7b0d7e18-9058-409d-9e1e-4893ac6f04b4 button.colab-df-convert');\n",
              "        buttonEl.style.display =\n",
              "          google.colab.kernel.accessAllowed ? 'block' : 'none';\n",
              "\n",
              "        async function convertToInteractive(key) {\n",
              "          const element = document.querySelector('#df-7b0d7e18-9058-409d-9e1e-4893ac6f04b4');\n",
              "          const dataTable =\n",
              "            await google.colab.kernel.invokeFunction('convertToInteractive',\n",
              "                                                     [key], {});\n",
              "          if (!dataTable) return;\n",
              "\n",
              "          const docLinkHtml = 'Like what you see? Visit the ' +\n",
              "            '<a target=\"_blank\" href=https://colab.research.google.com/notebooks/data_table.ipynb>data table notebook</a>'\n",
              "            + ' to learn more about interactive tables.';\n",
              "          element.innerHTML = '';\n",
              "          dataTable['output_type'] = 'display_data';\n",
              "          await google.colab.output.renderOutput(dataTable, element);\n",
              "          const docLink = document.createElement('div');\n",
              "          docLink.innerHTML = docLinkHtml;\n",
              "          element.appendChild(docLink);\n",
              "        }\n",
              "      </script>\n",
              "    </div>\n",
              "  </div>\n",
              "  "
            ]
          },
          "metadata": {},
          "execution_count": 9
        }
      ]
    },
    {
      "cell_type": "code",
      "source": [
        "# Aggregation ans Summarization\n",
        "# data.label.sum() or sum or mean or mode or median\n",
        "# data.groupby([label])\n",
        "# data.first()\n",
        "# d.max()\n",
        "# data.groupby([label,label]).mean()\n",
        "\n",
        "# You can do a lot of pivot table with:\n",
        "#                           pd.pivot_table(data, index='',values='')...\n",
        "# pd,crosstab(data[''], data[''])\n",
        "\n",
        "# The aggregation is more complex than I thought, functions, large codes ...We can do with more time\n",
        "# Use librairy datetime to convert datetime to type timedelta64[ns]\n",
        "# Create cloumn of month or day of year is data.datatime.dt.day_name or month_day...\n",
        "# Localize timezone with data.datemtime.dt.tz_localize('Continent/Country')\n",
        "# Convert timezone with data.Column_tz.dt.tz_convert('Continent/Country')\n",
        "\n",
        "\n"
      ],
      "metadata": {
        "id": "_SKzq8ST2rPc"
      },
      "execution_count": null,
      "outputs": []
    },
    {
      "cell_type": "code",
      "source": [
        "import pandas as pd\n",
        "import datetime as dt\n",
        "\n",
        "data = pd.DataFrame({'id': [0,1,2,3,4],\n",
        "                     'Datetime': ['25 Aug 2012','25 Aug 2012','25 Aug 2012','25 Aug 2012','25 Aug 2012'],\n",
        "                     'Count': [8,2,6,2,2]})\n",
        "pd.to_datetime(data.Datetime, format ='%d %b %Y')"
      ],
      "metadata": {
        "colab": {
          "base_uri": "https://localhost:8080/"
        },
        "id": "Q0z_F5sK-9O3",
        "outputId": "6dc93701-8d26-404c-e2f5-236869a89262"
      },
      "execution_count": null,
      "outputs": [
        {
          "output_type": "execute_result",
          "data": {
            "text/plain": [
              "0   2012-08-25\n",
              "1   2012-08-25\n",
              "2   2012-08-25\n",
              "3   2012-08-25\n",
              "4   2012-08-25\n",
              "Name: Datetime, dtype: datetime64[ns]"
            ]
          },
          "metadata": {},
          "execution_count": 8
        }
      ]
    },
    {
      "cell_type": "markdown",
      "source": [
        "#**Machine Learning Lifecycle**"
      ],
      "metadata": {
        "id": "f48T0CcDrFVG"
      }
    },
    {
      "cell_type": "markdown",
      "source": [
        "Six steps pf predictive model:\n",
        "\n",
        "                                - Problem definition\n",
        "                                - Hypothesis Generation\n",
        "                                - Data extraction / Collection\n",
        "                                - Data Exploration and transformation\n",
        "                                - Predictive model\n",
        "                                - Model Deployment / Implementation\n",
        "\n",
        "\n",
        "Predictive modeling is a process to create statistical model for estimating/predicting the future behaviour based on past data.\n",
        "\n"
      ],
      "metadata": {
        "id": "bKHCwu3K-bfB"
      }
    },
    {
      "cell_type": "markdown",
      "source": [
        "#**Importance of Stats and EDA**\n",
        "\n"
      ],
      "metadata": {
        "id": "C7QBWSH25N_8"
      }
    },
    {
      "cell_type": "markdown",
      "source": [
        "**E**stimation **D**ata **A**nalysis\n",
        "Descriptive Statistics:\n",
        "\n",
        "                        Summarize data\n",
        "                        Visual representation as histogram, bar and pie plots\n",
        "                        Central tendency\n",
        "                        Relation variables\n",
        "                  \n",
        "Inferencial Statistics:\n",
        "\n",
        "                        Aproximation of Data\n",
        "                        Try to validate a hypothesis\n",
        "                        Error analysis of sample\n",
        "\n"
      ],
      "metadata": {
        "id": "oF1sev1x5E6e"
      }
    },
    {
      "cell_type": "markdown",
      "source": [
        "#**Build your first predictive model**\n"
      ],
      "metadata": {
        "id": "CfYYxVFNv7zS"
      }
    },
    {
      "cell_type": "markdown",
      "source": [
        "**Steps for benchmark models**:\n",
        "\n",
        "      Hypothesis generation:\n",
        "      Get dataset ready for your models: Divide the data in training (build and train model) set and testing set\n",
        "      Modelling process: Supervised ML (Regression or classification)\n",
        "      Evaluation:\n",
        "\n",
        "\n",
        "When you have a dataset, add the data to your code: \n",
        "\n",
        "```\n",
        "df = pd.read_csv('')\n",
        "```\n",
        "the see if you have a missed values:\n",
        "\n",
        "\n",
        "```\n",
        "data.ismull().sum()\n",
        "```\n",
        "\n",
        "Then you create train and test from your dataset. You can divide your dataet with pandas and scikitlearn:\n",
        "\n",
        "\n",
        "```\n",
        "from sklearn.util import shuffle\n",
        "df = shuffle(df, random_state = 42)\n",
        "div = int(df.shape[0]/4)\n",
        "\n",
        "#Three parts of training set and one part of testing set\n",
        "train = df.loc[:3*div+1,:]\n",
        "test = df.loc[3*div+1:]\n",
        "```\n",
        "\n",
        "\n",
        "From here, you can create your models.\n",
        "\n",
        "****"
      ],
      "metadata": {
        "id": "iRsHMDf-wAnm"
      }
    },
    {
      "cell_type": "markdown",
      "source": [
        "**e.g. is a simple mean model for regression model**: First you store any variable's mean of the train set in a new column of test set:\n",
        "\n",
        "```\n",
        "test['simple_mean'] = train['item_Outlet_sales'].mean()\n",
        "```\n",
        "And calculate errors (evaluation metric for regressions - mae):\n",
        "\n",
        "```\n",
        "From sklearn.metrics import mean_absolute_error as mae\n",
        "simple_mean_error = mae(test['Item_Outlet_sales'], test['simple_mean'])\n",
        "simple_mean_error\n",
        "```\n",
        "Doing smater predictions, we can take mean of any other value, like outlet_type, Outlet_location_type or/and Outlet_establisment_year:\n",
        "\n",
        "\n",
        "\n",
        "```\n",
        "out_type = pd.pivot_table(train, values = 'Item_outlet_sales', index = ['Outlet_type'], aggfunc = np.mean)\n",
        "out_type\n",
        "```\n",
        "\n",
        "Create the model(with **for** to running a loop for any mean calculated), and calculate the error. You reduce error\n",
        "\n",
        "****\n",
        "\n",
        "\n",
        "\n",
        "\n"
      ],
      "metadata": {
        "id": "HtrDZ_-Y6v2F"
      }
    },
    {
      "cell_type": "markdown",
      "source": [
        "**e.g. is a simple mode model for classification model**: First you store any variable's mode of the train set in a new column of test set:\n",
        "\n",
        "```\n",
        "test['simple_mode']= train['survived'].mode()[0]\n",
        "```\n",
        "\n",
        "then, you calculate the accuracy (evaluation metric for classification):\n",
        "\n",
        "\n",
        "\n",
        "```\n",
        "simple_mode_accuracy = accuracy_score(test['survived'], test['simple_mode'])\n",
        "simple_mode_accuracy\n",
        "```\n",
        "\n",
        "\n",
        "\n",
        "\n",
        "\n"
      ],
      "metadata": {
        "id": "nNJNlnGA_xf6"
      }
    },
    {
      "cell_type": "markdown",
      "source": [
        "#**Evaluation metrics**"
      ],
      "metadata": {
        "id": "h_8gn20zGU7u"
      }
    },
    {
      "cell_type": "markdown",
      "source": [
        "**Confusion matrix** is for clasification problems. Represent preficted values against actual values. True positive(TP), False negative(FN), False positive(FP) and True negative(TN).\n",
        "\n",
        "**Accuracy** is for classification tasks. Accuracy = (Correct predictions)/(Total predictions) = (TP + TN)/(TP + TN + FP + FN)\n",
        "\n",
        "**True positive rate** is alternative to accuracy. TPR = TP/(TP + FN). High value, better model.\n",
        "\n",
        "**False negative rate** is alternative to accuracy. FNR = FN/(TP + FN).Low value, better model.\n",
        "\n",
        "**True negative rate** is alternative to accuracy. TNR = TN/(FP + TN). High value, better model.\n",
        "\n",
        "**False positive rate** is alternative to accuracy. FPR = FP/(FP + TN). Tend to zero, better model.\n",
        "\n",
        "How to select a metric?\n",
        "\n",
        "                        Use a combination of both\n",
        "                        Validation\n",
        "                        Depends on use case\n",
        "\n",
        "\n",
        "**Precision** Predictions Actually Positive/ Total predicted positive. Presicion = TP/(TP + FP). Minimize FP\n",
        "\n",
        "**Recall** Predictiones Actually positive / Total Actual Positive. Recall = TP / (TP + FN). Minimize FN\n",
        "\n",
        "F1 is maximum when Presicion = recall. F1 = 2 /((1/presicion) + (1/recall))\n",
        "\n",
        "**Thresholding** don't get it\n",
        "\n",
        "**AUC-ROC**. Probability of classes. It's plotted between TPR and FPR. TPR should be greater than FPR. don't get it\n",
        "\n",
        "**Log loss** Probability of classes. Compare two models. Considers order of probability. It's the negative average of the log of corrected predicted probabilities for each instance. Corrected probabilities mean. The lower log loss, the better predictions.\n",
        "\n",
        "**Evaluation Metrics for Regression** \n",
        "\n",
        "                                    MAE: \n",
        "                                    MSE:\n",
        "                                    RMSE:\n",
        "                                    RMSLE:\n",
        "                                    R-Squared: 1-MSE(model)/MSE(baseline: mean values). higher value, better model.\n",
        "                                    Adjusted R-Squared: Include numnber of samples and number of features.\n",
        "\n",
        "\n",
        "\n"
      ],
      "metadata": {
        "id": "aASjRks9GZRr"
      }
    },
    {
      "cell_type": "markdown",
      "source": [
        "#**Processing Data**\n",
        "\n"
      ],
      "metadata": {
        "id": "BbfRvIZsK4c5"
      }
    },
    {
      "cell_type": "markdown",
      "source": [
        "\n",
        "\n",
        "1.   Input missing values\n",
        "                    1. Deleting (not recommended)\n",
        "                          data.isnull().sum()\n",
        "                          data_row_del = data.dropna(axis =0)\n",
        "                          data_del_col = data.dropna(thresh=500, axis =1)\n",
        "\n",
        "                    2. Replacing (isn't the best method)\n",
        "                          data['column'].fillna(value = 'missing')\n",
        "                          (data['column'].isnull()).astype('int') --remplazing with 1 and 0s\n",
        "\n",
        "                    3. Inputing\n",
        "                          Central tendency\n",
        "                              data['col'].mean() or data['col'].mode()\n",
        "                              data['column'].fillna(value = mean)\n",
        "\n",
        "                          Relationship with features\n",
        "                              data.corr()\n",
        "                              \n",
        "                          ML model (this is the most popular)\n",
        "\n",
        "2.   Remove Categorical (string) values\n",
        "                          There are two types: \n",
        "                          1. Nominal (gender, size)\n",
        "                              data['col'].nunique()\n",
        "                              pd.get_dummies(data['col']).head()\n",
        "\n",
        "                          2. Ordinal (names, education)\n",
        "\n",
        "3.   Treat Outliers. Outliers are extreme values relatives to other observations.\n",
        "\n",
        "                               IQR  = data.['col'].qunatile(0.75) -data.['col'].qunatile(0.75)\n",
        "                               Q1 = data.['col'].qunatile(0.25)\n",
        "                               Q2 = data.['col'].qunatile(0.75)\n",
        "\n",
        "                               whisker_1 = Q1-(1.5*IQR)\n",
        "                               whisker_2 = Q3+(1.5*IQR)\n",
        "\n",
        "                          1. Delete the data points (not advice)\n",
        "                               data_new = data.loc[data['col'] < whisker_2\n",
        "\n",
        "                          2. Replace outliers (central tendency, replace values or whisker values, using ML model)\n",
        "                               data.loc[data['col'] < 7 =Q1\n",
        "\n",
        "                          3. Transform the values or binning values\n",
        "                               (data['col']).hist()\n",
        "                               (np.sqrt(data['col'])).hist()\n",
        "                               (np.log(data['col'])).hist()\n",
        "\n",
        "\n",
        "4.   Feature scaling and variable transformation\n",
        "\n",
        "\n",
        "\n"
      ],
      "metadata": {
        "id": "YFLpNNMhLI2H"
      }
    },
    {
      "cell_type": "markdown",
      "source": [
        "#**Build your fisrt ML model**"
      ],
      "metadata": {
        "id": "YDHopGgdtQcC"
      }
    },
    {
      "cell_type": "markdown",
      "source": [
        "**KNN**: Observe nature of nearest neighbours, lazy learning algorithm and simplest ML algorithm.\n",
        "\n",
        "Steps:\n",
        "\n",
        "    1. Plot the training dataset.\n",
        "    2. Locate the new 'test' instance.\n",
        "    3. Calculate distance from all train data points.\n",
        "    4. Sort the distance list in ascending order.\n",
        "    5. Choose the first k distance from the sorted list.\n",
        "\n",
        "For classification model is mode, for regression model is mean.\n",
        "\n",
        "Determine the value of ***k*** is done by elbow method, you choose the minimun error (k-value vs error). Like whats the best energy used for that problem.\n",
        "\n",
        "How to calculate distance:\n",
        "      \n",
        "                          D = (sum (pi-qi)^k)^1/k\n",
        "\n",
        "    1. Manhattan distance: Sum of absolute differences between two points.\n",
        "        D = sum (pi-qi)\n",
        "\n",
        "    2. Euclideandistance: Shortest distance between two points.\n",
        "        D = Sqrt(sum (pi-qi)^2)\n",
        "\n",
        "    3. Minkowiski distance\n",
        "        D = (sum (pi-qi)^p)^1/p\n",
        "\n",
        "    4. Hamming distance (for categorical values): Total number of differences between two strings of identical length. You count as distance the change value.\n",
        "\n",
        "Fails when values have different units (distance vs price). The problem is resolved normalizing data.\n",
        "\n",
        "For sklearn:\n",
        "\n",
        "    1. Preprocessing:\n",
        "        from sklearn.preprocessing import MinMaxScaler\n",
        "\n",
        "    2. Model Selection.\n",
        "        from sklearn.model_selection import train_test_split\n",
        "\n",
        "    3. Building a model.\n",
        "        from sklearn.linear_model import LinearRegression\n",
        "    \n",
        "    4. Model Evaluation.\n",
        "        from sklearn.metrics import accuracy_score \n",
        "\n",
        "Scale\n",
        "\n",
        "Split\n",
        "\n",
        "Choose k \n",
        "\n",
        "Implement \n",
        "\n",
        "Evaluate"
      ],
      "metadata": {
        "id": "sbfzx8sTtVtc"
      }
    },
    {
      "cell_type": "markdown",
      "source": [
        "#**Selecting the Right Model**"
      ],
      "metadata": {
        "id": "5bXrcMufV_vF"
      }
    },
    {
      "cell_type": "markdown",
      "source": [
        "**Overfitting and Underfitting**\n",
        "For knn model, in the plot of wlbow method where we compared train and test fi score, there is a region between 21 and 60 wherevalidation and train score are low (underfitting), zone that the  model is no learning.  The zone between 0 and 12 is overfitting trying to memorize data.  The bets fit region is between 12 and 21.\n",
        "\n",
        "**High bias** meansthat the model is not able to learn avaliable signals or patterns in the data. High bias, low variance, low complexity on the model (underfitted). Low bias, high variance, high complexity (overfitted). See bias and variance plot (error vs. complexity)\n"
      ],
      "metadata": {
        "id": "GsV-RDqVWL0V"
      }
    },
    {
      "cell_type": "markdown",
      "source": [
        "**Validation set:**\n",
        "Its between train set and test set. we do this to make sure the model does not overfit on the test data. Validation is used for optimization of model and test set for the final evaluation. It's created from train set.\n",
        "\n",
        "    1. Hold-out Validation. First the dataset is splitted into two parts, train and test usinftrain_test_split() function. Then the train set is splitted into two parts using the same function.\n",
        "\n",
        "    2. Stratified hold-out Validation. When adataset is unbalanced, you can use stratify parameter to split the dataset with the same proportions of classes as in the target variable.\n",
        "    \n",
        "    3. Leave one out. N instance N models, very computational expensive. It's practice for small dataset.\n",
        "\n",
        "    4. k-fold cross validation. For setting the value of k, cross_val_score function with parameter cv = k is used. For 5-fold cross validation set cv = 5 along with ohter parameter. You don't need to split train and validation set explicitly:\n",
        "       \n",
        "        1. Shuffle the dataset randomly\n",
        "        2. Split the dataset into k groups:\n",
        "            Pick a group as a hold out.\n",
        "            Take the remaining groups as training and fit a model.\n",
        "            Predict and evaluate on the hold out.\n",
        "        3. Repeat the above procedure with every group."
      ],
      "metadata": {
        "id": "_94vzrxlYkyP"
      }
    },
    {
      "cell_type": "markdown",
      "source": [
        "#**Linear Models**"
      ],
      "metadata": {
        "id": "Gyhq9zw9PVLJ"
      }
    },
    {
      "cell_type": "markdown",
      "source": [
        "We use linear models when there are a corelation between dependent and independent variables. Show a linear pattern. Low MSE = better model.\n",
        "\n",
        "```\n",
        "y = ax + b\n",
        "```\n",
        "**Cost Function:** The cost function of a linear regression is mean squared error. If we have a data, we can create a predicted line:\n",
        "\n",
        "\n",
        "\n",
        "\n",
        "```\n",
        "a = parameter\n",
        "b = parameter\n",
        "line = []\n",
        "for i in range(len(data)):\n",
        "  line.append(a*data.x[i] + b)\n",
        "```\n",
        "We can use mse to calculate error:\n",
        "\n",
        "\n",
        "```\n",
        "from sklearn.metrics import mean_squared_error as mse\n",
        "\n",
        "MSE = mse(data.y, line)\n",
        "```\n",
        "Remember: Low MSE = better model. But, How to know the best parameter?. So, for ***a*** parameter:\n",
        "\n",
        "\n",
        "\n",
        "```\n",
        "#Range of slopes from 0 to 1.5 with increment of 0.01\n",
        "slope = [i/100 for i in range(0,150)]\n",
        "cost = []\n",
        "for i in slope:\n",
        "    costtmp = Error(a = i, data = data)\n",
        "    cost.append(costtmp)\n",
        "\n",
        "```\n",
        "\n",
        "And Error is a function:\n",
        "\n",
        "\n",
        "\n",
        "```\n",
        "def Error(a, data)\n",
        "  b = 1.1 # still parameter\n",
        "  y = []\n",
        "  x = data.x\n",
        "  for i in range(len(data.x)):\n",
        "      tmp = a*data.x[i] + b\n",
        "      y.append(tmp)\n",
        "  MSE = mse(data.y, y)\n",
        "  return y\n",
        "```\n",
        "Plot a(slope) vs cost\n",
        "\n",
        "\n",
        "Gradient descent is a supervised ML tecnique.\n",
        "\n",
        "If there isn't a linear pattern, you can use tramsformation methods to find a pettern (log(x), rootX, squared x). Linear models assume that there isn't correlation between error terms. \n",
        "\n",
        "**Issues with Linear Regression:** \n",
        "    1. More features are participating, leads to more coefficients.\n",
        "    2. Values of coefficinets are large.\n",
        "    3. Overfitting, performing well on train but not on test dataset.\n",
        "\n",
        "Regularization comes to help.\n",
        "***Ridge regularization***, sum a penalty of parameter wich is square of all coeficients plus mean of squared error. We obtain a linear regression cost function. Nullifiedcoefficients still participate. Create a difficulty in interpretation.\n"
      ],
      "metadata": {
        "id": "zXfjtuNoZf8u"
      }
    },
    {
      "cell_type": "markdown",
      "source": [
        "#**Decision Tree**"
      ],
      "metadata": {
        "id": "w1qijrrbHCPU"
      }
    },
    {
      "cell_type": "markdown",
      "source": [
        "Objective of desicion tree is to have pure nodes. am ideal pure node hace  100% of one class and 0% of other classes.\n",
        "\n",
        " The basic idea behind choosing the best split in the data is resultant nodes should be as homogeneous as possible.\n",
        "\n",
        "We can split and split and so on, into multiple desicion.\n",
        "\n",
        "**Common Terminology:**\n",
        "\n",
        "    1. Root node: Representsthe entire population of data.\n",
        "    2. Splitting: Process to divide a node into 2 or more sub-nodes.\n",
        "    3. Decision node: The inicial node.\n",
        "    4. Leaf/Terminal node: The final node, Don't split further.\n",
        "    5. Branch: Sub-tree.\n",
        "    6. Parent and child node: Higher node is the parent and subnodes are children.\n",
        "    7. Depth of tree: The length of the longest path for the root node.\n",
        "\n",
        "\n",
        "**Best split point in Desicion Trees**\n",
        "\n",
        "1. Decision tree splits the nodes on all available variables.\n",
        "2. Selects the split which results in most homogeneous sub-nodes.\n",
        "\n",
        "    1. **Gini impurity:** 1-Gini: If you pick to points from a popular random, they must be from the same class. Lower the gini impurity, higher the homogenety of nodes. Works only with categorical targets.\n",
        "\n",
        "              gini = (p1**2+p2**2+p3**2+...)\n",
        "    \n",
        "    2. **Chi Squared:** Statistical significance of differences between child nodes and their parent node. Higher chi-squared value, more will be the purity of the nodes after split. works only with categorical values. Can perfomr more than two splits.  \n",
        "\n",
        "              chi-squared = (Actual- Expected)**2/ Expected frequencies\n",
        "    \n",
        "    3. **Information Gain:** 1 - entropy: If entroy is zero, represents pure node. High information gain means higher the homogeneity of nodes after the split.\n",
        "\n",
        "              Entropy = -p1*log2p1-p2*log2p2-p3*log2p3-...pn*log2pn  \n",
        "\n",
        "    4. **Reduction in Variance:** Uses standard formula of variance. If variance zero, pure node. Used when target is ***continuous***. Split with lower variance is selected.\n",
        "\n",
        "              Variance = sum[(x-mu)**2]/n\n",
        "              X is the sample\n",
        "              mu is mean\n",
        "              n is number of samples\n",
        "\n",
        "3. Optimizing performance of Decision Tree: Higher values controls overfitting. Too high value can lead to underfitting.\n",
        "      \n",
        "      1. Set minimum samples for a node split.\n",
        "      2. Set minumum samples for a terminal node.\n",
        "      3. Set maximum depth of tree.\n",
        "      4. set maximum terminal nodes.\n",
        "\n",
        "\n",
        "\n",
        "What is the maximum number of terminal nodes in a decision tree if our training dataset has N samples? N\n"
      ],
      "metadata": {
        "id": "zImxSxg6QV6E"
      }
    },
    {
      "cell_type": "code",
      "source": [],
      "metadata": {
        "id": "rPh-OTlnXpRI"
      },
      "execution_count": null,
      "outputs": []
    }
  ]
}