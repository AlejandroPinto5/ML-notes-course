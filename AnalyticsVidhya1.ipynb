{
  "nbformat": 4,
  "nbformat_minor": 0,
  "metadata": {
    "colab": {
      "provenance": [],
      "mount_file_id": "1wP3dThbBpL4L7K5AtCCSCF1CMdYhce-z",
      "authorship_tag": "ABX9TyMQzX48LB3MGIo3kXscyIhs",
      "include_colab_link": true
    },
    "kernelspec": {
      "name": "python3",
      "display_name": "Python 3"
    },
    "language_info": {
      "name": "python"
    }
  },
  "cells": [
    {
      "cell_type": "markdown",
      "metadata": {
        "id": "view-in-github",
        "colab_type": "text"
      },
      "source": [
        "<a href=\"https://colab.research.google.com/github/AlejandroPinto5/ML-notes-course/blob/main/AnalyticsVidhya1.ipynb\" target=\"_parent\"><img src=\"https://colab.research.google.com/assets/colab-badge.svg\" alt=\"Open In Colab\"/></a>"
      ]
    },
    {
      "cell_type": "markdown",
      "source": [
        "#**MACHINELEARNING BASICS**\n",
        "\n",
        "Some models you will learn in this course notes:\n",
        "\n",
        "    1. KNN\n",
        "    2. Linear Regression\n",
        "    3. Logistic Regression\n",
        "    4. Decision Tree\n",
        "\n",
        "We use some data to build a machine learning model, where the model is basically a function that tries to learn the relationship between dependent variable and independent variable."
      ],
      "metadata": {
        "id": "SZf9fQEA7jJY"
      }
    },
    {
      "cell_type": "markdown",
      "source": [
        "# **Data Structures**"
      ],
      "metadata": {
        "id": "GeDoNQiOZtaU"
      }
    },
    {
      "cell_type": "code",
      "source": [
        "# Height in cm\n",
        "Ramesh = 150\n",
        "Suresh = 145\n",
        "Sudesh = 165"
      ],
      "metadata": {
        "id": "gAG-v8OeZwYo"
      },
      "execution_count": 117,
      "outputs": []
    },
    {
      "cell_type": "code",
      "source": [
        "# Weight in kg\n",
        "Ramesh_weight = 56\n",
        "Suresh_weight = 60\n",
        "Sudesh_weight = 65"
      ],
      "metadata": {
        "id": "moFpux_-aRYE"
      },
      "execution_count": 118,
      "outputs": []
    },
    {
      "cell_type": "code",
      "source": [
        "# Age in Years\n",
        "Ramesh_age = 23\n",
        "Suresh_age = 46\n",
        "Sudesh_age = 58\n",
        "# A lot of variables. Very tedious"
      ],
      "metadata": {
        "id": "vQW-kRmbafmZ"
      },
      "execution_count": 119,
      "outputs": []
    },
    {
      "cell_type": "code",
      "source": [
        "import numpy as np\n",
        "A = np.array([[0.1, 0.2], [0.03, 0.44], [0.25, 0.16]])\n"
      ],
      "metadata": {
        "id": "0_qsXx5u5K5t"
      },
      "execution_count": 120,
      "outputs": []
    },
    {
      "cell_type": "markdown",
      "source": [
        "# **LIST [ ]**"
      ],
      "metadata": {
        "id": "L9a0KfIPbRNM"
      }
    },
    {
      "cell_type": "code",
      "source": [
        "# List \n",
        "names = [\"Ramesh\", \"Suresh\", \"Sudesh\"]\n",
        "height = [150, 145, 165]\n",
        "weight = [56, 60, 65]\n",
        "age = [23, 45, 58]"
      ],
      "metadata": {
        "id": "_vlFs-cXaolg"
      },
      "execution_count": 121,
      "outputs": []
    },
    {
      "cell_type": "code",
      "source": [
        "# Example\n",
        "list1 = [2, 3, 4, 5, 6] # Lists remebmer the order\n",
        "list2 = [\"Python\", \"is\", \"Awesome\"] # Single data type\n",
        "list3 = [1, \"Python\", 2, \"is\", 3, \"Awesome\"]# Mixed data type"
      ],
      "metadata": {
        "id": "TkKatEwwb57w"
      },
      "execution_count": 122,
      "outputs": []
    },
    {
      "cell_type": "code",
      "source": [
        "# Extract an element\n",
        "list3[1]"
      ],
      "metadata": {
        "colab": {
          "base_uri": "https://localhost:8080/",
          "height": 35
        },
        "id": "xDoezE-DcNRA",
        "outputId": "4d549267-c68b-4613-f40d-25a38a5e6cc5"
      },
      "execution_count": 123,
      "outputs": [
        {
          "output_type": "execute_result",
          "data": {
            "text/plain": [
              "'Python'"
            ],
            "application/vnd.google.colaboratory.intrinsic+json": {
              "type": "string"
            }
          },
          "metadata": {},
          "execution_count": 123
        }
      ]
    },
    {
      "cell_type": "code",
      "source": [
        "# Extract a sequence of elements\n",
        "list3[1:4]"
      ],
      "metadata": {
        "colab": {
          "base_uri": "https://localhost:8080/"
        },
        "id": "xD5SSsSKdDIx",
        "outputId": "d3327001-b5ca-4eb6-b6f9-7275fbb0939a"
      },
      "execution_count": 124,
      "outputs": [
        {
          "output_type": "execute_result",
          "data": {
            "text/plain": [
              "['Python', 2, 'is']"
            ]
          },
          "metadata": {},
          "execution_count": 124
        }
      ]
    },
    {
      "cell_type": "code",
      "source": [
        "# Adding a single element\n",
        "list3.append(4)\n",
        "list3"
      ],
      "metadata": {
        "colab": {
          "base_uri": "https://localhost:8080/"
        },
        "id": "rPAPDcL8dLBh",
        "outputId": "da6aec76-0ea6-4865-b06f-998e9cbf3c2d"
      },
      "execution_count": 125,
      "outputs": [
        {
          "output_type": "execute_result",
          "data": {
            "text/plain": [
              "[1, 'Python', 2, 'is', 3, 'Awesome', 4]"
            ]
          },
          "metadata": {},
          "execution_count": 125
        }
      ]
    },
    {
      "cell_type": "code",
      "source": [
        "# Adding a multiple elements\n",
        "list3.extend([5,6])\n",
        "list3"
      ],
      "metadata": {
        "colab": {
          "base_uri": "https://localhost:8080/"
        },
        "id": "jd2EH_UYdaAm",
        "outputId": "a6e162a8-0840-412e-cd5f-2c36a528760c"
      },
      "execution_count": 126,
      "outputs": [
        {
          "output_type": "execute_result",
          "data": {
            "text/plain": [
              "[1, 'Python', 2, 'is', 3, 'Awesome', 4, 5, 6]"
            ]
          },
          "metadata": {},
          "execution_count": 126
        }
      ]
    },
    {
      "cell_type": "code",
      "source": [
        "#  Adding list into another list\n",
        "list3.append([7,8])\n",
        "list3"
      ],
      "metadata": {
        "colab": {
          "base_uri": "https://localhost:8080/"
        },
        "id": "1IIkkzMXdvf0",
        "outputId": "9a7d1758-2e4b-4a7e-95c3-2fe9a2d92d3c"
      },
      "execution_count": 127,
      "outputs": [
        {
          "output_type": "execute_result",
          "data": {
            "text/plain": [
              "[1, 'Python', 2, 'is', 3, 'Awesome', 4, 5, 6, [7, 8]]"
            ]
          },
          "metadata": {},
          "execution_count": 127
        }
      ]
    },
    {
      "cell_type": "code",
      "source": [
        "# Delete element by value\n",
        "list3.remove(2)\n",
        "list3"
      ],
      "metadata": {
        "colab": {
          "base_uri": "https://localhost:8080/"
        },
        "id": "akXiodbueEow",
        "outputId": "94e03638-51bb-4eda-df97-62cfb15f204b"
      },
      "execution_count": 128,
      "outputs": [
        {
          "output_type": "execute_result",
          "data": {
            "text/plain": [
              "[1, 'Python', 'is', 3, 'Awesome', 4, 5, 6, [7, 8]]"
            ]
          },
          "metadata": {},
          "execution_count": 128
        }
      ]
    },
    {
      "cell_type": "code",
      "source": [
        "# Delete element by index\n",
        "del list3[5]\n",
        "list3"
      ],
      "metadata": {
        "colab": {
          "base_uri": "https://localhost:8080/"
        },
        "id": "H2RquxQxeYBY",
        "outputId": "2d98a1e2-a8d2-45fe-ec92-f7380d809b64"
      },
      "execution_count": 129,
      "outputs": [
        {
          "output_type": "execute_result",
          "data": {
            "text/plain": [
              "[1, 'Python', 'is', 3, 'Awesome', 5, 6, [7, 8]]"
            ]
          },
          "metadata": {},
          "execution_count": 129
        }
      ]
    },
    {
      "cell_type": "code",
      "source": [
        "# Negative index\n",
        "list1[-2]"
      ],
      "metadata": {
        "colab": {
          "base_uri": "https://localhost:8080/"
        },
        "id": "RSeuPgWvf1ed",
        "outputId": "c430bdd3-8ead-41df-aaa6-713b7b4b229b"
      },
      "execution_count": 130,
      "outputs": [
        {
          "output_type": "execute_result",
          "data": {
            "text/plain": [
              "5"
            ]
          },
          "metadata": {},
          "execution_count": 130
        }
      ]
    },
    {
      "cell_type": "code",
      "source": [
        "# Doble colon -- initial:final:step\n",
        "list3[1:4:2]"
      ],
      "metadata": {
        "colab": {
          "base_uri": "https://localhost:8080/"
        },
        "id": "2o2eKZiAgAc6",
        "outputId": "b3d1f25d-8731-4753-d92c-208f78f4676b"
      },
      "execution_count": 131,
      "outputs": [
        {
          "output_type": "execute_result",
          "data": {
            "text/plain": [
              "['Python', 3]"
            ]
          },
          "metadata": {},
          "execution_count": 131
        }
      ]
    },
    {
      "cell_type": "code",
      "source": [
        "# Check if particular element is in the list\n",
        "90 in list3"
      ],
      "metadata": {
        "colab": {
          "base_uri": "https://localhost:8080/"
        },
        "id": "WbmuaCiMgmqh",
        "outputId": "66c5f31d-f99b-4365-a86d-8ab5b0118c69"
      },
      "execution_count": 132,
      "outputs": [
        {
          "output_type": "execute_result",
          "data": {
            "text/plain": [
              "False"
            ]
          },
          "metadata": {},
          "execution_count": 132
        }
      ]
    },
    {
      "cell_type": "code",
      "source": [
        "# Check if particular element isn't in the list\n",
        "[1,2] not in list3"
      ],
      "metadata": {
        "colab": {
          "base_uri": "https://localhost:8080/"
        },
        "id": "GYi0SyGlh58_",
        "outputId": "c40d3034-05e7-4cfd-f2c5-08a5f3ffecc6"
      },
      "execution_count": 133,
      "outputs": [
        {
          "output_type": "execute_result",
          "data": {
            "text/plain": [
              "True"
            ]
          },
          "metadata": {},
          "execution_count": 133
        }
      ]
    },
    {
      "cell_type": "code",
      "source": [
        "# Iterate the list\n",
        "for element in list3:\n",
        "  print(element)"
      ],
      "metadata": {
        "colab": {
          "base_uri": "https://localhost:8080/"
        },
        "id": "NPTVLaK-iXYT",
        "outputId": "8e779698-7fc6-4440-f58b-0bf184cf522c"
      },
      "execution_count": 134,
      "outputs": [
        {
          "output_type": "stream",
          "name": "stdout",
          "text": [
            "1\n",
            "Python\n",
            "is\n",
            "3\n",
            "Awesome\n",
            "5\n",
            "6\n",
            "[7, 8]\n"
          ]
        }
      ]
    },
    {
      "cell_type": "code",
      "source": [
        "# Lenght of the list\n",
        "len(list3)"
      ],
      "metadata": {
        "colab": {
          "base_uri": "https://localhost:8080/"
        },
        "id": "louOI78eikKs",
        "outputId": "4fee0ed8-eb1f-4ad0-8806-723ad8b280b9"
      },
      "execution_count": 135,
      "outputs": [
        {
          "output_type": "execute_result",
          "data": {
            "text/plain": [
              "8"
            ]
          },
          "metadata": {},
          "execution_count": 135
        }
      ]
    },
    {
      "cell_type": "code",
      "source": [
        "# Sorting list only for one type of data\n",
        "sorted(list2)"
      ],
      "metadata": {
        "colab": {
          "base_uri": "https://localhost:8080/"
        },
        "id": "7eXxaZzeirNa",
        "outputId": "731b104c-1b23-4639-8696-9e377102e5b1"
      },
      "execution_count": 136,
      "outputs": [
        {
          "output_type": "execute_result",
          "data": {
            "text/plain": [
              "['Awesome', 'Python', 'is']"
            ]
          },
          "metadata": {},
          "execution_count": 136
        }
      ]
    },
    {
      "cell_type": "code",
      "source": [
        "# Access a particular element into another element\n",
        "list3[7][1]"
      ],
      "metadata": {
        "colab": {
          "base_uri": "https://localhost:8080/"
        },
        "id": "4rfEQwunjdgI",
        "outputId": "b08d8732-7c8c-488b-c423-7cd1164d463e"
      },
      "execution_count": 137,
      "outputs": [
        {
          "output_type": "execute_result",
          "data": {
            "text/plain": [
              "8"
            ]
          },
          "metadata": {},
          "execution_count": 137
        }
      ]
    },
    {
      "cell_type": "code",
      "source": [
        "test = [\"This\" , \"is\", \"1\", \"list\"]\n",
        "test[1]"
      ],
      "metadata": {
        "colab": {
          "base_uri": "https://localhost:8080/",
          "height": 35
        },
        "id": "Pe00HnoikeZW",
        "outputId": "13c38fb4-0349-469f-a838-baa508b9beeb"
      },
      "execution_count": 138,
      "outputs": [
        {
          "output_type": "execute_result",
          "data": {
            "text/plain": [
              "'is'"
            ],
            "application/vnd.google.colaboratory.intrinsic+json": {
              "type": "string"
            }
          },
          "metadata": {},
          "execution_count": 138
        }
      ]
    },
    {
      "cell_type": "code",
      "source": [
        "my_list = [[\"A\", \"B\"], [\"X\", \"A\"], [\"B\", \"A\"], [\"A\", \"X\"]]\n",
        "my_list[2][1]"
      ],
      "metadata": {
        "colab": {
          "base_uri": "https://localhost:8080/",
          "height": 35
        },
        "id": "rrxhvPeRknv6",
        "outputId": "36dc99af-0a5f-4742-aca4-aebc5c4b9e74"
      },
      "execution_count": 139,
      "outputs": [
        {
          "output_type": "execute_result",
          "data": {
            "text/plain": [
              "'A'"
            ],
            "application/vnd.google.colaboratory.intrinsic+json": {
              "type": "string"
            }
          },
          "metadata": {},
          "execution_count": 139
        }
      ]
    },
    {
      "cell_type": "markdown",
      "source": [
        "*Challenge*"
      ],
      "metadata": {
        "id": "j2Ji3Wi7lJAj"
      }
    },
    {
      "cell_type": "code",
      "source": [
        "students_mark = [[\"Name\",[\"A\", \"B\", \"C\", \"D\", \"E\"]],\n",
        "                 [\"Ankit\",[41, 34, 45, 55, 63]],\n",
        "                 [\"Aravind\",[42, 23, 34, 44, 53]],\n",
        "                 [\"lakshay\",[32, 23, 13, 54, 67]],\n",
        "                 [\"Gyan\",[23, 82, 23, 63, 34]],\n",
        "                 [\"Pranav\",[21, 23, 25, 56, 56]]\n",
        "                 ]\n",
        "students_mark"
      ],
      "metadata": {
        "colab": {
          "base_uri": "https://localhost:8080/"
        },
        "id": "FuhG7NeDlNEX",
        "outputId": "08bd0731-1a55-462a-bf2e-d894b8188522"
      },
      "execution_count": 140,
      "outputs": [
        {
          "output_type": "execute_result",
          "data": {
            "text/plain": [
              "[['Name', ['A', 'B', 'C', 'D', 'E']],\n",
              " ['Ankit', [41, 34, 45, 55, 63]],\n",
              " ['Aravind', [42, 23, 34, 44, 53]],\n",
              " ['lakshay', [32, 23, 13, 54, 67]],\n",
              " ['Gyan', [23, 82, 23, 63, 34]],\n",
              " ['Pranav', [21, 23, 25, 56, 56]]]"
            ]
          },
          "metadata": {},
          "execution_count": 140
        }
      ]
    },
    {
      "cell_type": "code",
      "source": [
        "students_mark[0]"
      ],
      "metadata": {
        "colab": {
          "base_uri": "https://localhost:8080/"
        },
        "id": "XRVzIrkbmgfD",
        "outputId": "8167552d-8743-44af-8142-cba91854093c"
      },
      "execution_count": 141,
      "outputs": [
        {
          "output_type": "execute_result",
          "data": {
            "text/plain": [
              "['Name', ['A', 'B', 'C', 'D', 'E']]"
            ]
          },
          "metadata": {},
          "execution_count": 141
        }
      ]
    },
    {
      "cell_type": "code",
      "source": [
        "students_mark[3][1]"
      ],
      "metadata": {
        "colab": {
          "base_uri": "https://localhost:8080/"
        },
        "id": "UxsvmodNmpXG",
        "outputId": "3ea8d10c-7eb6-49e6-e23b-44eb3631258a"
      },
      "execution_count": 142,
      "outputs": [
        {
          "output_type": "execute_result",
          "data": {
            "text/plain": [
              "[32, 23, 13, 54, 67]"
            ]
          },
          "metadata": {},
          "execution_count": 142
        }
      ]
    },
    {
      "cell_type": "code",
      "source": [
        "students_mark[5][1][3]"
      ],
      "metadata": {
        "colab": {
          "base_uri": "https://localhost:8080/"
        },
        "id": "cbCItVErmpli",
        "outputId": "b49a7592-b636-4873-c7af-b7f3e584b4ac"
      },
      "execution_count": 143,
      "outputs": [
        {
          "output_type": "execute_result",
          "data": {
            "text/plain": [
              "56"
            ]
          },
          "metadata": {},
          "execution_count": 143
        }
      ]
    },
    {
      "cell_type": "code",
      "source": [
        "# Select the name of the student and mark the subject B without the title\n",
        "\n",
        "for students in students_mark[1:]:\n",
        "  name = students[0]\n",
        "  mark_in_B = students[1][1]\n",
        "  print(name, mark_in_B)"
      ],
      "metadata": {
        "colab": {
          "base_uri": "https://localhost:8080/"
        },
        "id": "F2KfusegmpqP",
        "outputId": "1eebd7b6-6af6-4a3f-e0bf-ff1a60a7bad5"
      },
      "execution_count": 144,
      "outputs": [
        {
          "output_type": "stream",
          "name": "stdout",
          "text": [
            "Ankit 34\n",
            "Aravind 23\n",
            "lakshay 23\n",
            "Gyan 82\n",
            "Pranav 23\n"
          ]
        }
      ]
    },
    {
      "cell_type": "code",
      "source": [
        "# Create other list with names and mark subject B\n",
        "student_mark_B = []\n",
        "\n",
        "for students in students_mark[1:]:\n",
        "  name = students[0]\n",
        "  mark_in_B = students[1][1]\n",
        "  student_mark_B.append([mark_in_B,name])\n",
        "\n",
        "student_mark_B"
      ],
      "metadata": {
        "colab": {
          "base_uri": "https://localhost:8080/"
        },
        "id": "x9wc1BPNpAK1",
        "outputId": "0469d231-f2fe-4b12-a423-3b3d51f4f833"
      },
      "execution_count": 145,
      "outputs": [
        {
          "output_type": "execute_result",
          "data": {
            "text/plain": [
              "[[34, 'Ankit'], [23, 'Aravind'], [23, 'lakshay'], [82, 'Gyan'], [23, 'Pranav']]"
            ]
          },
          "metadata": {},
          "execution_count": 145
        }
      ]
    },
    {
      "cell_type": "code",
      "source": [
        "sorted(student_mark_B)"
      ],
      "metadata": {
        "colab": {
          "base_uri": "https://localhost:8080/"
        },
        "id": "G-s50VW_pmir",
        "outputId": "71707c61-cc29-4139-e152-6ccb2e6496a9"
      },
      "execution_count": 146,
      "outputs": [
        {
          "output_type": "execute_result",
          "data": {
            "text/plain": [
              "[[23, 'Aravind'], [23, 'Pranav'], [23, 'lakshay'], [34, 'Ankit'], [82, 'Gyan']]"
            ]
          },
          "metadata": {},
          "execution_count": 146
        }
      ]
    },
    {
      "cell_type": "code",
      "source": [
        "sorted(student_mark_B, reverse=True)"
      ],
      "metadata": {
        "colab": {
          "base_uri": "https://localhost:8080/"
        },
        "id": "0Inhgs8SqipD",
        "outputId": "c42510d2-0994-46f5-e6c5-fc91f7db56cd"
      },
      "execution_count": 147,
      "outputs": [
        {
          "output_type": "execute_result",
          "data": {
            "text/plain": [
              "[[82, 'Gyan'], [34, 'Ankit'], [23, 'lakshay'], [23, 'Pranav'], [23, 'Aravind']]"
            ]
          },
          "metadata": {},
          "execution_count": 147
        }
      ]
    },
    {
      "cell_type": "markdown",
      "source": [
        "# **TUPLE ( )**"
      ],
      "metadata": {
        "id": "dHAnld0zew3U"
      }
    },
    {
      "cell_type": "code",
      "source": [
        "my_tuple1 = (1, 2, 3, \"Hello\") # Also ordered elements\n",
        "my_tuple = (\"A\", \"B\", \"C\",\"D\", \"D\", \"E\", 1, \"D\")\n",
        "my_tuple #Immutable data structure"
      ],
      "metadata": {
        "colab": {
          "base_uri": "https://localhost:8080/"
        },
        "id": "tNz-BnvfeljU",
        "outputId": "1700f65a-3d72-4302-d97a-d325ac374491"
      },
      "execution_count": 148,
      "outputs": [
        {
          "output_type": "execute_result",
          "data": {
            "text/plain": [
              "('A', 'B', 'C', 'D', 'D', 'E', 1, 'D')"
            ]
          },
          "metadata": {},
          "execution_count": 148
        }
      ]
    },
    {
      "cell_type": "code",
      "source": [
        "my_tuple[2]"
      ],
      "metadata": {
        "id": "_EXe1ZlLe9oh",
        "colab": {
          "base_uri": "https://localhost:8080/",
          "height": 35
        },
        "outputId": "279abdb3-0b2d-4d57-ffc6-b4cb59a7f25a"
      },
      "execution_count": 149,
      "outputs": [
        {
          "output_type": "execute_result",
          "data": {
            "text/plain": [
              "'C'"
            ],
            "application/vnd.google.colaboratory.intrinsic+json": {
              "type": "string"
            }
          },
          "metadata": {},
          "execution_count": 149
        }
      ]
    },
    {
      "cell_type": "code",
      "source": [
        "# Find out the index of element\n",
        "my_tuple.index(\"E\")"
      ],
      "metadata": {
        "colab": {
          "base_uri": "https://localhost:8080/"
        },
        "id": "8fNTJME4x4fG",
        "outputId": "aedf9476-a0cf-4e73-f109-68c77e4c61df"
      },
      "execution_count": 150,
      "outputs": [
        {
          "output_type": "execute_result",
          "data": {
            "text/plain": [
              "5"
            ]
          },
          "metadata": {},
          "execution_count": 150
        }
      ]
    },
    {
      "cell_type": "code",
      "source": [
        "# Count how many elements there are\n",
        "my_tuple.count(\"D\")"
      ],
      "metadata": {
        "colab": {
          "base_uri": "https://localhost:8080/"
        },
        "id": "mOuFqRFKyEqV",
        "outputId": "d955bb1a-c720-40e3-e7c4-6de8c1eddd5c"
      },
      "execution_count": 151,
      "outputs": [
        {
          "output_type": "execute_result",
          "data": {
            "text/plain": [
              "3"
            ]
          },
          "metadata": {},
          "execution_count": 151
        }
      ]
    },
    {
      "cell_type": "code",
      "source": [
        "# Show elements in the list\n",
        "for element in my_tuple:\n",
        "  print(element)"
      ],
      "metadata": {
        "colab": {
          "base_uri": "https://localhost:8080/"
        },
        "id": "IS4t758eyQ3w",
        "outputId": "50a9eb7a-4390-4c4f-a263-9082af2d4772"
      },
      "execution_count": 152,
      "outputs": [
        {
          "output_type": "stream",
          "name": "stdout",
          "text": [
            "A\n",
            "B\n",
            "C\n",
            "D\n",
            "D\n",
            "E\n",
            "1\n",
            "D\n"
          ]
        }
      ]
    },
    {
      "cell_type": "code",
      "source": [
        "#Show first three elements\n",
        "my_tuple[:3]"
      ],
      "metadata": {
        "colab": {
          "base_uri": "https://localhost:8080/"
        },
        "id": "hUQCqHR6yl3Z",
        "outputId": "667446da-2a40-458b-f95a-b6acbd2da66d"
      },
      "execution_count": 153,
      "outputs": [
        {
          "output_type": "execute_result",
          "data": {
            "text/plain": [
              "('A', 'B', 'C')"
            ]
          },
          "metadata": {},
          "execution_count": 153
        }
      ]
    },
    {
      "cell_type": "code",
      "source": [
        "# Combine slides with '.index' or '.count'\n",
        "my_tuple[2:5].count(\"D\")"
      ],
      "metadata": {
        "colab": {
          "base_uri": "https://localhost:8080/"
        },
        "id": "VToAyIOpywpT",
        "outputId": "9671a07f-323a-4118-fb48-593c60b0d107"
      },
      "execution_count": 154,
      "outputs": [
        {
          "output_type": "execute_result",
          "data": {
            "text/plain": [
              "2"
            ]
          },
          "metadata": {},
          "execution_count": 154
        }
      ]
    },
    {
      "cell_type": "code",
      "source": [
        "# We can NOT use edit/update or delete elements from the tuples"
      ],
      "metadata": {
        "id": "biZHmCBRzTde"
      },
      "execution_count": 155,
      "outputs": []
    },
    {
      "cell_type": "code",
      "source": [
        "my_tuple2 = (\"A\", \"B\", \"C\", \"D\", \"E\", \"E\", 1, \"D\")\n",
        "my_tuple2.index(\"E\")"
      ],
      "metadata": {
        "colab": {
          "base_uri": "https://localhost:8080/"
        },
        "id": "8Ht-TLaPztg1",
        "outputId": "0f8f5101-04e4-4fb6-c98a-97abfb9424bf"
      },
      "execution_count": 156,
      "outputs": [
        {
          "output_type": "execute_result",
          "data": {
            "text/plain": [
              "4"
            ]
          },
          "metadata": {},
          "execution_count": 156
        }
      ]
    },
    {
      "cell_type": "code",
      "source": [
        "my_tuple3 = (\"A\", \"B\", \"B\", \"C\", \"B\", \"D\")\n",
        "my_tuple3[2:5].count(\"B\")"
      ],
      "metadata": {
        "colab": {
          "base_uri": "https://localhost:8080/"
        },
        "id": "lvHGHQlK0DhM",
        "outputId": "ed3c29b2-7950-469c-dec6-c2ad28980c78"
      },
      "execution_count": 157,
      "outputs": [
        {
          "output_type": "execute_result",
          "data": {
            "text/plain": [
              "2"
            ]
          },
          "metadata": {},
          "execution_count": 157
        }
      ]
    },
    {
      "cell_type": "code",
      "source": [
        "my_tuple4 = ((1, 2, 3, 1),\n",
        "             (1, 1, 1, 2),\n",
        "             (2, 1, 2, 1),\n",
        "             (1, 2, 1, 1))\n",
        "my_tuple4[1][1:3]"
      ],
      "metadata": {
        "colab": {
          "base_uri": "https://localhost:8080/"
        },
        "id": "qma5Wl080S7P",
        "outputId": "ff1d4ec0-830e-40a2-c632-62dc2d540582"
      },
      "execution_count": 158,
      "outputs": [
        {
          "output_type": "execute_result",
          "data": {
            "text/plain": [
              "(1, 1)"
            ]
          },
          "metadata": {},
          "execution_count": 158
        }
      ]
    },
    {
      "cell_type": "markdown",
      "source": [
        "# **SETS { }**"
      ],
      "metadata": {
        "id": "BsNrHv2x3O1V"
      }
    },
    {
      "cell_type": "code",
      "source": [
        "from google.colab import drive\n",
        "drive.mount('/content/drive')"
      ],
      "metadata": {
        "id": "J3GzbJAfzqTS",
        "colab": {
          "base_uri": "https://localhost:8080/"
        },
        "outputId": "6d7fef27-6251-44f6-987c-3fe0fc279482"
      },
      "execution_count": 159,
      "outputs": [
        {
          "output_type": "stream",
          "name": "stdout",
          "text": [
            "Drive already mounted at /content/drive; to attempt to forcibly remount, call drive.mount(\"/content/drive\", force_remount=True).\n"
          ]
        }
      ]
    },
    {
      "cell_type": "code",
      "source": [
        "list_of_sports = [\"Soccer\", \"Tennis\", \"Cricket\", \"Soccer\", \"Golf\"]\n",
        "\n",
        "# unordered collection of elements\n",
        "set_of_sports = {\"Soccer\", \"Tennis\", \"Cricket\", \"Golf\"} # not necessarly repeat an element\n",
        "my_set = {\"A\", \"B\", \"C\", \"D\", 1, \"E\", 2, 4,4}\n",
        "my_set # The order doesn't matter and there aren't duplicate elements. Autoatically removed "
      ],
      "metadata": {
        "colab": {
          "base_uri": "https://localhost:8080/"
        },
        "id": "_hyF567_3QLS",
        "outputId": "ca716227-5995-4bcc-fdb8-5a22f9db33b5"
      },
      "execution_count": 160,
      "outputs": [
        {
          "output_type": "execute_result",
          "data": {
            "text/plain": [
              "{1, 2, 4, 'A', 'B', 'C', 'D', 'E'}"
            ]
          },
          "metadata": {},
          "execution_count": 160
        }
      ]
    },
    {
      "cell_type": "code",
      "source": [
        "# Convert from list to set\n",
        "my_list = [\"A\", \"B\", 1, 2, \"B\", \"A\"]\n",
        "from_list_to_set = set(my_list)\n",
        "print(\n",
        "    my_list,\n",
        "from_list_to_set)"
      ],
      "metadata": {
        "colab": {
          "base_uri": "https://localhost:8080/"
        },
        "id": "MzlPgI8p5R-B",
        "outputId": "9c85335a-9a5a-4101-918c-4cb5356caae5"
      },
      "execution_count": 161,
      "outputs": [
        {
          "output_type": "stream",
          "name": "stdout",
          "text": [
            "['A', 'B', 1, 2, 'B', 'A'] {1, 2, 'A', 'B'}\n"
          ]
        }
      ]
    },
    {
      "cell_type": "code",
      "source": [
        "# Convert from tuple to set\n",
        "my_tuple = (\"A\", \"B\", 1, 2, \"B\", \"A\")\n",
        "from_tuple_to_set = set(my_tuple)\n",
        "print(\n",
        "my_tuple,\n",
        "from_tuple_to_set)"
      ],
      "metadata": {
        "colab": {
          "base_uri": "https://localhost:8080/"
        },
        "id": "OeIBtAu8553X",
        "outputId": "f3c5ca03-4762-4b22-a4e1-0a253ffd018f"
      },
      "execution_count": 162,
      "outputs": [
        {
          "output_type": "stream",
          "name": "stdout",
          "text": [
            "('A', 'B', 1, 2, 'B', 'A') {1, 2, 'A', 'B'}\n"
          ]
        }
      ]
    },
    {
      "cell_type": "code",
      "source": [
        "# We can add elements\n",
        "my_set.add(0)\n",
        "my_set"
      ],
      "metadata": {
        "id": "K72jQALu556V",
        "colab": {
          "base_uri": "https://localhost:8080/"
        },
        "outputId": "f8b7b099-ce34-4c47-9ea3-b5de19111ccf"
      },
      "execution_count": 163,
      "outputs": [
        {
          "output_type": "execute_result",
          "data": {
            "text/plain": [
              "{0, 1, 2, 4, 'A', 'B', 'C', 'D', 'E'}"
            ]
          },
          "metadata": {},
          "execution_count": 163
        }
      ]
    },
    {
      "cell_type": "code",
      "source": [
        "# Discard/Remove\n",
        "my_set.discard(\"A\")\n",
        "my_set"
      ],
      "metadata": {
        "id": "6WhSs8wk6j5M",
        "colab": {
          "base_uri": "https://localhost:8080/"
        },
        "outputId": "e208f503-a4c0-44ae-a608-c7c0a4cc7b56"
      },
      "execution_count": 164,
      "outputs": [
        {
          "output_type": "execute_result",
          "data": {
            "text/plain": [
              "{0, 1, 2, 4, 'B', 'C', 'D', 'E'}"
            ]
          },
          "metadata": {},
          "execution_count": 164
        }
      ]
    },
    {
      "cell_type": "code",
      "source": [
        "my_set.remove(2)\n",
        "my_set"
      ],
      "metadata": {
        "id": "i-NFs4d77Br-",
        "colab": {
          "base_uri": "https://localhost:8080/"
        },
        "outputId": "29cce148-37e8-4fa2-e9f2-663022c9bc90"
      },
      "execution_count": 165,
      "outputs": [
        {
          "output_type": "execute_result",
          "data": {
            "text/plain": [
              "{0, 1, 4, 'B', 'C', 'D', 'E'}"
            ]
          },
          "metadata": {},
          "execution_count": 165
        }
      ]
    },
    {
      "cell_type": "code",
      "source": [
        "# With sets, you can play with the theory operations (intersection, union...)\n",
        "print(my_set,from_list_to_set)"
      ],
      "metadata": {
        "id": "ty5quHub4TF2",
        "colab": {
          "base_uri": "https://localhost:8080/"
        },
        "outputId": "7e32a04b-025d-4886-802e-4fb1ff58d429"
      },
      "execution_count": 166,
      "outputs": [
        {
          "output_type": "stream",
          "name": "stdout",
          "text": [
            "{'E', 1, 0, 4, 'C', 'D', 'B'} {1, 2, 'A', 'B'}\n"
          ]
        }
      ]
    },
    {
      "cell_type": "code",
      "source": [
        "# Difference of two sets\n",
        "print(\n",
        "my_set.difference(from_list_to_set),\n",
        "from_list_to_set.difference(my_set))\n",
        "\n",
        "# If you want to save the result, just use difference.update"
      ],
      "metadata": {
        "id": "udmm0mCh7NGC",
        "colab": {
          "base_uri": "https://localhost:8080/"
        },
        "outputId": "8795b867-8860-4d90-b111-fdeae96bd530"
      },
      "execution_count": 167,
      "outputs": [
        {
          "output_type": "stream",
          "name": "stdout",
          "text": [
            "{'E', 0, 4, 'C', 'D'} {2, 'A'}\n"
          ]
        }
      ]
    },
    {
      "cell_type": "code",
      "source": [
        "# Intersection of two sets\n",
        "print(\n",
        "    my_set.intersection(from_list_to_set),\n",
        "    from_list_to_set.intersection(my_set)\n",
        ")\n",
        "\n",
        "# If you want to save the results, use intersection_update"
      ],
      "metadata": {
        "id": "-MVJDtQm7cDs",
        "colab": {
          "base_uri": "https://localhost:8080/"
        },
        "outputId": "e9b11caa-b754-4307-9680-3daf5ee283d9"
      },
      "execution_count": 168,
      "outputs": [
        {
          "output_type": "stream",
          "name": "stdout",
          "text": [
            "{1, 'B'} {1, 'B'}\n"
          ]
        }
      ]
    },
    {
      "cell_type": "code",
      "source": [
        "sample_set1 = {\"A\", \"B\", \"C\", \"D\", \"E\", \"F\"}\n",
        "sample_set2 = {\"A\", \"D\", \"E\"}\n",
        "sample_set3 = {\"S\", \"T\", \"U\"}\n",
        "sample_set1, sample_set2"
      ],
      "metadata": {
        "id": "V8PYcKm68pTB",
        "colab": {
          "base_uri": "https://localhost:8080/"
        },
        "outputId": "72a1169b-9e72-4af2-9fc2-c477a8bd48d6"
      },
      "execution_count": 169,
      "outputs": [
        {
          "output_type": "execute_result",
          "data": {
            "text/plain": [
              "({'A', 'B', 'C', 'D', 'E', 'F'}, {'A', 'D', 'E'})"
            ]
          },
          "metadata": {},
          "execution_count": 169
        }
      ]
    },
    {
      "cell_type": "code",
      "source": [
        "# Check if two sets are disjoint\n",
        "print(\n",
        "    sample_set1.isdisjoint(sample_set2),\n",
        "    sample_set2.isdisjoint(sample_set1)\n",
        ")\n"
      ],
      "metadata": {
        "id": "LHYKcTF39Lp2",
        "colab": {
          "base_uri": "https://localhost:8080/"
        },
        "outputId": "5cb2d3f0-c5fc-4322-cebc-39ec916270d3"
      },
      "execution_count": 170,
      "outputs": [
        {
          "output_type": "stream",
          "name": "stdout",
          "text": [
            "False False\n"
          ]
        }
      ]
    },
    {
      "cell_type": "code",
      "source": [
        "# Check if one is a subset/superset of another\n",
        "print(\n",
        "    sample_set2.issubset(sample_set1),\n",
        "    sample_set1.issubset(sample_set2))\n",
        "print(\n",
        "    sample_set1.issuperset(sample_set2),\n",
        "    sample_set2.issuperset(sample_set1)\n",
        ")"
      ],
      "metadata": {
        "id": "hTpxQMhA9n7h",
        "colab": {
          "base_uri": "https://localhost:8080/"
        },
        "outputId": "4f6f5a8a-44ee-433f-de28-077039cd95a4"
      },
      "execution_count": 171,
      "outputs": [
        {
          "output_type": "stream",
          "name": "stdout",
          "text": [
            "True False\n",
            "True False\n"
          ]
        }
      ]
    },
    {
      "cell_type": "code",
      "source": [
        "# Unions of two sets\n",
        "sample_set1.union(sample_set3)\n",
        "# Doesn't save the result"
      ],
      "metadata": {
        "id": "PLGBA9SL91R1",
        "colab": {
          "base_uri": "https://localhost:8080/"
        },
        "outputId": "37f23d5b-6729-496b-de5b-3d216cbb6776"
      },
      "execution_count": 172,
      "outputs": [
        {
          "output_type": "execute_result",
          "data": {
            "text/plain": [
              "{'A', 'B', 'C', 'D', 'E', 'F', 'S', 'T', 'U'}"
            ]
          },
          "metadata": {},
          "execution_count": 172
        }
      ]
    },
    {
      "cell_type": "code",
      "source": [
        "# Update sets\n",
        "sample_set3.update({\"C\", \"D\", \"S\", \"Z\"})\n",
        "sample_set3"
      ],
      "metadata": {
        "id": "XAfVNRhC-9mc",
        "colab": {
          "base_uri": "https://localhost:8080/"
        },
        "outputId": "a0ca1fd9-2090-4b8b-d81f-0105c1252035"
      },
      "execution_count": 173,
      "outputs": [
        {
          "output_type": "execute_result",
          "data": {
            "text/plain": [
              "{'C', 'D', 'S', 'T', 'U', 'Z'}"
            ]
          },
          "metadata": {},
          "execution_count": 173
        }
      ]
    },
    {
      "cell_type": "code",
      "source": [
        "# Show the elements of the set\n",
        "for element in sample_set1:\n",
        "  print(element)"
      ],
      "metadata": {
        "id": "l5xJOM3i_zoI",
        "colab": {
          "base_uri": "https://localhost:8080/"
        },
        "outputId": "b1219ede-c759-40ab-a273-a9b5047a07ea"
      },
      "execution_count": 174,
      "outputs": [
        {
          "output_type": "stream",
          "name": "stdout",
          "text": [
            "E\n",
            "C\n",
            "D\n",
            "A\n",
            "B\n",
            "F\n"
          ]
        }
      ]
    },
    {
      "cell_type": "code",
      "source": [
        "# Define 3 random sets\n",
        "set1 = {1, 2, 3, 4, 5, 6}\n",
        "set2 = {1, 4, 3}\n",
        "set1.isdisjoint(set2)"
      ],
      "metadata": {
        "id": "ma-qg31h_9ih",
        "colab": {
          "base_uri": "https://localhost:8080/"
        },
        "outputId": "1fd6319c-35cb-43d7-bd3a-b3028e62be7a"
      },
      "execution_count": 175,
      "outputs": [
        {
          "output_type": "execute_result",
          "data": {
            "text/plain": [
              "False"
            ]
          },
          "metadata": {},
          "execution_count": 175
        }
      ]
    },
    {
      "cell_type": "code",
      "source": [
        "set3 = {1, 2, 3, 4, 5, 6}\n",
        "set4 = {1, 4, 7}\n",
        "set3.issuperset(set4)"
      ],
      "metadata": {
        "id": "6TqHw4GuA2JZ",
        "colab": {
          "base_uri": "https://localhost:8080/"
        },
        "outputId": "70a622e7-47ee-4e26-edd3-ac7ead87cdf8"
      },
      "execution_count": 176,
      "outputs": [
        {
          "output_type": "execute_result",
          "data": {
            "text/plain": [
              "False"
            ]
          },
          "metadata": {},
          "execution_count": 176
        }
      ]
    },
    {
      "cell_type": "code",
      "source": [
        "dat = ((1, 2, 3, 4, 5),\n",
        "        (2, 1, 1, 3, 1),\n",
        "        (1, 2, 2, 1, 1),\n",
        "        (1, 1, 2, 3, 1))\n",
        "set(dat[0]).intersection(set(dat[2]))"
      ],
      "metadata": {
        "id": "wUK3aijCBMUq",
        "colab": {
          "base_uri": "https://localhost:8080/"
        },
        "outputId": "7a519827-d30a-4dee-978b-b7adbb64e011"
      },
      "execution_count": 177,
      "outputs": [
        {
          "output_type": "execute_result",
          "data": {
            "text/plain": [
              "{1, 2}"
            ]
          },
          "metadata": {},
          "execution_count": 177
        }
      ]
    },
    {
      "cell_type": "markdown",
      "source": [
        "# **Dictionary**"
      ],
      "metadata": {
        "id": "3M_4Af53C1UR"
      }
    },
    {
      "cell_type": "code",
      "source": [
        "employee_info = {\n",
        "    \"names\": [\"Ramesh\", \"Suresh\", \"Sudesh\"],\n",
        "    \"height\": [150, 145, 165],\n",
        "    \"weight\": [56, 60, 65],\n",
        "    \"age\": [23, 45, 58]\n",
        "}\n",
        "employee_info"
      ],
      "metadata": {
        "colab": {
          "base_uri": "https://localhost:8080/"
        },
        "id": "PCu5CIk2C3LH",
        "outputId": "ce1ad4a2-1c7a-4b14-a393-61622ef058c7"
      },
      "execution_count": 178,
      "outputs": [
        {
          "output_type": "execute_result",
          "data": {
            "text/plain": [
              "{'names': ['Ramesh', 'Suresh', 'Sudesh'],\n",
              " 'height': [150, 145, 165],\n",
              " 'weight': [56, 60, 65],\n",
              " 'age': [23, 45, 58]}"
            ]
          },
          "metadata": {},
          "execution_count": 178
        }
      ]
    },
    {
      "cell_type": "code",
      "source": [
        "# Key: Value. The value can be number, list...\n",
        "dict1 = {\"Ramesh\": 150,\"Suresh\": 146, \"Sudesh\": 160}\n",
        "dict1"
      ],
      "metadata": {
        "colab": {
          "base_uri": "https://localhost:8080/"
        },
        "id": "e_-4jmqgD6Df",
        "outputId": "5e30eac9-e868-4d00-9e0c-0d9f1481ba0b"
      },
      "execution_count": 179,
      "outputs": [
        {
          "output_type": "execute_result",
          "data": {
            "text/plain": [
              "{'Ramesh': 150, 'Suresh': 146, 'Sudesh': 160}"
            ]
          },
          "metadata": {},
          "execution_count": 179
        }
      ]
    },
    {
      "cell_type": "code",
      "source": [
        "# Acces the dictionary\n",
        "dict1[\"Suresh\"]"
      ],
      "metadata": {
        "colab": {
          "base_uri": "https://localhost:8080/"
        },
        "id": "pzl6UzSJEW06",
        "outputId": "853eeb8e-d52b-4d4d-b403-bf6ae84db12e"
      },
      "execution_count": 180,
      "outputs": [
        {
          "output_type": "execute_result",
          "data": {
            "text/plain": [
              "146"
            ]
          },
          "metadata": {},
          "execution_count": 180
        }
      ]
    },
    {
      "cell_type": "code",
      "source": [
        "# Adding elements\n",
        "dict1[\"Neeraj\"]=176\n",
        "dict1"
      ],
      "metadata": {
        "colab": {
          "base_uri": "https://localhost:8080/"
        },
        "id": "A9YtT-daEvum",
        "outputId": "84e93cb8-5e50-4092-94cf-8ca0b70ddd5a"
      },
      "execution_count": 181,
      "outputs": [
        {
          "output_type": "execute_result",
          "data": {
            "text/plain": [
              "{'Ramesh': 150, 'Suresh': 146, 'Sudesh': 160, 'Neeraj': 176}"
            ]
          },
          "metadata": {},
          "execution_count": 181
        }
      ]
    },
    {
      "cell_type": "code",
      "source": [
        "# If you eant to add multiple elements, you can use 'update'\n",
        "dict1.update({\"Sunil\": 150, \"Disha\": 155})\n",
        "dict1"
      ],
      "metadata": {
        "colab": {
          "base_uri": "https://localhost:8080/"
        },
        "id": "ETO9pRv4E4z-",
        "outputId": "b0ab7b89-b97a-469e-9c38-3f739f2b57f4"
      },
      "execution_count": 182,
      "outputs": [
        {
          "output_type": "execute_result",
          "data": {
            "text/plain": [
              "{'Ramesh': 150,\n",
              " 'Suresh': 146,\n",
              " 'Sudesh': 160,\n",
              " 'Neeraj': 176,\n",
              " 'Sunil': 150,\n",
              " 'Disha': 155}"
            ]
          },
          "metadata": {},
          "execution_count": 182
        }
      ]
    },
    {
      "cell_type": "code",
      "source": [
        "# Delet a single element\n",
        "del dict1[\"Ramesh\"]\n",
        "dict1"
      ],
      "metadata": {
        "colab": {
          "base_uri": "https://localhost:8080/"
        },
        "id": "vEvsgRipFPAx",
        "outputId": "3b7c74c0-f366-479e-e3bf-bc087cfd4496"
      },
      "execution_count": 183,
      "outputs": [
        {
          "output_type": "execute_result",
          "data": {
            "text/plain": [
              "{'Suresh': 146, 'Sudesh': 160, 'Neeraj': 176, 'Sunil': 150, 'Disha': 155}"
            ]
          },
          "metadata": {},
          "execution_count": 183
        }
      ]
    },
    {
      "cell_type": "code",
      "source": [
        "my_dictionary = {\n",
        "    \"name\"      : \"Alejandro\",\n",
        "    \"age\"       :  24,\n",
        "    \"roll_on\"   : \"QRQ878\",\n",
        "    \"percentage\":  85,\n",
        "    \"attendance\":  3.67,\n",
        "    \"city\"      : \"Bucaramanga\",\n",
        "    \"country\"   : \"Colombia\"\n",
        "    }\n",
        "\n",
        "my_dictionary"
      ],
      "metadata": {
        "colab": {
          "base_uri": "https://localhost:8080/"
        },
        "id": "wYIBwhlXFagB",
        "outputId": "be818d37-acf1-415e-954e-fb5342077795"
      },
      "execution_count": 184,
      "outputs": [
        {
          "output_type": "execute_result",
          "data": {
            "text/plain": [
              "{'name': 'Alejandro',\n",
              " 'age': 24,\n",
              " 'roll_on': 'QRQ878',\n",
              " 'percentage': 85,\n",
              " 'attendance': 3.67,\n",
              " 'city': 'Bucaramanga',\n",
              " 'country': 'Colombia'}"
            ]
          },
          "metadata": {},
          "execution_count": 184
        }
      ]
    },
    {
      "cell_type": "code",
      "source": [
        "# We can't use the index 'my_dictionary[3]'\n",
        "my_dictionary[\"name\"]"
      ],
      "metadata": {
        "colab": {
          "base_uri": "https://localhost:8080/",
          "height": 35
        },
        "id": "LQPj_iWdGWjy",
        "outputId": "4b14552b-963d-48d2-d1b4-da660e27232b"
      },
      "execution_count": 185,
      "outputs": [
        {
          "output_type": "execute_result",
          "data": {
            "text/plain": [
              "'Alejandro'"
            ],
            "application/vnd.google.colaboratory.intrinsic+json": {
              "type": "string"
            }
          },
          "metadata": {},
          "execution_count": 185
        }
      ]
    },
    {
      "cell_type": "code",
      "source": [
        "# You can know what is the keys and the values\n",
        "print(\n",
        "    my_dictionary.keys(),\n",
        "    my_dictionary.values()\n",
        ")"
      ],
      "metadata": {
        "colab": {
          "base_uri": "https://localhost:8080/"
        },
        "id": "0m1-zJpTGtNZ",
        "outputId": "057beb47-9820-40ed-d94c-750a48742a0f"
      },
      "execution_count": 186,
      "outputs": [
        {
          "output_type": "stream",
          "name": "stdout",
          "text": [
            "dict_keys(['name', 'age', 'roll_on', 'percentage', 'attendance', 'city', 'country']) dict_values(['Alejandro', 24, 'QRQ878', 85, 3.67, 'Bucaramanga', 'Colombia'])\n"
          ]
        }
      ]
    },
    {
      "cell_type": "code",
      "source": [
        "my_dictionary.items()"
      ],
      "metadata": {
        "colab": {
          "base_uri": "https://localhost:8080/"
        },
        "id": "LQpJg_pqHMvQ",
        "outputId": "a3e163c9-765a-44f1-9069-e32d46ab2eb7"
      },
      "execution_count": 187,
      "outputs": [
        {
          "output_type": "execute_result",
          "data": {
            "text/plain": [
              "dict_items([('name', 'Alejandro'), ('age', 24), ('roll_on', 'QRQ878'), ('percentage', 85), ('attendance', 3.67), ('city', 'Bucaramanga'), ('country', 'Colombia')])"
            ]
          },
          "metadata": {},
          "execution_count": 187
        }
      ]
    },
    {
      "cell_type": "code",
      "source": [
        "#Add and Update\n",
        "my_dictionary[\"new_key\"] = \"new_value\"\n",
        "my_dictionary.update({\"pincode\": 2150744, \"last_name\": \"Pinto\"})\n",
        "my_dictionary"
      ],
      "metadata": {
        "colab": {
          "base_uri": "https://localhost:8080/"
        },
        "id": "OgAJVw0mHBNp",
        "outputId": "9d43b0f1-90fa-401c-e072-37debbced231"
      },
      "execution_count": 188,
      "outputs": [
        {
          "output_type": "execute_result",
          "data": {
            "text/plain": [
              "{'name': 'Alejandro',\n",
              " 'age': 24,\n",
              " 'roll_on': 'QRQ878',\n",
              " 'percentage': 85,\n",
              " 'attendance': 3.67,\n",
              " 'city': 'Bucaramanga',\n",
              " 'country': 'Colombia',\n",
              " 'new_key': 'new_value',\n",
              " 'pincode': 2150744,\n",
              " 'last_name': 'Pinto'}"
            ]
          },
          "metadata": {},
          "execution_count": 188
        }
      ]
    },
    {
      "cell_type": "code",
      "source": [
        "# Override the value if you add the same key. the keys are inmutable"
      ],
      "metadata": {
        "id": "yUYvmwOqHhqu"
      },
      "execution_count": 189,
      "outputs": []
    },
    {
      "cell_type": "code",
      "source": [
        "# Show the elements of a dictionary\n",
        "for key, value in my_dictionary.items():\n",
        "  print(key,value)\n",
        "\n",
        "sorted(my_dictionary.items())"
      ],
      "metadata": {
        "colab": {
          "base_uri": "https://localhost:8080/"
        },
        "id": "ROFpsOJmJJeP",
        "outputId": "baffa036-829f-4d11-ee19-5c452db77300"
      },
      "execution_count": 190,
      "outputs": [
        {
          "output_type": "stream",
          "name": "stdout",
          "text": [
            "name Alejandro\n",
            "age 24\n",
            "roll_on QRQ878\n",
            "percentage 85\n",
            "attendance 3.67\n",
            "city Bucaramanga\n",
            "country Colombia\n",
            "new_key new_value\n",
            "pincode 2150744\n",
            "last_name Pinto\n"
          ]
        },
        {
          "output_type": "execute_result",
          "data": {
            "text/plain": [
              "[('age', 24),\n",
              " ('attendance', 3.67),\n",
              " ('city', 'Bucaramanga'),\n",
              " ('country', 'Colombia'),\n",
              " ('last_name', 'Pinto'),\n",
              " ('name', 'Alejandro'),\n",
              " ('new_key', 'new_value'),\n",
              " ('percentage', 85),\n",
              " ('pincode', 2150744),\n",
              " ('roll_on', 'QRQ878')]"
            ]
          },
          "metadata": {},
          "execution_count": 190
        }
      ]
    },
    {
      "cell_type": "markdown",
      "source": [
        "#**String Manipulation**"
      ],
      "metadata": {
        "id": "D7EfpgiZ5lyk"
      }
    },
    {
      "cell_type": "code",
      "source": [
        "myString = \"Analytics Vidhya creating next generation data sicence eco-system\""
      ],
      "metadata": {
        "id": "rrRpM_UpJSV4"
      },
      "execution_count": 191,
      "outputs": []
    },
    {
      "cell_type": "markdown",
      "source": [],
      "metadata": {
        "id": "96em8qOR5frV"
      }
    },
    {
      "cell_type": "code",
      "source": [
        "len(myString)"
      ],
      "metadata": {
        "colab": {
          "base_uri": "https://localhost:8080/"
        },
        "id": "vF7_Pd-c6GEq",
        "outputId": "bb1f3b14-08b2-4a28-84e1-c998547b196b"
      },
      "execution_count": 192,
      "outputs": [
        {
          "output_type": "execute_result",
          "data": {
            "text/plain": [
              "65"
            ]
          },
          "metadata": {},
          "execution_count": 192
        }
      ]
    },
    {
      "cell_type": "code",
      "source": [
        "myString[0]"
      ],
      "metadata": {
        "colab": {
          "base_uri": "https://localhost:8080/",
          "height": 35
        },
        "id": "q7_0gasS6LCc",
        "outputId": "465e3538-eeb8-487a-faee-7b8b016c5bad"
      },
      "execution_count": 193,
      "outputs": [
        {
          "output_type": "execute_result",
          "data": {
            "text/plain": [
              "'A'"
            ],
            "application/vnd.google.colaboratory.intrinsic+json": {
              "type": "string"
            }
          },
          "metadata": {},
          "execution_count": 193
        }
      ]
    },
    {
      "cell_type": "code",
      "source": [
        "myString[-1]"
      ],
      "metadata": {
        "colab": {
          "base_uri": "https://localhost:8080/",
          "height": 35
        },
        "id": "ecgmndkQ6Qyg",
        "outputId": "869e1109-025e-4449-dd89-322b4ff3300e"
      },
      "execution_count": 194,
      "outputs": [
        {
          "output_type": "execute_result",
          "data": {
            "text/plain": [
              "'m'"
            ],
            "application/vnd.google.colaboratory.intrinsic+json": {
              "type": "string"
            }
          },
          "metadata": {},
          "execution_count": 194
        }
      ]
    },
    {
      "cell_type": "code",
      "source": [
        "myString[::-1]"
      ],
      "metadata": {
        "colab": {
          "base_uri": "https://localhost:8080/",
          "height": 35
        },
        "id": "oia0-zU86VjB",
        "outputId": "cd019701-c467-4e6f-c23b-25faf2c0183b"
      },
      "execution_count": 195,
      "outputs": [
        {
          "output_type": "execute_result",
          "data": {
            "text/plain": [
              "'metsys-oce ecnecis atad noitareneg txen gnitaerc ayhdiV scitylanA'"
            ],
            "application/vnd.google.colaboratory.intrinsic+json": {
              "type": "string"
            }
          },
          "metadata": {},
          "execution_count": 195
        }
      ]
    },
    {
      "cell_type": "code",
      "source": [
        "myString.count('c')"
      ],
      "metadata": {
        "colab": {
          "base_uri": "https://localhost:8080/"
        },
        "id": "AUevq7a16ZSB",
        "outputId": "02cc2e2a-e663-4343-b35b-a4f422488ec1"
      },
      "execution_count": 196,
      "outputs": [
        {
          "output_type": "execute_result",
          "data": {
            "text/plain": [
              "5"
            ]
          },
          "metadata": {},
          "execution_count": 196
        }
      ]
    },
    {
      "cell_type": "code",
      "source": [
        "myString[10:-10]"
      ],
      "metadata": {
        "colab": {
          "base_uri": "https://localhost:8080/",
          "height": 35
        },
        "id": "_VlwWo3u6jOM",
        "outputId": "a6eba206-36dd-43fd-f3aa-07960378cb0f"
      },
      "execution_count": 197,
      "outputs": [
        {
          "output_type": "execute_result",
          "data": {
            "text/plain": [
              "'Vidhya creating next generation data sicence '"
            ],
            "application/vnd.google.colaboratory.intrinsic+json": {
              "type": "string"
            }
          },
          "metadata": {},
          "execution_count": 197
        }
      ]
    },
    {
      "cell_type": "code",
      "source": [
        "myString.find('next')"
      ],
      "metadata": {
        "colab": {
          "base_uri": "https://localhost:8080/"
        },
        "id": "qS79Qo1L6sBl",
        "outputId": "c26a9809-cde1-4bc9-f56a-c6e35e2fd168"
      },
      "execution_count": 198,
      "outputs": [
        {
          "output_type": "execute_result",
          "data": {
            "text/plain": [
              "26"
            ]
          },
          "metadata": {},
          "execution_count": 198
        }
      ]
    },
    {
      "cell_type": "code",
      "source": [
        "myString.endswith('system')"
      ],
      "metadata": {
        "colab": {
          "base_uri": "https://localhost:8080/"
        },
        "id": "Jnllyy-76yq2",
        "outputId": "6e4a173c-d320-4b9d-8a05-b00cd234823f"
      },
      "execution_count": 199,
      "outputs": [
        {
          "output_type": "execute_result",
          "data": {
            "text/plain": [
              "True"
            ]
          },
          "metadata": {},
          "execution_count": 199
        }
      ]
    },
    {
      "cell_type": "code",
      "source": [
        "myString.startswith('analytics')"
      ],
      "metadata": {
        "colab": {
          "base_uri": "https://localhost:8080/"
        },
        "id": "D2ipzYlS7HXM",
        "outputId": "15a0e286-d35b-4c35-cc01-06161c0b795e"
      },
      "execution_count": 200,
      "outputs": [
        {
          "output_type": "execute_result",
          "data": {
            "text/plain": [
              "False"
            ]
          },
          "metadata": {},
          "execution_count": 200
        }
      ]
    },
    {
      "cell_type": "code",
      "source": [
        "myString.startswith('Analytics')"
      ],
      "metadata": {
        "colab": {
          "base_uri": "https://localhost:8080/"
        },
        "id": "OoBJhvue7LtE",
        "outputId": "34f9933f-8c11-4680-e1b7-27aa85ffb5cb"
      },
      "execution_count": 201,
      "outputs": [
        {
          "output_type": "execute_result",
          "data": {
            "text/plain": [
              "True"
            ]
          },
          "metadata": {},
          "execution_count": 201
        }
      ]
    },
    {
      "cell_type": "code",
      "source": [
        "myString.upper()"
      ],
      "metadata": {
        "colab": {
          "base_uri": "https://localhost:8080/",
          "height": 35
        },
        "id": "uR-CdWf87PKH",
        "outputId": "041c4cba-ac33-4602-8514-06813e92162f"
      },
      "execution_count": 202,
      "outputs": [
        {
          "output_type": "execute_result",
          "data": {
            "text/plain": [
              "'ANALYTICS VIDHYA CREATING NEXT GENERATION DATA SICENCE ECO-SYSTEM'"
            ],
            "application/vnd.google.colaboratory.intrinsic+json": {
              "type": "string"
            }
          },
          "metadata": {},
          "execution_count": 202
        }
      ]
    },
    {
      "cell_type": "code",
      "source": [
        "'1'.isnumeric()"
      ],
      "metadata": {
        "colab": {
          "base_uri": "https://localhost:8080/"
        },
        "id": "pbFi6JiI7ZI5",
        "outputId": "d470e13a-0938-48e6-a2fb-be684cee0617"
      },
      "execution_count": 203,
      "outputs": [
        {
          "output_type": "execute_result",
          "data": {
            "text/plain": [
              "True"
            ]
          },
          "metadata": {},
          "execution_count": 203
        }
      ]
    },
    {
      "cell_type": "code",
      "source": [
        "'w'.isalpha()"
      ],
      "metadata": {
        "colab": {
          "base_uri": "https://localhost:8080/"
        },
        "id": "5yLJ104e7tUC",
        "outputId": "f1d81ae3-2c95-4b49-f093-2aa84c591f5d"
      },
      "execution_count": 204,
      "outputs": [
        {
          "output_type": "execute_result",
          "data": {
            "text/plain": [
              "True"
            ]
          },
          "metadata": {},
          "execution_count": 204
        }
      ]
    },
    {
      "cell_type": "code",
      "source": [
        "'1w'.isalnum()"
      ],
      "metadata": {
        "colab": {
          "base_uri": "https://localhost:8080/"
        },
        "id": "LalA7Qbc7vfp",
        "outputId": "99139ef3-02d2-4e89-a1f5-390be0b43570"
      },
      "execution_count": 205,
      "outputs": [
        {
          "output_type": "execute_result",
          "data": {
            "text/plain": [
              "True"
            ]
          },
          "metadata": {},
          "execution_count": 205
        }
      ]
    },
    {
      "cell_type": "code",
      "source": [
        "myString.isalpha() # don't recognize spaces"
      ],
      "metadata": {
        "colab": {
          "base_uri": "https://localhost:8080/"
        },
        "id": "BZX3tmsI7ygq",
        "outputId": "716bf840-1eff-4f9e-f1c6-d44b1a42bf07"
      },
      "execution_count": 206,
      "outputs": [
        {
          "output_type": "execute_result",
          "data": {
            "text/plain": [
              "False"
            ]
          },
          "metadata": {},
          "execution_count": 206
        }
      ]
    },
    {
      "cell_type": "code",
      "source": [
        "'java is easy to learn'.replace('java', 'python')"
      ],
      "metadata": {
        "colab": {
          "base_uri": "https://localhost:8080/",
          "height": 35
        },
        "id": "K9vPReaf7_G9",
        "outputId": "b6b11955-c883-480d-8c9b-9d6c09b9f961"
      },
      "execution_count": 207,
      "outputs": [
        {
          "output_type": "execute_result",
          "data": {
            "text/plain": [
              "'python is easy to learn'"
            ],
            "application/vnd.google.colaboratory.intrinsic+json": {
              "type": "string"
            }
          },
          "metadata": {},
          "execution_count": 207
        }
      ]
    },
    {
      "cell_type": "code",
      "source": [
        "'python is easy to learn'.split(' ')"
      ],
      "metadata": {
        "colab": {
          "base_uri": "https://localhost:8080/"
        },
        "id": "Hqh7p6Nc8LQR",
        "outputId": "200bac34-cc2d-4dd9-c6ac-2d053f9ce7b6"
      },
      "execution_count": 208,
      "outputs": [
        {
          "output_type": "execute_result",
          "data": {
            "text/plain": [
              "['python', 'is', 'easy', 'to', 'learn']"
            ]
          },
          "metadata": {},
          "execution_count": 208
        }
      ]
    },
    {
      "cell_type": "code",
      "source": [
        "'python is easy to learn'.split('easy')"
      ],
      "metadata": {
        "colab": {
          "base_uri": "https://localhost:8080/"
        },
        "id": "kSCpp2R88Q3f",
        "outputId": "440983e8-5e09-4ecf-a343-b3d4f3a05c61"
      },
      "execution_count": 209,
      "outputs": [
        {
          "output_type": "execute_result",
          "data": {
            "text/plain": [
              "['python is ', ' to learn']"
            ]
          },
          "metadata": {},
          "execution_count": 209
        }
      ]
    },
    {
      "cell_type": "code",
      "source": [
        "len('python is easy to learn'.split(' '))"
      ],
      "metadata": {
        "colab": {
          "base_uri": "https://localhost:8080/"
        },
        "id": "g6goPy2l8Wtl",
        "outputId": "c9b89ef7-8742-40ec-88f3-3e007cbc0708"
      },
      "execution_count": 210,
      "outputs": [
        {
          "output_type": "execute_result",
          "data": {
            "text/plain": [
              "5"
            ]
          },
          "metadata": {},
          "execution_count": 210
        }
      ]
    },
    {
      "cell_type": "markdown",
      "source": [
        "Quiz"
      ],
      "metadata": {
        "id": "KXn8qjVp8pjV"
      }
    },
    {
      "cell_type": "code",
      "source": [
        "my_string = 'ANALYTICS VIDHYA'\n",
        "my_string[::-1]"
      ],
      "metadata": {
        "colab": {
          "base_uri": "https://localhost:8080/",
          "height": 35
        },
        "id": "IoJsp-YJ8ilM",
        "outputId": "9dc380ee-67fe-4015-e50d-756366bdb7d3"
      },
      "execution_count": 211,
      "outputs": [
        {
          "output_type": "execute_result",
          "data": {
            "text/plain": [
              "'AYHDIV SCITYLANA'"
            ],
            "application/vnd.google.colaboratory.intrinsic+json": {
              "type": "string"
            }
          },
          "metadata": {},
          "execution_count": 211
        }
      ]
    },
    {
      "cell_type": "code",
      "source": [
        "#Statment A\n",
        "'analytics'.isalpha()"
      ],
      "metadata": {
        "colab": {
          "base_uri": "https://localhost:8080/"
        },
        "id": "8ZBj7PL08pVL",
        "outputId": "83fba29f-247d-4508-f50a-ed504d93860e"
      },
      "execution_count": 212,
      "outputs": [
        {
          "output_type": "execute_result",
          "data": {
            "text/plain": [
              "True"
            ]
          },
          "metadata": {},
          "execution_count": 212
        }
      ]
    },
    {
      "cell_type": "code",
      "source": [
        "#Statment B\n",
        "'analytics01'.isalnum()"
      ],
      "metadata": {
        "colab": {
          "base_uri": "https://localhost:8080/"
        },
        "id": "hr7nYYh29CIP",
        "outputId": "f92a7154-bb3f-4c85-b5fd-5117431e277c"
      },
      "execution_count": 213,
      "outputs": [
        {
          "output_type": "execute_result",
          "data": {
            "text/plain": [
              "True"
            ]
          },
          "metadata": {},
          "execution_count": 213
        }
      ]
    },
    {
      "cell_type": "code",
      "source": [
        "#Statment C\n",
        "'analytics01'.islower()"
      ],
      "metadata": {
        "colab": {
          "base_uri": "https://localhost:8080/"
        },
        "id": "oEm8MBvV9Gri",
        "outputId": "7687e185-4383-47de-a74b-ef052e10de00"
      },
      "execution_count": 214,
      "outputs": [
        {
          "output_type": "execute_result",
          "data": {
            "text/plain": [
              "True"
            ]
          },
          "metadata": {},
          "execution_count": 214
        }
      ]
    },
    {
      "cell_type": "code",
      "source": [
        "my_list = ['lakshay', 'sanad', 'aravind', 'aishwarya', 'prateek']\n",
        "find_a = []\n",
        "\n",
        "for  name in my_list:\n",
        "  x = name.find('a')\n",
        "  find_a.append(x)\n",
        "\n",
        "find_a"
      ],
      "metadata": {
        "colab": {
          "base_uri": "https://localhost:8080/"
        },
        "id": "8wl5V_Oe9K61",
        "outputId": "d1e94023-6078-4492-9697-764dcc057da2"
      },
      "execution_count": 215,
      "outputs": [
        {
          "output_type": "execute_result",
          "data": {
            "text/plain": [
              "[1, 1, 0, 0, 2]"
            ]
          },
          "metadata": {},
          "execution_count": 215
        }
      ]
    },
    {
      "cell_type": "code",
      "source": [
        "state = ['haryana', 'punjab', 'rajasthan', 'karnataka', 'goa']\n",
        "output = []\n",
        "output_state = []\n",
        "\n",
        "for s in state:\n",
        "  split_with_a = s.split('a')\n",
        "  output.append(len(split_with_a))\n",
        "  output_state.append(split_with_a)\n",
        "\n",
        "output\n",
        "#output_state"
      ],
      "metadata": {
        "colab": {
          "base_uri": "https://localhost:8080/"
        },
        "id": "DAPwq8ay-Y-W",
        "outputId": "e6a5d979-7c81-454d-9d52-04c0213cafb2"
      },
      "execution_count": 216,
      "outputs": [
        {
          "output_type": "execute_result",
          "data": {
            "text/plain": [
              "[4, 2, 4, 5, 2]"
            ]
          },
          "metadata": {},
          "execution_count": 216
        }
      ]
    },
    {
      "cell_type": "markdown",
      "source": [
        "#**Functions**"
      ],
      "metadata": {
        "id": "aqWwg-IGzxtG"
      }
    },
    {
      "cell_type": "code",
      "source": [
        "def area(r):\n",
        "  area = 3.14*r*r\n",
        "  return area\n",
        "\n",
        "area(5) #Calling a function"
      ],
      "metadata": {
        "id": "0gNKDsZB-7JH",
        "colab": {
          "base_uri": "https://localhost:8080/"
        },
        "outputId": "c25b64c9-776d-497a-e8c7-7c620de21b6e"
      },
      "execution_count": 217,
      "outputs": [
        {
          "output_type": "execute_result",
          "data": {
            "text/plain": [
              "78.5"
            ]
          },
          "metadata": {},
          "execution_count": 217
        }
      ]
    },
    {
      "cell_type": "code",
      "source": [
        "def welcome():\n",
        "  print(\"Welcome to the python course!!\")\n",
        "\n",
        "welcome()\n"
      ],
      "metadata": {
        "colab": {
          "base_uri": "https://localhost:8080/"
        },
        "id": "s4FIhg7U1Mk3",
        "outputId": "a839b704-97bc-46de-ccda-ddceb9897adb"
      },
      "execution_count": 218,
      "outputs": [
        {
          "output_type": "stream",
          "name": "stdout",
          "text": [
            "Welcome to the python course!!\n"
          ]
        }
      ]
    },
    {
      "cell_type": "code",
      "source": [
        "def add_2_number():\n",
        "  total = 3 + 4\n",
        "  print(\"Sum of 3 and 4 is: \", total)"
      ],
      "metadata": {
        "id": "0wLz75g82G4t"
      },
      "execution_count": 219,
      "outputs": []
    },
    {
      "cell_type": "code",
      "source": [
        "def   add_2_numbers_return():\n",
        "  total = 3 + 4\n",
        "  print(\"Sum of 3 and 4 is: \", total)\n",
        "  return total"
      ],
      "metadata": {
        "id": "tGmwTzQw2j3I"
      },
      "execution_count": 220,
      "outputs": []
    },
    {
      "cell_type": "code",
      "source": [
        "add_2_number()"
      ],
      "metadata": {
        "colab": {
          "base_uri": "https://localhost:8080/"
        },
        "id": "q_ZhSkyj2xZo",
        "outputId": "3aeb9f52-941b-430a-d972-bb7b463bb497"
      },
      "execution_count": 221,
      "outputs": [
        {
          "output_type": "stream",
          "name": "stdout",
          "text": [
            "Sum of 3 and 4 is:  7\n"
          ]
        }
      ]
    },
    {
      "cell_type": "code",
      "source": [
        "add_2_numbers_return()"
      ],
      "metadata": {
        "colab": {
          "base_uri": "https://localhost:8080/"
        },
        "id": "YyPgGIme2zn2",
        "outputId": "2074e13b-db8c-4ee4-9259-3a92976c6998"
      },
      "execution_count": 222,
      "outputs": [
        {
          "output_type": "stream",
          "name": "stdout",
          "text": [
            "Sum of 3 and 4 is:  7\n"
          ]
        },
        {
          "output_type": "execute_result",
          "data": {
            "text/plain": [
              "7"
            ]
          },
          "metadata": {},
          "execution_count": 222
        }
      ]
    },
    {
      "cell_type": "code",
      "source": [
        "output1 = add_2_number()\n",
        "output1 #Don't save 'cause dones't have a return"
      ],
      "metadata": {
        "colab": {
          "base_uri": "https://localhost:8080/"
        },
        "id": "6axjUEMi22gc",
        "outputId": "df0966b0-3cb5-4315-ca7f-34f88299f931"
      },
      "execution_count": 223,
      "outputs": [
        {
          "output_type": "stream",
          "name": "stdout",
          "text": [
            "Sum of 3 and 4 is:  7\n"
          ]
        }
      ]
    },
    {
      "cell_type": "code",
      "source": [
        "output2 = add_2_numbers_return()\n",
        "output2"
      ],
      "metadata": {
        "colab": {
          "base_uri": "https://localhost:8080/"
        },
        "id": "a3ja76we3H7W",
        "outputId": "c544b5b2-3c69-48d7-9fb7-b64f5dd73f10"
      },
      "execution_count": 224,
      "outputs": [
        {
          "output_type": "stream",
          "name": "stdout",
          "text": [
            "Sum of 3 and 4 is:  7\n"
          ]
        },
        {
          "output_type": "execute_result",
          "data": {
            "text/plain": [
              "7"
            ]
          },
          "metadata": {},
          "execution_count": 224
        }
      ]
    },
    {
      "cell_type": "code",
      "source": [
        "def welcome(name): #If we put 'name = \"Alejo\"', you can call the function 'welcome()' without errors\n",
        "  return \"Welcome \" + name"
      ],
      "metadata": {
        "id": "CP1TkHWh3Lg1"
      },
      "execution_count": 225,
      "outputs": []
    },
    {
      "cell_type": "code",
      "source": [
        "welcome(\"Alejo\")"
      ],
      "metadata": {
        "colab": {
          "base_uri": "https://localhost:8080/",
          "height": 35
        },
        "id": "i_0j6Eyx3g0Y",
        "outputId": "9927a4fb-7b0b-4506-e8f4-63b9fa621891"
      },
      "execution_count": 226,
      "outputs": [
        {
          "output_type": "execute_result",
          "data": {
            "text/plain": [
              "'Welcome Alejo'"
            ],
            "application/vnd.google.colaboratory.intrinsic+json": {
              "type": "string"
            }
          },
          "metadata": {},
          "execution_count": 226
        }
      ]
    },
    {
      "cell_type": "code",
      "source": [
        "def differ(largeNumber, smallNumber):\n",
        "  difference = largeNumber - smallNumber\n",
        "  return difference\n",
        "\n",
        "differ(largeNumber= 16, smallNumber =  4) # Necessary to not confuse the numbers"
      ],
      "metadata": {
        "colab": {
          "base_uri": "https://localhost:8080/"
        },
        "id": "vaMbGwuD3iro",
        "outputId": "169d797b-cdfb-4b80-f3cb-a1494e8618a5"
      },
      "execution_count": 227,
      "outputs": [
        {
          "output_type": "execute_result",
          "data": {
            "text/plain": [
              "12"
            ]
          },
          "metadata": {},
          "execution_count": 227
        }
      ]
    },
    {
      "cell_type": "code",
      "source": [
        "differ(smallNumber = 4, largeNumber = 16)"
      ],
      "metadata": {
        "colab": {
          "base_uri": "https://localhost:8080/"
        },
        "id": "xBT2CvgI45TL",
        "outputId": "d1abe29c-91b4-4613-bb04-71bfad5dc81e"
      },
      "execution_count": 228,
      "outputs": [
        {
          "output_type": "execute_result",
          "data": {
            "text/plain": [
              "12"
            ]
          },
          "metadata": {},
          "execution_count": 228
        }
      ]
    },
    {
      "cell_type": "code",
      "source": [
        "def function(*args): # '*' indicates multiple values -- unknow int or string, you can use '**'\n",
        "  for i in args:\n",
        "    print(i)\n",
        "\n",
        "function(1,2,3,4)"
      ],
      "metadata": {
        "colab": {
          "base_uri": "https://localhost:8080/"
        },
        "id": "geUVHTZc64Qx",
        "outputId": "b84b46c1-bdf8-4914-840e-834ed71637ea"
      },
      "execution_count": 229,
      "outputs": [
        {
          "output_type": "stream",
          "name": "stdout",
          "text": [
            "1\n",
            "2\n",
            "3\n",
            "4\n"
          ]
        }
      ]
    },
    {
      "cell_type": "markdown",
      "source": [
        "QUIZ\n"
      ],
      "metadata": {
        "id": "484--GTx84DX"
      }
    },
    {
      "cell_type": "code",
      "source": [
        "def min(a, b):\n",
        "  if a > b:\n",
        "    return b\n",
        "  elif a == b:\n",
        "    return \"Equal numbers\"\n",
        "  else:\n",
        "    return a\n",
        "\n",
        "min(200,400)"
      ],
      "metadata": {
        "colab": {
          "base_uri": "https://localhost:8080/"
        },
        "id": "3qrqm-Vd7AmY",
        "outputId": "6436a24b-f475-4dc7-835f-56859775729d"
      },
      "execution_count": 230,
      "outputs": [
        {
          "output_type": "execute_result",
          "data": {
            "text/plain": [
              "200"
            ]
          },
          "metadata": {},
          "execution_count": 230
        }
      ]
    },
    {
      "cell_type": "code",
      "source": [
        "def odd(a):\n",
        "  if a%2 == 0:\n",
        "    print(\"not odd\")\n",
        "  else:\n",
        "    print(\"odd\")\n",
        "\n",
        "odd(9)"
      ],
      "metadata": {
        "colab": {
          "base_uri": "https://localhost:8080/"
        },
        "id": "Z9tn6VMB9cZP",
        "outputId": "0040cf98-7b7d-4915-d6f4-067997fa7cce"
      },
      "execution_count": 231,
      "outputs": [
        {
          "output_type": "stream",
          "name": "stdout",
          "text": [
            "odd\n"
          ]
        }
      ]
    },
    {
      "cell_type": "markdown",
      "source": [
        "**Lambda functions**"
      ],
      "metadata": {
        "id": "KuBjjK_GIc3w"
      }
    },
    {
      "cell_type": "code",
      "source": [
        "def add20(a):\n",
        "  return a+20\n",
        "\n",
        "add20(5)"
      ],
      "metadata": {
        "colab": {
          "base_uri": "https://localhost:8080/"
        },
        "id": "CO_9PJF7Ihd7",
        "outputId": "3a23faed-f44b-486f-f67c-473427d21adb"
      },
      "execution_count": 232,
      "outputs": [
        {
          "output_type": "execute_result",
          "data": {
            "text/plain": [
              "25"
            ]
          },
          "metadata": {},
          "execution_count": 232
        }
      ]
    },
    {
      "cell_type": "code",
      "source": [
        "var = lambda a: a + 20\n",
        "\n",
        "print(\"With argument value 5: \", var(5))\n",
        "print(\"With argument value 10: \", var(10))"
      ],
      "metadata": {
        "colab": {
          "base_uri": "https://localhost:8080/"
        },
        "id": "9Kzn5SkYI9Fw",
        "outputId": "5f0fac64-ccd2-4a37-e16f-a28bda88bac8"
      },
      "execution_count": 233,
      "outputs": [
        {
          "output_type": "stream",
          "name": "stdout",
          "text": [
            "With argument value 5:  25\n",
            "With argument value 10:  30\n"
          ]
        }
      ]
    },
    {
      "cell_type": "code",
      "source": [
        "# Filter function\n",
        "def normalEven(x):\n",
        "  if x%2 !=0:\n",
        "    return True\n",
        "  else:\n",
        "    return False"
      ],
      "metadata": {
        "id": "eqShKHa5JKwz"
      },
      "execution_count": 234,
      "outputs": []
    },
    {
      "cell_type": "code",
      "source": [
        "originalList = [5,17, 32, 43, 12, 62, 237, 133, 78, 21]\n",
        "\n",
        "filteredList = list(filter(normalEven, originalList))\n",
        "print('The odd numbers are: ', filteredList)"
      ],
      "metadata": {
        "colab": {
          "base_uri": "https://localhost:8080/"
        },
        "id": "bmxSB1PLJjVT",
        "outputId": "84a22cb6-a73e-4d7f-d998-1aec8fcab2fb"
      },
      "execution_count": 235,
      "outputs": [
        {
          "output_type": "stream",
          "name": "stdout",
          "text": [
            "The odd numbers are:  [5, 17, 43, 237, 133, 21]\n"
          ]
        }
      ]
    },
    {
      "cell_type": "code",
      "source": [
        "originalList = [5, 11, 15, 43, 20, 65, 235, 133, 75, 21]\n",
        "filteredList = list(filter(lambda x: x%5 == 0, originalList))\n",
        "\n",
        "print('The multiple of 5 are: ', filteredList)"
      ],
      "metadata": {
        "colab": {
          "base_uri": "https://localhost:8080/"
        },
        "id": "SAYSI4NZKG3y",
        "outputId": "01b229b6-aeac-4ded-ee3b-74347adfc7b4"
      },
      "execution_count": 236,
      "outputs": [
        {
          "output_type": "stream",
          "name": "stdout",
          "text": [
            "The multiple of 5 are:  [5, 15, 20, 65, 235, 75]\n"
          ]
        }
      ]
    },
    {
      "cell_type": "code",
      "source": [
        "# 'map' is the same in 'filter'\n",
        "originalList = ['analytics', 'vidhya', 'king', 'south', 'east']\n",
        "mappedList = list(map(lambda x: x[0].upper()+x[1:], originalList))\n",
        "\n",
        "print('New List: ', mappedList)"
      ],
      "metadata": {
        "colab": {
          "base_uri": "https://localhost:8080/"
        },
        "id": "jtzXu3TaKiRJ",
        "outputId": "ea706c8d-8b12-47f6-df45-cf123723e82c"
      },
      "execution_count": 237,
      "outputs": [
        {
          "output_type": "stream",
          "name": "stdout",
          "text": [
            "New List:  ['Analytics', 'Vidhya', 'King', 'South', 'East']\n"
          ]
        }
      ]
    },
    {
      "cell_type": "code",
      "source": [
        "# Reduce Function\n",
        "from functools import reduce\n",
        "originalList =  [1,2, 3, 4, 5, 6, 7, 8, 9]\n",
        "sumList = reduce(lambda x, y: x+y, originalList)\n",
        "\n",
        "print('Sum of numbers in the original list is: ', sumList)\n"
      ],
      "metadata": {
        "colab": {
          "base_uri": "https://localhost:8080/"
        },
        "id": "c6WpJTc7Lrzo",
        "outputId": "70f2bc16-17d7-4bb5-f7dd-b29a8e9f8367"
      },
      "execution_count": 238,
      "outputs": [
        {
          "output_type": "stream",
          "name": "stdout",
          "text": [
            "Sum of numbers in the original list is:  45\n"
          ]
        }
      ]
    },
    {
      "cell_type": "code",
      "source": [
        "originalList = [110, 53, 3, 424, 255, 16, 42, 256]\n",
        "largestNumber = reduce(lambda x, y: x if x > y else y, originalList)\n",
        "\n",
        "print('Largest number in the original list is: ', largestNumber)"
      ],
      "metadata": {
        "colab": {
          "base_uri": "https://localhost:8080/"
        },
        "id": "_qcchWZKOnuA",
        "outputId": "2972bd35-dcb9-41df-dde2-259cbe042262"
      },
      "execution_count": 239,
      "outputs": [
        {
          "output_type": "stream",
          "name": "stdout",
          "text": [
            "Largest number in the original list is:  424\n"
          ]
        }
      ]
    },
    {
      "cell_type": "markdown",
      "source": [
        "QUIZ"
      ],
      "metadata": {
        "id": "HSawkjFqPgQb"
      }
    },
    {
      "cell_type": "code",
      "source": [
        "originalList = [5, 17, 62, 43, 12, 62, 27, 63, 68, 21]\n",
        "filteredList = list(filter(lambda x: x // 10 == 6, originalList))\n",
        "\n",
        "print(filteredList)"
      ],
      "metadata": {
        "colab": {
          "base_uri": "https://localhost:8080/"
        },
        "id": "YoRexT2BPFEj",
        "outputId": "5df4b585-dab8-4bb0-fd86-567bdc63428b"
      },
      "execution_count": 240,
      "outputs": [
        {
          "output_type": "stream",
          "name": "stdout",
          "text": [
            "[62, 62, 63, 68]\n"
          ]
        }
      ]
    },
    {
      "cell_type": "code",
      "source": [
        "from functools import reduce\n",
        "\n",
        "originalList = [110, 53, 3, 424, 255, 16, 42, 256]\n",
        "number = reduce(lambda x, y: x if x < y else y, originalList)\n",
        "\n",
        "print(number)"
      ],
      "metadata": {
        "colab": {
          "base_uri": "https://localhost:8080/"
        },
        "id": "pATTdK73QXOG",
        "outputId": "dcd8ba2a-bed9-4938-da7e-fc65b0c94dda"
      },
      "execution_count": 241,
      "outputs": [
        {
          "output_type": "stream",
          "name": "stdout",
          "text": [
            "3\n"
          ]
        }
      ]
    },
    {
      "cell_type": "markdown",
      "source": [
        "**Recursion function**"
      ],
      "metadata": {
        "id": "88nbCRsLQ88F"
      }
    },
    {
      "cell_type": "code",
      "source": [
        "# Probability and statistics\n",
        "def HowManyHandshakes(TotalPersons):\n",
        "  if TotalPersons == 2:\n",
        "    return 1\n",
        "  elif TotalPersons == 1:\n",
        "    return \"Doesn't make any sense\"\n",
        "  else:\n",
        "    return HowManyHandshakes(TotalPersons - 1) + (TotalPersons - 1) #F(N) = F(N-1)+(N-1)\n",
        "\n",
        "HowManyHandshakes(6)\n"
      ],
      "metadata": {
        "colab": {
          "base_uri": "https://localhost:8080/"
        },
        "id": "m5whymk-Q_x9",
        "outputId": "a8e9e505-9bf8-4edd-88c4-25e83c54b297"
      },
      "execution_count": 242,
      "outputs": [
        {
          "output_type": "execute_result",
          "data": {
            "text/plain": [
              "15"
            ]
          },
          "metadata": {},
          "execution_count": 242
        }
      ]
    },
    {
      "cell_type": "markdown",
      "source": [
        "QUIZ"
      ],
      "metadata": {
        "id": "tYo6UecqYeJU"
      }
    },
    {
      "cell_type": "code",
      "source": [
        "def function(number):\n",
        "  if number == 1:\n",
        "    return 0 \n",
        "  elif number == 2:\n",
        "    return 1\n",
        "  else:\n",
        "    return function(number - 1) + function(number - 2) #F(n)=F(n-1)+F(n-2)\n",
        "\n",
        "function(5)"
      ],
      "metadata": {
        "colab": {
          "base_uri": "https://localhost:8080/"
        },
        "id": "W1Wly7FvWtJ7",
        "outputId": "61d14316-2c2b-4010-a237-b9cdbf7777c9"
      },
      "execution_count": 243,
      "outputs": [
        {
          "output_type": "execute_result",
          "data": {
            "text/plain": [
              "3"
            ]
          },
          "metadata": {},
          "execution_count": 243
        }
      ]
    },
    {
      "cell_type": "code",
      "source": [
        "def function(number):\n",
        "  if number == 2:\n",
        "    return 1\n",
        "  else:\n",
        "    return function(number - 1)+ (number + 1)\n",
        "\n",
        "function(5)"
      ],
      "metadata": {
        "colab": {
          "base_uri": "https://localhost:8080/"
        },
        "id": "Hz336pIiZcb5",
        "outputId": "d43b4506-9509-4ed4-dd53-0905c5c431bb"
      },
      "execution_count": 244,
      "outputs": [
        {
          "output_type": "execute_result",
          "data": {
            "text/plain": [
              "16"
            ]
          },
          "metadata": {},
          "execution_count": 244
        }
      ]
    },
    {
      "cell_type": "markdown",
      "source": [
        "#**Modules, Packages and Standar libraries**\n"
      ],
      "metadata": {
        "id": "Yt22VkEOSiaP"
      }
    },
    {
      "cell_type": "code",
      "source": [
        "#Function\n",
        "def area_circle(r):\n",
        "  area = 3.1416*r*r\n",
        "  return area\n",
        "\n",
        "area_circle(2)"
      ],
      "metadata": {
        "colab": {
          "base_uri": "https://localhost:8080/"
        },
        "id": "sew6dogtSzA4",
        "outputId": "80b103f1-1986-45ff-ca49-705226f159c9"
      },
      "execution_count": 245,
      "outputs": [
        {
          "output_type": "execute_result",
          "data": {
            "text/plain": [
              "12.5664"
            ]
          },
          "metadata": {},
          "execution_count": 245
        }
      ]
    },
    {
      "cell_type": "code",
      "source": [
        "# Module: Several funcions in one file.py that you can call in other file.py. \n",
        "# You call the module as: import --module--"
      ],
      "metadata": {
        "id": "KtiMiepOTJWh"
      },
      "execution_count": 246,
      "outputs": []
    },
    {
      "cell_type": "code",
      "source": [
        "# packages: several modules in one, a collection of modules\n",
        "# important packages:\n",
        "#                     math\n",
        "#                     random\n",
        "#                     datetime\n",
        "#                     os"
      ],
      "metadata": {
        "id": "nbj32BoYULiC"
      },
      "execution_count": 247,
      "outputs": []
    },
    {
      "cell_type": "code",
      "source": [
        "# Call or import functions:\n",
        "#                           from --package.module-- import --function--\n",
        "#                           from --package-- import --module--\n",
        "#                           import --module--\n",
        "# How create your own package:\n",
        "                            # You put all modules in one carpet, then you cam call as: import --name_of_carpet--\n",
        "# important libraries for data science:\n",
        "#                     numpy\n",
        "#                     scipy\n",
        "#                     pandas\n",
        "#                     matplotlib\n",
        "                      # seaborn\n",
        "                      # scikit learn\n",
        "                      # statsmodel"
      ],
      "metadata": {
        "id": "PRRb_koIVpqO"
      },
      "execution_count": 248,
      "outputs": []
    },
    {
      "cell_type": "code",
      "source": [
        "# numpy and scipy\n",
        "\n",
        "import numpy as np\n",
        "\n",
        "x = np.array([[1,2,3],\n",
        "              [2,1,1],\n",
        "              [4,2,3]])\n",
        "\n",
        "y = np.array([[1,2],\n",
        "              [1,1],\n",
        "              [1,1]])\n",
        "\n",
        "np.concatenate([x,y],axis=1)"
      ],
      "metadata": {
        "id": "c67WplPFjaIo",
        "colab": {
          "base_uri": "https://localhost:8080/"
        },
        "outputId": "3f29c523-38b9-4132-b745-274ef2e35e18"
      },
      "execution_count": 249,
      "outputs": [
        {
          "output_type": "execute_result",
          "data": {
            "text/plain": [
              "array([[1, 2, 3, 1, 2],\n",
              "       [2, 1, 1, 1, 1],\n",
              "       [4, 2, 3, 1, 1]])"
            ]
          },
          "metadata": {},
          "execution_count": 249
        }
      ]
    },
    {
      "cell_type": "code",
      "source": [
        "np.zeros((2,3), dtype=int)"
      ],
      "metadata": {
        "colab": {
          "base_uri": "https://localhost:8080/"
        },
        "id": "lOYKQqbyii2r",
        "outputId": "a57ece40-c48c-40b7-b848-c6ae9e3eb941"
      },
      "execution_count": 250,
      "outputs": [
        {
          "output_type": "execute_result",
          "data": {
            "text/plain": [
              "array([[0, 0, 0],\n",
              "       [0, 0, 0]])"
            ]
          },
          "metadata": {},
          "execution_count": 250
        }
      ]
    },
    {
      "cell_type": "code",
      "source": [
        "from scipy.misc import derivative\n",
        "\n",
        "def my_function(x):\n",
        "  dev=x**2 + 5\n",
        "  return dev\n",
        "\n",
        "derivative(func = my_function, x0=2)"
      ],
      "metadata": {
        "colab": {
          "base_uri": "https://localhost:8080/"
        },
        "id": "j6vplwvai3B4",
        "outputId": "d1135975-5047-42de-996b-17cf14da03ee"
      },
      "execution_count": 251,
      "outputs": [
        {
          "output_type": "stream",
          "name": "stderr",
          "text": [
            "<ipython-input-251-fe9247092b62>:7: DeprecationWarning: scipy.misc.derivative is deprecated in SciPy v1.10.0; and will be completely removed in SciPy v1.12.0. You may consider using findiff: https://github.com/maroba/findiff or numdifftools: https://github.com/pbrod/numdifftools\n",
            "  derivative(func = my_function, x0=2)\n"
          ]
        },
        {
          "output_type": "execute_result",
          "data": {
            "text/plain": [
              "4.0"
            ]
          },
          "metadata": {},
          "execution_count": 251
        }
      ]
    },
    {
      "cell_type": "markdown",
      "source": [
        "#**Reading data in python**"
      ],
      "metadata": {
        "id": "aqzbtlcoaV2q"
      }
    },
    {
      "cell_type": "code",
      "source": [
        "# pd.read_{file(csv, excel,json)}=('')\n",
        "# to csv file you need:\n",
        "#                       skirows=\n",
        "#                       glob to multidirectory\n",
        "#                       uecols=[]\n",
        "#                       data.shape()\n",
        "\n",
        "# to excel file you need:\n",
        "#                         sheet_name=\n",
        "\n",
        "# to json file you need:\n",
        "#                         lines=boolean\n",
        "                          # json\n",
        "                          # pprint"
      ],
      "metadata": {
        "id": "qf3tI4QXEDga"
      },
      "execution_count": 252,
      "outputs": []
    },
    {
      "cell_type": "markdown",
      "source": [
        "#**Preprocessing, subsetting and modifying pandas dataframes**"
      ],
      "metadata": {
        "id": "RN_kFO_-icKi"
      }
    },
    {
      "cell_type": "code",
      "source": [
        "# subsetting:\n",
        "#             drop\n",
        "            # inplace\n",
        "            # data.set_index['label']\n",
        "#             data.index\n",
        "#             data.loc[]\n",
        "#     Sunset a data sabed on other:\n",
        "#                                 data[data['']==''] acts like filter\n",
        "      # subet based on position (rows):\n",
        "      #                         data[n:n:i] like data.head() or data.tail()\n",
        "      #                         data.iloc[[rows],[columns]] like specific row\n",
        "\n",
        "      # subsetting based on label (columns):\n",
        "      #                           data.loc[] labels on index\n",
        "\n",
        "      # subsetting based on value (value):\n",
        "      # q                         you can chose a value into the table to act like a filter (&-and |-or !-not)\n",
        "                                  # data[data.column([value])]\n",
        "                                # data.select_dtypes(object, float64 or integer)\n",
        "\n",
        "# check null calues with data.isna().sum()\n",
        "# convertcategorical variables into numerical variables with data = pd.get_dummies(data)"
      ],
      "metadata": {
        "id": "jHiCxerOibuX"
      },
      "execution_count": 253,
      "outputs": []
    },
    {
      "cell_type": "code",
      "source": [
        "import pandas as pd\n",
        "sample_df = [['id','grade','marks'],\n",
        "             ['a101','m','a',22],\n",
        "             ['a102','f','a',21],\n",
        "             ['a103','m','b',12],\n",
        "             ['a104','m','b',14],\n",
        "             ['a105','f','a',20],\n",
        "              ]\n",
        "sample_df =pd.DataFrame(sample_df)\n",
        "sample_df"
      ],
      "metadata": {
        "colab": {
          "base_uri": "https://localhost:8080/",
          "height": 238
        },
        "id": "fGQCrpp-JKQJ",
        "outputId": "1157cbe1-94db-4a88-cec6-cfd6970da617"
      },
      "execution_count": 254,
      "outputs": [
        {
          "output_type": "execute_result",
          "data": {
            "text/plain": [
              "      0      1      2     3\n",
              "0    id  grade  marks   NaN\n",
              "1  a101      m      a  22.0\n",
              "2  a102      f      a  21.0\n",
              "3  a103      m      b  12.0\n",
              "4  a104      m      b  14.0\n",
              "5  a105      f      a  20.0"
            ],
            "text/html": [
              "\n",
              "  <div id=\"df-cd922ddd-d638-4076-8f50-c6e58cc52be8\">\n",
              "    <div class=\"colab-df-container\">\n",
              "      <div>\n",
              "<style scoped>\n",
              "    .dataframe tbody tr th:only-of-type {\n",
              "        vertical-align: middle;\n",
              "    }\n",
              "\n",
              "    .dataframe tbody tr th {\n",
              "        vertical-align: top;\n",
              "    }\n",
              "\n",
              "    .dataframe thead th {\n",
              "        text-align: right;\n",
              "    }\n",
              "</style>\n",
              "<table border=\"1\" class=\"dataframe\">\n",
              "  <thead>\n",
              "    <tr style=\"text-align: right;\">\n",
              "      <th></th>\n",
              "      <th>0</th>\n",
              "      <th>1</th>\n",
              "      <th>2</th>\n",
              "      <th>3</th>\n",
              "    </tr>\n",
              "  </thead>\n",
              "  <tbody>\n",
              "    <tr>\n",
              "      <th>0</th>\n",
              "      <td>id</td>\n",
              "      <td>grade</td>\n",
              "      <td>marks</td>\n",
              "      <td>NaN</td>\n",
              "    </tr>\n",
              "    <tr>\n",
              "      <th>1</th>\n",
              "      <td>a101</td>\n",
              "      <td>m</td>\n",
              "      <td>a</td>\n",
              "      <td>22.0</td>\n",
              "    </tr>\n",
              "    <tr>\n",
              "      <th>2</th>\n",
              "      <td>a102</td>\n",
              "      <td>f</td>\n",
              "      <td>a</td>\n",
              "      <td>21.0</td>\n",
              "    </tr>\n",
              "    <tr>\n",
              "      <th>3</th>\n",
              "      <td>a103</td>\n",
              "      <td>m</td>\n",
              "      <td>b</td>\n",
              "      <td>12.0</td>\n",
              "    </tr>\n",
              "    <tr>\n",
              "      <th>4</th>\n",
              "      <td>a104</td>\n",
              "      <td>m</td>\n",
              "      <td>b</td>\n",
              "      <td>14.0</td>\n",
              "    </tr>\n",
              "    <tr>\n",
              "      <th>5</th>\n",
              "      <td>a105</td>\n",
              "      <td>f</td>\n",
              "      <td>a</td>\n",
              "      <td>20.0</td>\n",
              "    </tr>\n",
              "  </tbody>\n",
              "</table>\n",
              "</div>\n",
              "      <button class=\"colab-df-convert\" onclick=\"convertToInteractive('df-cd922ddd-d638-4076-8f50-c6e58cc52be8')\"\n",
              "              title=\"Convert this dataframe to an interactive table.\"\n",
              "              style=\"display:none;\">\n",
              "        \n",
              "  <svg xmlns=\"http://www.w3.org/2000/svg\" height=\"24px\"viewBox=\"0 0 24 24\"\n",
              "       width=\"24px\">\n",
              "    <path d=\"M0 0h24v24H0V0z\" fill=\"none\"/>\n",
              "    <path d=\"M18.56 5.44l.94 2.06.94-2.06 2.06-.94-2.06-.94-.94-2.06-.94 2.06-2.06.94zm-11 1L8.5 8.5l.94-2.06 2.06-.94-2.06-.94L8.5 2.5l-.94 2.06-2.06.94zm10 10l.94 2.06.94-2.06 2.06-.94-2.06-.94-.94-2.06-.94 2.06-2.06.94z\"/><path d=\"M17.41 7.96l-1.37-1.37c-.4-.4-.92-.59-1.43-.59-.52 0-1.04.2-1.43.59L10.3 9.45l-7.72 7.72c-.78.78-.78 2.05 0 2.83L4 21.41c.39.39.9.59 1.41.59.51 0 1.02-.2 1.41-.59l7.78-7.78 2.81-2.81c.8-.78.8-2.07 0-2.86zM5.41 20L4 18.59l7.72-7.72 1.47 1.35L5.41 20z\"/>\n",
              "  </svg>\n",
              "      </button>\n",
              "      \n",
              "  <style>\n",
              "    .colab-df-container {\n",
              "      display:flex;\n",
              "      flex-wrap:wrap;\n",
              "      gap: 12px;\n",
              "    }\n",
              "\n",
              "    .colab-df-convert {\n",
              "      background-color: #E8F0FE;\n",
              "      border: none;\n",
              "      border-radius: 50%;\n",
              "      cursor: pointer;\n",
              "      display: none;\n",
              "      fill: #1967D2;\n",
              "      height: 32px;\n",
              "      padding: 0 0 0 0;\n",
              "      width: 32px;\n",
              "    }\n",
              "\n",
              "    .colab-df-convert:hover {\n",
              "      background-color: #E2EBFA;\n",
              "      box-shadow: 0px 1px 2px rgba(60, 64, 67, 0.3), 0px 1px 3px 1px rgba(60, 64, 67, 0.15);\n",
              "      fill: #174EA6;\n",
              "    }\n",
              "\n",
              "    [theme=dark] .colab-df-convert {\n",
              "      background-color: #3B4455;\n",
              "      fill: #D2E3FC;\n",
              "    }\n",
              "\n",
              "    [theme=dark] .colab-df-convert:hover {\n",
              "      background-color: #434B5C;\n",
              "      box-shadow: 0px 1px 3px 1px rgba(0, 0, 0, 0.15);\n",
              "      filter: drop-shadow(0px 1px 2px rgba(0, 0, 0, 0.3));\n",
              "      fill: #FFFFFF;\n",
              "    }\n",
              "  </style>\n",
              "\n",
              "      <script>\n",
              "        const buttonEl =\n",
              "          document.querySelector('#df-cd922ddd-d638-4076-8f50-c6e58cc52be8 button.colab-df-convert');\n",
              "        buttonEl.style.display =\n",
              "          google.colab.kernel.accessAllowed ? 'block' : 'none';\n",
              "\n",
              "        async function convertToInteractive(key) {\n",
              "          const element = document.querySelector('#df-cd922ddd-d638-4076-8f50-c6e58cc52be8');\n",
              "          const dataTable =\n",
              "            await google.colab.kernel.invokeFunction('convertToInteractive',\n",
              "                                                     [key], {});\n",
              "          if (!dataTable) return;\n",
              "\n",
              "          const docLinkHtml = 'Like what you see? Visit the ' +\n",
              "            '<a target=\"_blank\" href=https://colab.research.google.com/notebooks/data_table.ipynb>data table notebook</a>'\n",
              "            + ' to learn more about interactive tables.';\n",
              "          element.innerHTML = '';\n",
              "          dataTable['output_type'] = 'display_data';\n",
              "          await google.colab.output.renderOutput(dataTable, element);\n",
              "          const docLink = document.createElement('div');\n",
              "          docLink.innerHTML = docLinkHtml;\n",
              "          element.appendChild(docLink);\n",
              "        }\n",
              "      </script>\n",
              "    </div>\n",
              "  </div>\n",
              "  "
            ]
          },
          "metadata": {},
          "execution_count": 254
        }
      ]
    },
    {
      "cell_type": "code",
      "source": [
        "sample_df.loc['a101':'a104']"
      ],
      "metadata": {
        "colab": {
          "base_uri": "https://localhost:8080/",
          "height": 49
        },
        "id": "v79z6pSBKfdi",
        "outputId": "59ee9b3d-e962-43af-d3b7-bea54e6a5638"
      },
      "execution_count": 255,
      "outputs": [
        {
          "output_type": "execute_result",
          "data": {
            "text/plain": [
              "Empty DataFrame\n",
              "Columns: [0, 1, 2, 3]\n",
              "Index: []"
            ],
            "text/html": [
              "\n",
              "  <div id=\"df-3efdf748-1d58-4e28-ad69-d0dcf4e31721\">\n",
              "    <div class=\"colab-df-container\">\n",
              "      <div>\n",
              "<style scoped>\n",
              "    .dataframe tbody tr th:only-of-type {\n",
              "        vertical-align: middle;\n",
              "    }\n",
              "\n",
              "    .dataframe tbody tr th {\n",
              "        vertical-align: top;\n",
              "    }\n",
              "\n",
              "    .dataframe thead th {\n",
              "        text-align: right;\n",
              "    }\n",
              "</style>\n",
              "<table border=\"1\" class=\"dataframe\">\n",
              "  <thead>\n",
              "    <tr style=\"text-align: right;\">\n",
              "      <th></th>\n",
              "      <th>0</th>\n",
              "      <th>1</th>\n",
              "      <th>2</th>\n",
              "      <th>3</th>\n",
              "    </tr>\n",
              "  </thead>\n",
              "  <tbody>\n",
              "  </tbody>\n",
              "</table>\n",
              "</div>\n",
              "      <button class=\"colab-df-convert\" onclick=\"convertToInteractive('df-3efdf748-1d58-4e28-ad69-d0dcf4e31721')\"\n",
              "              title=\"Convert this dataframe to an interactive table.\"\n",
              "              style=\"display:none;\">\n",
              "        \n",
              "  <svg xmlns=\"http://www.w3.org/2000/svg\" height=\"24px\"viewBox=\"0 0 24 24\"\n",
              "       width=\"24px\">\n",
              "    <path d=\"M0 0h24v24H0V0z\" fill=\"none\"/>\n",
              "    <path d=\"M18.56 5.44l.94 2.06.94-2.06 2.06-.94-2.06-.94-.94-2.06-.94 2.06-2.06.94zm-11 1L8.5 8.5l.94-2.06 2.06-.94-2.06-.94L8.5 2.5l-.94 2.06-2.06.94zm10 10l.94 2.06.94-2.06 2.06-.94-2.06-.94-.94-2.06-.94 2.06-2.06.94z\"/><path d=\"M17.41 7.96l-1.37-1.37c-.4-.4-.92-.59-1.43-.59-.52 0-1.04.2-1.43.59L10.3 9.45l-7.72 7.72c-.78.78-.78 2.05 0 2.83L4 21.41c.39.39.9.59 1.41.59.51 0 1.02-.2 1.41-.59l7.78-7.78 2.81-2.81c.8-.78.8-2.07 0-2.86zM5.41 20L4 18.59l7.72-7.72 1.47 1.35L5.41 20z\"/>\n",
              "  </svg>\n",
              "      </button>\n",
              "      \n",
              "  <style>\n",
              "    .colab-df-container {\n",
              "      display:flex;\n",
              "      flex-wrap:wrap;\n",
              "      gap: 12px;\n",
              "    }\n",
              "\n",
              "    .colab-df-convert {\n",
              "      background-color: #E8F0FE;\n",
              "      border: none;\n",
              "      border-radius: 50%;\n",
              "      cursor: pointer;\n",
              "      display: none;\n",
              "      fill: #1967D2;\n",
              "      height: 32px;\n",
              "      padding: 0 0 0 0;\n",
              "      width: 32px;\n",
              "    }\n",
              "\n",
              "    .colab-df-convert:hover {\n",
              "      background-color: #E2EBFA;\n",
              "      box-shadow: 0px 1px 2px rgba(60, 64, 67, 0.3), 0px 1px 3px 1px rgba(60, 64, 67, 0.15);\n",
              "      fill: #174EA6;\n",
              "    }\n",
              "\n",
              "    [theme=dark] .colab-df-convert {\n",
              "      background-color: #3B4455;\n",
              "      fill: #D2E3FC;\n",
              "    }\n",
              "\n",
              "    [theme=dark] .colab-df-convert:hover {\n",
              "      background-color: #434B5C;\n",
              "      box-shadow: 0px 1px 3px 1px rgba(0, 0, 0, 0.15);\n",
              "      filter: drop-shadow(0px 1px 2px rgba(0, 0, 0, 0.3));\n",
              "      fill: #FFFFFF;\n",
              "    }\n",
              "  </style>\n",
              "\n",
              "      <script>\n",
              "        const buttonEl =\n",
              "          document.querySelector('#df-3efdf748-1d58-4e28-ad69-d0dcf4e31721 button.colab-df-convert');\n",
              "        buttonEl.style.display =\n",
              "          google.colab.kernel.accessAllowed ? 'block' : 'none';\n",
              "\n",
              "        async function convertToInteractive(key) {\n",
              "          const element = document.querySelector('#df-3efdf748-1d58-4e28-ad69-d0dcf4e31721');\n",
              "          const dataTable =\n",
              "            await google.colab.kernel.invokeFunction('convertToInteractive',\n",
              "                                                     [key], {});\n",
              "          if (!dataTable) return;\n",
              "\n",
              "          const docLinkHtml = 'Like what you see? Visit the ' +\n",
              "            '<a target=\"_blank\" href=https://colab.research.google.com/notebooks/data_table.ipynb>data table notebook</a>'\n",
              "            + ' to learn more about interactive tables.';\n",
              "          element.innerHTML = '';\n",
              "          dataTable['output_type'] = 'display_data';\n",
              "          await google.colab.output.renderOutput(dataTable, element);\n",
              "          const docLink = document.createElement('div');\n",
              "          docLink.innerHTML = docLinkHtml;\n",
              "          element.appendChild(docLink);\n",
              "        }\n",
              "      </script>\n",
              "    </div>\n",
              "  </div>\n",
              "  "
            ]
          },
          "metadata": {},
          "execution_count": 255
        }
      ]
    },
    {
      "cell_type": "code",
      "source": [
        "data = pd.DataFrame({'gender':['M','F','f','F','M'],\n",
        "                     'age':[10,12,12,12,11]})\n",
        "data"
      ],
      "metadata": {
        "colab": {
          "base_uri": "https://localhost:8080/",
          "height": 206
        },
        "id": "GnLIbmW7Kzur",
        "outputId": "818d8fcb-268b-4606-ee66-93ee2e57a5b9"
      },
      "execution_count": 256,
      "outputs": [
        {
          "output_type": "execute_result",
          "data": {
            "text/plain": [
              "  gender  age\n",
              "0      M   10\n",
              "1      F   12\n",
              "2      f   12\n",
              "3      F   12\n",
              "4      M   11"
            ],
            "text/html": [
              "\n",
              "  <div id=\"df-c2a9020d-cf98-4476-a43b-c2aedb3e1487\">\n",
              "    <div class=\"colab-df-container\">\n",
              "      <div>\n",
              "<style scoped>\n",
              "    .dataframe tbody tr th:only-of-type {\n",
              "        vertical-align: middle;\n",
              "    }\n",
              "\n",
              "    .dataframe tbody tr th {\n",
              "        vertical-align: top;\n",
              "    }\n",
              "\n",
              "    .dataframe thead th {\n",
              "        text-align: right;\n",
              "    }\n",
              "</style>\n",
              "<table border=\"1\" class=\"dataframe\">\n",
              "  <thead>\n",
              "    <tr style=\"text-align: right;\">\n",
              "      <th></th>\n",
              "      <th>gender</th>\n",
              "      <th>age</th>\n",
              "    </tr>\n",
              "  </thead>\n",
              "  <tbody>\n",
              "    <tr>\n",
              "      <th>0</th>\n",
              "      <td>M</td>\n",
              "      <td>10</td>\n",
              "    </tr>\n",
              "    <tr>\n",
              "      <th>1</th>\n",
              "      <td>F</td>\n",
              "      <td>12</td>\n",
              "    </tr>\n",
              "    <tr>\n",
              "      <th>2</th>\n",
              "      <td>f</td>\n",
              "      <td>12</td>\n",
              "    </tr>\n",
              "    <tr>\n",
              "      <th>3</th>\n",
              "      <td>F</td>\n",
              "      <td>12</td>\n",
              "    </tr>\n",
              "    <tr>\n",
              "      <th>4</th>\n",
              "      <td>M</td>\n",
              "      <td>11</td>\n",
              "    </tr>\n",
              "  </tbody>\n",
              "</table>\n",
              "</div>\n",
              "      <button class=\"colab-df-convert\" onclick=\"convertToInteractive('df-c2a9020d-cf98-4476-a43b-c2aedb3e1487')\"\n",
              "              title=\"Convert this dataframe to an interactive table.\"\n",
              "              style=\"display:none;\">\n",
              "        \n",
              "  <svg xmlns=\"http://www.w3.org/2000/svg\" height=\"24px\"viewBox=\"0 0 24 24\"\n",
              "       width=\"24px\">\n",
              "    <path d=\"M0 0h24v24H0V0z\" fill=\"none\"/>\n",
              "    <path d=\"M18.56 5.44l.94 2.06.94-2.06 2.06-.94-2.06-.94-.94-2.06-.94 2.06-2.06.94zm-11 1L8.5 8.5l.94-2.06 2.06-.94-2.06-.94L8.5 2.5l-.94 2.06-2.06.94zm10 10l.94 2.06.94-2.06 2.06-.94-2.06-.94-.94-2.06-.94 2.06-2.06.94z\"/><path d=\"M17.41 7.96l-1.37-1.37c-.4-.4-.92-.59-1.43-.59-.52 0-1.04.2-1.43.59L10.3 9.45l-7.72 7.72c-.78.78-.78 2.05 0 2.83L4 21.41c.39.39.9.59 1.41.59.51 0 1.02-.2 1.41-.59l7.78-7.78 2.81-2.81c.8-.78.8-2.07 0-2.86zM5.41 20L4 18.59l7.72-7.72 1.47 1.35L5.41 20z\"/>\n",
              "  </svg>\n",
              "      </button>\n",
              "      \n",
              "  <style>\n",
              "    .colab-df-container {\n",
              "      display:flex;\n",
              "      flex-wrap:wrap;\n",
              "      gap: 12px;\n",
              "    }\n",
              "\n",
              "    .colab-df-convert {\n",
              "      background-color: #E8F0FE;\n",
              "      border: none;\n",
              "      border-radius: 50%;\n",
              "      cursor: pointer;\n",
              "      display: none;\n",
              "      fill: #1967D2;\n",
              "      height: 32px;\n",
              "      padding: 0 0 0 0;\n",
              "      width: 32px;\n",
              "    }\n",
              "\n",
              "    .colab-df-convert:hover {\n",
              "      background-color: #E2EBFA;\n",
              "      box-shadow: 0px 1px 2px rgba(60, 64, 67, 0.3), 0px 1px 3px 1px rgba(60, 64, 67, 0.15);\n",
              "      fill: #174EA6;\n",
              "    }\n",
              "\n",
              "    [theme=dark] .colab-df-convert {\n",
              "      background-color: #3B4455;\n",
              "      fill: #D2E3FC;\n",
              "    }\n",
              "\n",
              "    [theme=dark] .colab-df-convert:hover {\n",
              "      background-color: #434B5C;\n",
              "      box-shadow: 0px 1px 3px 1px rgba(0, 0, 0, 0.15);\n",
              "      filter: drop-shadow(0px 1px 2px rgba(0, 0, 0, 0.3));\n",
              "      fill: #FFFFFF;\n",
              "    }\n",
              "  </style>\n",
              "\n",
              "      <script>\n",
              "        const buttonEl =\n",
              "          document.querySelector('#df-c2a9020d-cf98-4476-a43b-c2aedb3e1487 button.colab-df-convert');\n",
              "        buttonEl.style.display =\n",
              "          google.colab.kernel.accessAllowed ? 'block' : 'none';\n",
              "\n",
              "        async function convertToInteractive(key) {\n",
              "          const element = document.querySelector('#df-c2a9020d-cf98-4476-a43b-c2aedb3e1487');\n",
              "          const dataTable =\n",
              "            await google.colab.kernel.invokeFunction('convertToInteractive',\n",
              "                                                     [key], {});\n",
              "          if (!dataTable) return;\n",
              "\n",
              "          const docLinkHtml = 'Like what you see? Visit the ' +\n",
              "            '<a target=\"_blank\" href=https://colab.research.google.com/notebooks/data_table.ipynb>data table notebook</a>'\n",
              "            + ' to learn more about interactive tables.';\n",
              "          element.innerHTML = '';\n",
              "          dataTable['output_type'] = 'display_data';\n",
              "          await google.colab.output.renderOutput(dataTable, element);\n",
              "          const docLink = document.createElement('div');\n",
              "          docLink.innerHTML = docLinkHtml;\n",
              "          element.appendChild(docLink);\n",
              "        }\n",
              "      </script>\n",
              "    </div>\n",
              "  </div>\n",
              "  "
            ]
          },
          "metadata": {},
          "execution_count": 256
        }
      ]
    },
    {
      "cell_type": "code",
      "source": [
        "pd.get_dummies(data)"
      ],
      "metadata": {
        "colab": {
          "base_uri": "https://localhost:8080/",
          "height": 206
        },
        "id": "vxeyPmzoQhz-",
        "outputId": "3ddfd2e2-f90e-4255-e7e0-90325cecb015"
      },
      "execution_count": 257,
      "outputs": [
        {
          "output_type": "execute_result",
          "data": {
            "text/plain": [
              "   age  gender_F  gender_M  gender_f\n",
              "0   10         0         1         0\n",
              "1   12         1         0         0\n",
              "2   12         0         0         1\n",
              "3   12         1         0         0\n",
              "4   11         0         1         0"
            ],
            "text/html": [
              "\n",
              "  <div id=\"df-c2e7e630-e70a-4e11-9feb-d9c38782c0e8\">\n",
              "    <div class=\"colab-df-container\">\n",
              "      <div>\n",
              "<style scoped>\n",
              "    .dataframe tbody tr th:only-of-type {\n",
              "        vertical-align: middle;\n",
              "    }\n",
              "\n",
              "    .dataframe tbody tr th {\n",
              "        vertical-align: top;\n",
              "    }\n",
              "\n",
              "    .dataframe thead th {\n",
              "        text-align: right;\n",
              "    }\n",
              "</style>\n",
              "<table border=\"1\" class=\"dataframe\">\n",
              "  <thead>\n",
              "    <tr style=\"text-align: right;\">\n",
              "      <th></th>\n",
              "      <th>age</th>\n",
              "      <th>gender_F</th>\n",
              "      <th>gender_M</th>\n",
              "      <th>gender_f</th>\n",
              "    </tr>\n",
              "  </thead>\n",
              "  <tbody>\n",
              "    <tr>\n",
              "      <th>0</th>\n",
              "      <td>10</td>\n",
              "      <td>0</td>\n",
              "      <td>1</td>\n",
              "      <td>0</td>\n",
              "    </tr>\n",
              "    <tr>\n",
              "      <th>1</th>\n",
              "      <td>12</td>\n",
              "      <td>1</td>\n",
              "      <td>0</td>\n",
              "      <td>0</td>\n",
              "    </tr>\n",
              "    <tr>\n",
              "      <th>2</th>\n",
              "      <td>12</td>\n",
              "      <td>0</td>\n",
              "      <td>0</td>\n",
              "      <td>1</td>\n",
              "    </tr>\n",
              "    <tr>\n",
              "      <th>3</th>\n",
              "      <td>12</td>\n",
              "      <td>1</td>\n",
              "      <td>0</td>\n",
              "      <td>0</td>\n",
              "    </tr>\n",
              "    <tr>\n",
              "      <th>4</th>\n",
              "      <td>11</td>\n",
              "      <td>0</td>\n",
              "      <td>1</td>\n",
              "      <td>0</td>\n",
              "    </tr>\n",
              "  </tbody>\n",
              "</table>\n",
              "</div>\n",
              "      <button class=\"colab-df-convert\" onclick=\"convertToInteractive('df-c2e7e630-e70a-4e11-9feb-d9c38782c0e8')\"\n",
              "              title=\"Convert this dataframe to an interactive table.\"\n",
              "              style=\"display:none;\">\n",
              "        \n",
              "  <svg xmlns=\"http://www.w3.org/2000/svg\" height=\"24px\"viewBox=\"0 0 24 24\"\n",
              "       width=\"24px\">\n",
              "    <path d=\"M0 0h24v24H0V0z\" fill=\"none\"/>\n",
              "    <path d=\"M18.56 5.44l.94 2.06.94-2.06 2.06-.94-2.06-.94-.94-2.06-.94 2.06-2.06.94zm-11 1L8.5 8.5l.94-2.06 2.06-.94-2.06-.94L8.5 2.5l-.94 2.06-2.06.94zm10 10l.94 2.06.94-2.06 2.06-.94-2.06-.94-.94-2.06-.94 2.06-2.06.94z\"/><path d=\"M17.41 7.96l-1.37-1.37c-.4-.4-.92-.59-1.43-.59-.52 0-1.04.2-1.43.59L10.3 9.45l-7.72 7.72c-.78.78-.78 2.05 0 2.83L4 21.41c.39.39.9.59 1.41.59.51 0 1.02-.2 1.41-.59l7.78-7.78 2.81-2.81c.8-.78.8-2.07 0-2.86zM5.41 20L4 18.59l7.72-7.72 1.47 1.35L5.41 20z\"/>\n",
              "  </svg>\n",
              "      </button>\n",
              "      \n",
              "  <style>\n",
              "    .colab-df-container {\n",
              "      display:flex;\n",
              "      flex-wrap:wrap;\n",
              "      gap: 12px;\n",
              "    }\n",
              "\n",
              "    .colab-df-convert {\n",
              "      background-color: #E8F0FE;\n",
              "      border: none;\n",
              "      border-radius: 50%;\n",
              "      cursor: pointer;\n",
              "      display: none;\n",
              "      fill: #1967D2;\n",
              "      height: 32px;\n",
              "      padding: 0 0 0 0;\n",
              "      width: 32px;\n",
              "    }\n",
              "\n",
              "    .colab-df-convert:hover {\n",
              "      background-color: #E2EBFA;\n",
              "      box-shadow: 0px 1px 2px rgba(60, 64, 67, 0.3), 0px 1px 3px 1px rgba(60, 64, 67, 0.15);\n",
              "      fill: #174EA6;\n",
              "    }\n",
              "\n",
              "    [theme=dark] .colab-df-convert {\n",
              "      background-color: #3B4455;\n",
              "      fill: #D2E3FC;\n",
              "    }\n",
              "\n",
              "    [theme=dark] .colab-df-convert:hover {\n",
              "      background-color: #434B5C;\n",
              "      box-shadow: 0px 1px 3px 1px rgba(0, 0, 0, 0.15);\n",
              "      filter: drop-shadow(0px 1px 2px rgba(0, 0, 0, 0.3));\n",
              "      fill: #FFFFFF;\n",
              "    }\n",
              "  </style>\n",
              "\n",
              "      <script>\n",
              "        const buttonEl =\n",
              "          document.querySelector('#df-c2e7e630-e70a-4e11-9feb-d9c38782c0e8 button.colab-df-convert');\n",
              "        buttonEl.style.display =\n",
              "          google.colab.kernel.accessAllowed ? 'block' : 'none';\n",
              "\n",
              "        async function convertToInteractive(key) {\n",
              "          const element = document.querySelector('#df-c2e7e630-e70a-4e11-9feb-d9c38782c0e8');\n",
              "          const dataTable =\n",
              "            await google.colab.kernel.invokeFunction('convertToInteractive',\n",
              "                                                     [key], {});\n",
              "          if (!dataTable) return;\n",
              "\n",
              "          const docLinkHtml = 'Like what you see? Visit the ' +\n",
              "            '<a target=\"_blank\" href=https://colab.research.google.com/notebooks/data_table.ipynb>data table notebook</a>'\n",
              "            + ' to learn more about interactive tables.';\n",
              "          element.innerHTML = '';\n",
              "          dataTable['output_type'] = 'display_data';\n",
              "          await google.colab.output.renderOutput(dataTable, element);\n",
              "          const docLink = document.createElement('div');\n",
              "          docLink.innerHTML = docLinkHtml;\n",
              "          element.appendChild(docLink);\n",
              "        }\n",
              "      </script>\n",
              "    </div>\n",
              "  </div>\n",
              "  "
            ]
          },
          "metadata": {},
          "execution_count": 257
        }
      ]
    },
    {
      "cell_type": "code",
      "source": [
        "import numpy as np \n",
        "sample_df = pd.DataFrame({'gender' : ['M','F','M','M','F'],\n",
        "                          'grade' : ['A','A','B','B','A'],\n",
        "                          'marks' : [22,np.nan,12,np.nan,np.nan],\n",
        "                          'id' : ['a101','a102','a103','a104','a105']})\n",
        "sample_df"
      ],
      "metadata": {
        "colab": {
          "base_uri": "https://localhost:8080/",
          "height": 206
        },
        "id": "IKDQF7cPQ4vM",
        "outputId": "5ecb294c-6ec9-4a7b-dc38-2b75025484cb"
      },
      "execution_count": 258,
      "outputs": [
        {
          "output_type": "execute_result",
          "data": {
            "text/plain": [
              "  gender grade  marks    id\n",
              "0      M     A   22.0  a101\n",
              "1      F     A    NaN  a102\n",
              "2      M     B   12.0  a103\n",
              "3      M     B    NaN  a104\n",
              "4      F     A    NaN  a105"
            ],
            "text/html": [
              "\n",
              "  <div id=\"df-1e7bc1bf-7bad-4e78-901c-764e77b8b958\">\n",
              "    <div class=\"colab-df-container\">\n",
              "      <div>\n",
              "<style scoped>\n",
              "    .dataframe tbody tr th:only-of-type {\n",
              "        vertical-align: middle;\n",
              "    }\n",
              "\n",
              "    .dataframe tbody tr th {\n",
              "        vertical-align: top;\n",
              "    }\n",
              "\n",
              "    .dataframe thead th {\n",
              "        text-align: right;\n",
              "    }\n",
              "</style>\n",
              "<table border=\"1\" class=\"dataframe\">\n",
              "  <thead>\n",
              "    <tr style=\"text-align: right;\">\n",
              "      <th></th>\n",
              "      <th>gender</th>\n",
              "      <th>grade</th>\n",
              "      <th>marks</th>\n",
              "      <th>id</th>\n",
              "    </tr>\n",
              "  </thead>\n",
              "  <tbody>\n",
              "    <tr>\n",
              "      <th>0</th>\n",
              "      <td>M</td>\n",
              "      <td>A</td>\n",
              "      <td>22.0</td>\n",
              "      <td>a101</td>\n",
              "    </tr>\n",
              "    <tr>\n",
              "      <th>1</th>\n",
              "      <td>F</td>\n",
              "      <td>A</td>\n",
              "      <td>NaN</td>\n",
              "      <td>a102</td>\n",
              "    </tr>\n",
              "    <tr>\n",
              "      <th>2</th>\n",
              "      <td>M</td>\n",
              "      <td>B</td>\n",
              "      <td>12.0</td>\n",
              "      <td>a103</td>\n",
              "    </tr>\n",
              "    <tr>\n",
              "      <th>3</th>\n",
              "      <td>M</td>\n",
              "      <td>B</td>\n",
              "      <td>NaN</td>\n",
              "      <td>a104</td>\n",
              "    </tr>\n",
              "    <tr>\n",
              "      <th>4</th>\n",
              "      <td>F</td>\n",
              "      <td>A</td>\n",
              "      <td>NaN</td>\n",
              "      <td>a105</td>\n",
              "    </tr>\n",
              "  </tbody>\n",
              "</table>\n",
              "</div>\n",
              "      <button class=\"colab-df-convert\" onclick=\"convertToInteractive('df-1e7bc1bf-7bad-4e78-901c-764e77b8b958')\"\n",
              "              title=\"Convert this dataframe to an interactive table.\"\n",
              "              style=\"display:none;\">\n",
              "        \n",
              "  <svg xmlns=\"http://www.w3.org/2000/svg\" height=\"24px\"viewBox=\"0 0 24 24\"\n",
              "       width=\"24px\">\n",
              "    <path d=\"M0 0h24v24H0V0z\" fill=\"none\"/>\n",
              "    <path d=\"M18.56 5.44l.94 2.06.94-2.06 2.06-.94-2.06-.94-.94-2.06-.94 2.06-2.06.94zm-11 1L8.5 8.5l.94-2.06 2.06-.94-2.06-.94L8.5 2.5l-.94 2.06-2.06.94zm10 10l.94 2.06.94-2.06 2.06-.94-2.06-.94-.94-2.06-.94 2.06-2.06.94z\"/><path d=\"M17.41 7.96l-1.37-1.37c-.4-.4-.92-.59-1.43-.59-.52 0-1.04.2-1.43.59L10.3 9.45l-7.72 7.72c-.78.78-.78 2.05 0 2.83L4 21.41c.39.39.9.59 1.41.59.51 0 1.02-.2 1.41-.59l7.78-7.78 2.81-2.81c.8-.78.8-2.07 0-2.86zM5.41 20L4 18.59l7.72-7.72 1.47 1.35L5.41 20z\"/>\n",
              "  </svg>\n",
              "      </button>\n",
              "      \n",
              "  <style>\n",
              "    .colab-df-container {\n",
              "      display:flex;\n",
              "      flex-wrap:wrap;\n",
              "      gap: 12px;\n",
              "    }\n",
              "\n",
              "    .colab-df-convert {\n",
              "      background-color: #E8F0FE;\n",
              "      border: none;\n",
              "      border-radius: 50%;\n",
              "      cursor: pointer;\n",
              "      display: none;\n",
              "      fill: #1967D2;\n",
              "      height: 32px;\n",
              "      padding: 0 0 0 0;\n",
              "      width: 32px;\n",
              "    }\n",
              "\n",
              "    .colab-df-convert:hover {\n",
              "      background-color: #E2EBFA;\n",
              "      box-shadow: 0px 1px 2px rgba(60, 64, 67, 0.3), 0px 1px 3px 1px rgba(60, 64, 67, 0.15);\n",
              "      fill: #174EA6;\n",
              "    }\n",
              "\n",
              "    [theme=dark] .colab-df-convert {\n",
              "      background-color: #3B4455;\n",
              "      fill: #D2E3FC;\n",
              "    }\n",
              "\n",
              "    [theme=dark] .colab-df-convert:hover {\n",
              "      background-color: #434B5C;\n",
              "      box-shadow: 0px 1px 3px 1px rgba(0, 0, 0, 0.15);\n",
              "      filter: drop-shadow(0px 1px 2px rgba(0, 0, 0, 0.3));\n",
              "      fill: #FFFFFF;\n",
              "    }\n",
              "  </style>\n",
              "\n",
              "      <script>\n",
              "        const buttonEl =\n",
              "          document.querySelector('#df-1e7bc1bf-7bad-4e78-901c-764e77b8b958 button.colab-df-convert');\n",
              "        buttonEl.style.display =\n",
              "          google.colab.kernel.accessAllowed ? 'block' : 'none';\n",
              "\n",
              "        async function convertToInteractive(key) {\n",
              "          const element = document.querySelector('#df-1e7bc1bf-7bad-4e78-901c-764e77b8b958');\n",
              "          const dataTable =\n",
              "            await google.colab.kernel.invokeFunction('convertToInteractive',\n",
              "                                                     [key], {});\n",
              "          if (!dataTable) return;\n",
              "\n",
              "          const docLinkHtml = 'Like what you see? Visit the ' +\n",
              "            '<a target=\"_blank\" href=https://colab.research.google.com/notebooks/data_table.ipynb>data table notebook</a>'\n",
              "            + ' to learn more about interactive tables.';\n",
              "          element.innerHTML = '';\n",
              "          dataTable['output_type'] = 'display_data';\n",
              "          await google.colab.output.renderOutput(dataTable, element);\n",
              "          const docLink = document.createElement('div');\n",
              "          docLink.innerHTML = docLinkHtml;\n",
              "          element.appendChild(docLink);\n",
              "        }\n",
              "      </script>\n",
              "    </div>\n",
              "  </div>\n",
              "  "
            ]
          },
          "metadata": {},
          "execution_count": 258
        }
      ]
    },
    {
      "cell_type": "code",
      "source": [
        "sample_df.marks.fillna(sample_df.marks.mean(),inplace=True)\n",
        "sample_df"
      ],
      "metadata": {
        "colab": {
          "base_uri": "https://localhost:8080/",
          "height": 206
        },
        "id": "KB1pnK27R6J5",
        "outputId": "cc2fe990-d6e6-4a52-ce0c-083351c58713"
      },
      "execution_count": 259,
      "outputs": [
        {
          "output_type": "execute_result",
          "data": {
            "text/plain": [
              "  gender grade  marks    id\n",
              "0      M     A   22.0  a101\n",
              "1      F     A   17.0  a102\n",
              "2      M     B   12.0  a103\n",
              "3      M     B   17.0  a104\n",
              "4      F     A   17.0  a105"
            ],
            "text/html": [
              "\n",
              "  <div id=\"df-31475905-7ea6-4d27-9d6c-eb8d8acbf281\">\n",
              "    <div class=\"colab-df-container\">\n",
              "      <div>\n",
              "<style scoped>\n",
              "    .dataframe tbody tr th:only-of-type {\n",
              "        vertical-align: middle;\n",
              "    }\n",
              "\n",
              "    .dataframe tbody tr th {\n",
              "        vertical-align: top;\n",
              "    }\n",
              "\n",
              "    .dataframe thead th {\n",
              "        text-align: right;\n",
              "    }\n",
              "</style>\n",
              "<table border=\"1\" class=\"dataframe\">\n",
              "  <thead>\n",
              "    <tr style=\"text-align: right;\">\n",
              "      <th></th>\n",
              "      <th>gender</th>\n",
              "      <th>grade</th>\n",
              "      <th>marks</th>\n",
              "      <th>id</th>\n",
              "    </tr>\n",
              "  </thead>\n",
              "  <tbody>\n",
              "    <tr>\n",
              "      <th>0</th>\n",
              "      <td>M</td>\n",
              "      <td>A</td>\n",
              "      <td>22.0</td>\n",
              "      <td>a101</td>\n",
              "    </tr>\n",
              "    <tr>\n",
              "      <th>1</th>\n",
              "      <td>F</td>\n",
              "      <td>A</td>\n",
              "      <td>17.0</td>\n",
              "      <td>a102</td>\n",
              "    </tr>\n",
              "    <tr>\n",
              "      <th>2</th>\n",
              "      <td>M</td>\n",
              "      <td>B</td>\n",
              "      <td>12.0</td>\n",
              "      <td>a103</td>\n",
              "    </tr>\n",
              "    <tr>\n",
              "      <th>3</th>\n",
              "      <td>M</td>\n",
              "      <td>B</td>\n",
              "      <td>17.0</td>\n",
              "      <td>a104</td>\n",
              "    </tr>\n",
              "    <tr>\n",
              "      <th>4</th>\n",
              "      <td>F</td>\n",
              "      <td>A</td>\n",
              "      <td>17.0</td>\n",
              "      <td>a105</td>\n",
              "    </tr>\n",
              "  </tbody>\n",
              "</table>\n",
              "</div>\n",
              "      <button class=\"colab-df-convert\" onclick=\"convertToInteractive('df-31475905-7ea6-4d27-9d6c-eb8d8acbf281')\"\n",
              "              title=\"Convert this dataframe to an interactive table.\"\n",
              "              style=\"display:none;\">\n",
              "        \n",
              "  <svg xmlns=\"http://www.w3.org/2000/svg\" height=\"24px\"viewBox=\"0 0 24 24\"\n",
              "       width=\"24px\">\n",
              "    <path d=\"M0 0h24v24H0V0z\" fill=\"none\"/>\n",
              "    <path d=\"M18.56 5.44l.94 2.06.94-2.06 2.06-.94-2.06-.94-.94-2.06-.94 2.06-2.06.94zm-11 1L8.5 8.5l.94-2.06 2.06-.94-2.06-.94L8.5 2.5l-.94 2.06-2.06.94zm10 10l.94 2.06.94-2.06 2.06-.94-2.06-.94-.94-2.06-.94 2.06-2.06.94z\"/><path d=\"M17.41 7.96l-1.37-1.37c-.4-.4-.92-.59-1.43-.59-.52 0-1.04.2-1.43.59L10.3 9.45l-7.72 7.72c-.78.78-.78 2.05 0 2.83L4 21.41c.39.39.9.59 1.41.59.51 0 1.02-.2 1.41-.59l7.78-7.78 2.81-2.81c.8-.78.8-2.07 0-2.86zM5.41 20L4 18.59l7.72-7.72 1.47 1.35L5.41 20z\"/>\n",
              "  </svg>\n",
              "      </button>\n",
              "      \n",
              "  <style>\n",
              "    .colab-df-container {\n",
              "      display:flex;\n",
              "      flex-wrap:wrap;\n",
              "      gap: 12px;\n",
              "    }\n",
              "\n",
              "    .colab-df-convert {\n",
              "      background-color: #E8F0FE;\n",
              "      border: none;\n",
              "      border-radius: 50%;\n",
              "      cursor: pointer;\n",
              "      display: none;\n",
              "      fill: #1967D2;\n",
              "      height: 32px;\n",
              "      padding: 0 0 0 0;\n",
              "      width: 32px;\n",
              "    }\n",
              "\n",
              "    .colab-df-convert:hover {\n",
              "      background-color: #E2EBFA;\n",
              "      box-shadow: 0px 1px 2px rgba(60, 64, 67, 0.3), 0px 1px 3px 1px rgba(60, 64, 67, 0.15);\n",
              "      fill: #174EA6;\n",
              "    }\n",
              "\n",
              "    [theme=dark] .colab-df-convert {\n",
              "      background-color: #3B4455;\n",
              "      fill: #D2E3FC;\n",
              "    }\n",
              "\n",
              "    [theme=dark] .colab-df-convert:hover {\n",
              "      background-color: #434B5C;\n",
              "      box-shadow: 0px 1px 3px 1px rgba(0, 0, 0, 0.15);\n",
              "      filter: drop-shadow(0px 1px 2px rgba(0, 0, 0, 0.3));\n",
              "      fill: #FFFFFF;\n",
              "    }\n",
              "  </style>\n",
              "\n",
              "      <script>\n",
              "        const buttonEl =\n",
              "          document.querySelector('#df-31475905-7ea6-4d27-9d6c-eb8d8acbf281 button.colab-df-convert');\n",
              "        buttonEl.style.display =\n",
              "          google.colab.kernel.accessAllowed ? 'block' : 'none';\n",
              "\n",
              "        async function convertToInteractive(key) {\n",
              "          const element = document.querySelector('#df-31475905-7ea6-4d27-9d6c-eb8d8acbf281');\n",
              "          const dataTable =\n",
              "            await google.colab.kernel.invokeFunction('convertToInteractive',\n",
              "                                                     [key], {});\n",
              "          if (!dataTable) return;\n",
              "\n",
              "          const docLinkHtml = 'Like what you see? Visit the ' +\n",
              "            '<a target=\"_blank\" href=https://colab.research.google.com/notebooks/data_table.ipynb>data table notebook</a>'\n",
              "            + ' to learn more about interactive tables.';\n",
              "          element.innerHTML = '';\n",
              "          dataTable['output_type'] = 'display_data';\n",
              "          await google.colab.output.renderOutput(dataTable, element);\n",
              "          const docLink = document.createElement('div');\n",
              "          docLink.innerHTML = docLinkHtml;\n",
              "          element.appendChild(docLink);\n",
              "        }\n",
              "      </script>\n",
              "    </div>\n",
              "  </div>\n",
              "  "
            ]
          },
          "metadata": {},
          "execution_count": 259
        }
      ]
    },
    {
      "cell_type": "markdown",
      "source": [
        "#**Preprocessing, sorting and agregating data**"
      ],
      "metadata": {
        "id": "I5bwjOYDSQPs"
      }
    },
    {
      "cell_type": "code",
      "source": [
        "# sort by id, student ...\n",
        "# data_frame.sort_value(by=['column']) or # data_frame.sort_value(by=['column',''column], ascending =[True,False])\n",
        "# important inplace = True\n",
        "# if you do not have inplace, use data_frame.reset_index()\n",
        "\n",
        "\n",
        "# Concatenate multiple dataframes\n",
        "          #  pd.concat(dataframes, axis=0) 0 is rows and 1 is columns\n",
        "\n",
        "# SQL-like joints\n",
        "        # main_df.merge(mapping_df, how= 'left', on = 'label') also left, right, inner or outer"
      ],
      "metadata": {
        "id": "AxytkI0MRjDL"
      },
      "execution_count": 260,
      "outputs": []
    },
    {
      "cell_type": "code",
      "source": [
        "import pandas as pd\n",
        "\n",
        "sample_df1 = pd.DataFrame({'gender': ['m','f','m','m','f'],\n",
        "                           'id': ['a101','a104','a106', 'a110', 'a105']})\n",
        "\n",
        "\n",
        "sample_df2 = pd.DataFrame({'grade':['a','a','b','b','a'],\n",
        "                           'id': ['a101','a102','a103','a104','a105']})\n",
        "\n",
        "# sample_df1.merge(sample_df2, how='outer', on ='id')\n",
        "sample_df1.merge(sample_df2, how='right', on ='id')"
      ],
      "metadata": {
        "colab": {
          "base_uri": "https://localhost:8080/",
          "height": 206
        },
        "id": "GQz0qVgbMBfN",
        "outputId": "aae000ef-3d76-4c57-bf2f-c7c74155f3ab"
      },
      "execution_count": 261,
      "outputs": [
        {
          "output_type": "execute_result",
          "data": {
            "text/plain": [
              "  gender    id grade\n",
              "0      m  a101     a\n",
              "1    NaN  a102     a\n",
              "2    NaN  a103     b\n",
              "3      f  a104     b\n",
              "4      f  a105     a"
            ],
            "text/html": [
              "\n",
              "  <div id=\"df-6e9422e6-f452-4d49-9edb-f4f07a28073d\">\n",
              "    <div class=\"colab-df-container\">\n",
              "      <div>\n",
              "<style scoped>\n",
              "    .dataframe tbody tr th:only-of-type {\n",
              "        vertical-align: middle;\n",
              "    }\n",
              "\n",
              "    .dataframe tbody tr th {\n",
              "        vertical-align: top;\n",
              "    }\n",
              "\n",
              "    .dataframe thead th {\n",
              "        text-align: right;\n",
              "    }\n",
              "</style>\n",
              "<table border=\"1\" class=\"dataframe\">\n",
              "  <thead>\n",
              "    <tr style=\"text-align: right;\">\n",
              "      <th></th>\n",
              "      <th>gender</th>\n",
              "      <th>id</th>\n",
              "      <th>grade</th>\n",
              "    </tr>\n",
              "  </thead>\n",
              "  <tbody>\n",
              "    <tr>\n",
              "      <th>0</th>\n",
              "      <td>m</td>\n",
              "      <td>a101</td>\n",
              "      <td>a</td>\n",
              "    </tr>\n",
              "    <tr>\n",
              "      <th>1</th>\n",
              "      <td>NaN</td>\n",
              "      <td>a102</td>\n",
              "      <td>a</td>\n",
              "    </tr>\n",
              "    <tr>\n",
              "      <th>2</th>\n",
              "      <td>NaN</td>\n",
              "      <td>a103</td>\n",
              "      <td>b</td>\n",
              "    </tr>\n",
              "    <tr>\n",
              "      <th>3</th>\n",
              "      <td>f</td>\n",
              "      <td>a104</td>\n",
              "      <td>b</td>\n",
              "    </tr>\n",
              "    <tr>\n",
              "      <th>4</th>\n",
              "      <td>f</td>\n",
              "      <td>a105</td>\n",
              "      <td>a</td>\n",
              "    </tr>\n",
              "  </tbody>\n",
              "</table>\n",
              "</div>\n",
              "      <button class=\"colab-df-convert\" onclick=\"convertToInteractive('df-6e9422e6-f452-4d49-9edb-f4f07a28073d')\"\n",
              "              title=\"Convert this dataframe to an interactive table.\"\n",
              "              style=\"display:none;\">\n",
              "        \n",
              "  <svg xmlns=\"http://www.w3.org/2000/svg\" height=\"24px\"viewBox=\"0 0 24 24\"\n",
              "       width=\"24px\">\n",
              "    <path d=\"M0 0h24v24H0V0z\" fill=\"none\"/>\n",
              "    <path d=\"M18.56 5.44l.94 2.06.94-2.06 2.06-.94-2.06-.94-.94-2.06-.94 2.06-2.06.94zm-11 1L8.5 8.5l.94-2.06 2.06-.94-2.06-.94L8.5 2.5l-.94 2.06-2.06.94zm10 10l.94 2.06.94-2.06 2.06-.94-2.06-.94-.94-2.06-.94 2.06-2.06.94z\"/><path d=\"M17.41 7.96l-1.37-1.37c-.4-.4-.92-.59-1.43-.59-.52 0-1.04.2-1.43.59L10.3 9.45l-7.72 7.72c-.78.78-.78 2.05 0 2.83L4 21.41c.39.39.9.59 1.41.59.51 0 1.02-.2 1.41-.59l7.78-7.78 2.81-2.81c.8-.78.8-2.07 0-2.86zM5.41 20L4 18.59l7.72-7.72 1.47 1.35L5.41 20z\"/>\n",
              "  </svg>\n",
              "      </button>\n",
              "      \n",
              "  <style>\n",
              "    .colab-df-container {\n",
              "      display:flex;\n",
              "      flex-wrap:wrap;\n",
              "      gap: 12px;\n",
              "    }\n",
              "\n",
              "    .colab-df-convert {\n",
              "      background-color: #E8F0FE;\n",
              "      border: none;\n",
              "      border-radius: 50%;\n",
              "      cursor: pointer;\n",
              "      display: none;\n",
              "      fill: #1967D2;\n",
              "      height: 32px;\n",
              "      padding: 0 0 0 0;\n",
              "      width: 32px;\n",
              "    }\n",
              "\n",
              "    .colab-df-convert:hover {\n",
              "      background-color: #E2EBFA;\n",
              "      box-shadow: 0px 1px 2px rgba(60, 64, 67, 0.3), 0px 1px 3px 1px rgba(60, 64, 67, 0.15);\n",
              "      fill: #174EA6;\n",
              "    }\n",
              "\n",
              "    [theme=dark] .colab-df-convert {\n",
              "      background-color: #3B4455;\n",
              "      fill: #D2E3FC;\n",
              "    }\n",
              "\n",
              "    [theme=dark] .colab-df-convert:hover {\n",
              "      background-color: #434B5C;\n",
              "      box-shadow: 0px 1px 3px 1px rgba(0, 0, 0, 0.15);\n",
              "      filter: drop-shadow(0px 1px 2px rgba(0, 0, 0, 0.3));\n",
              "      fill: #FFFFFF;\n",
              "    }\n",
              "  </style>\n",
              "\n",
              "      <script>\n",
              "        const buttonEl =\n",
              "          document.querySelector('#df-6e9422e6-f452-4d49-9edb-f4f07a28073d button.colab-df-convert');\n",
              "        buttonEl.style.display =\n",
              "          google.colab.kernel.accessAllowed ? 'block' : 'none';\n",
              "\n",
              "        async function convertToInteractive(key) {\n",
              "          const element = document.querySelector('#df-6e9422e6-f452-4d49-9edb-f4f07a28073d');\n",
              "          const dataTable =\n",
              "            await google.colab.kernel.invokeFunction('convertToInteractive',\n",
              "                                                     [key], {});\n",
              "          if (!dataTable) return;\n",
              "\n",
              "          const docLinkHtml = 'Like what you see? Visit the ' +\n",
              "            '<a target=\"_blank\" href=https://colab.research.google.com/notebooks/data_table.ipynb>data table notebook</a>'\n",
              "            + ' to learn more about interactive tables.';\n",
              "          element.innerHTML = '';\n",
              "          dataTable['output_type'] = 'display_data';\n",
              "          await google.colab.output.renderOutput(dataTable, element);\n",
              "          const docLink = document.createElement('div');\n",
              "          docLink.innerHTML = docLinkHtml;\n",
              "          element.appendChild(docLink);\n",
              "        }\n",
              "      </script>\n",
              "    </div>\n",
              "  </div>\n",
              "  "
            ]
          },
          "metadata": {},
          "execution_count": 261
        }
      ]
    },
    {
      "cell_type": "code",
      "source": [
        "student_id = pd.DataFrame({'college':['zu university','zu university','zu university','zu university','zu university',],\n",
        "                           'roll_no': [102,101,104,103,105],\n",
        "                           'name': ['Aravind','Rahul','Prateek','Piyuesh', 'Kartik'],\n",
        "                           'grade':['b','b','a','c','a'],\n",
        "                           'mark':[15,15,20,4,22],\n",
        "                           'city': ['Gurugram','Delhi','Delhi', 'Gurugram','hyderabad']})\n",
        "pool = pd.DataFrame({'college':['zu university','zu university','ab university','zu university','ab university',],\n",
        "                     'name':['Aravind','Rahul','Rahul','Prateek','Harsh'],\n",
        "                     'company':['abc','xyz','abc','aep','abc'],\n",
        "                     'package':[8,14.5,11,6,6]})\n",
        "\n",
        "\n",
        "student_id.merge(pool, how = 'inner', on = ['college','name'])\n",
        "# student_id.merge(pool, how = 'left', on = ['college','name'])\n",
        "# student_id.merge(pool, how = 'right', on = ['college','name'])"
      ],
      "metadata": {
        "colab": {
          "base_uri": "https://localhost:8080/",
          "height": 143
        },
        "id": "CLw2XKTiM60p",
        "outputId": "e9fc6d8e-bddc-4c27-982b-10ea548f87bb"
      },
      "execution_count": 262,
      "outputs": [
        {
          "output_type": "execute_result",
          "data": {
            "text/plain": [
              "         college  roll_no     name grade  mark      city company  package\n",
              "0  zu university      102  Aravind     b    15  Gurugram     abc      8.0\n",
              "1  zu university      101    Rahul     b    15     Delhi     xyz     14.5\n",
              "2  zu university      104  Prateek     a    20     Delhi     aep      6.0"
            ],
            "text/html": [
              "\n",
              "  <div id=\"df-000121da-b96b-4958-bdef-0b9c4a684ae3\">\n",
              "    <div class=\"colab-df-container\">\n",
              "      <div>\n",
              "<style scoped>\n",
              "    .dataframe tbody tr th:only-of-type {\n",
              "        vertical-align: middle;\n",
              "    }\n",
              "\n",
              "    .dataframe tbody tr th {\n",
              "        vertical-align: top;\n",
              "    }\n",
              "\n",
              "    .dataframe thead th {\n",
              "        text-align: right;\n",
              "    }\n",
              "</style>\n",
              "<table border=\"1\" class=\"dataframe\">\n",
              "  <thead>\n",
              "    <tr style=\"text-align: right;\">\n",
              "      <th></th>\n",
              "      <th>college</th>\n",
              "      <th>roll_no</th>\n",
              "      <th>name</th>\n",
              "      <th>grade</th>\n",
              "      <th>mark</th>\n",
              "      <th>city</th>\n",
              "      <th>company</th>\n",
              "      <th>package</th>\n",
              "    </tr>\n",
              "  </thead>\n",
              "  <tbody>\n",
              "    <tr>\n",
              "      <th>0</th>\n",
              "      <td>zu university</td>\n",
              "      <td>102</td>\n",
              "      <td>Aravind</td>\n",
              "      <td>b</td>\n",
              "      <td>15</td>\n",
              "      <td>Gurugram</td>\n",
              "      <td>abc</td>\n",
              "      <td>8.0</td>\n",
              "    </tr>\n",
              "    <tr>\n",
              "      <th>1</th>\n",
              "      <td>zu university</td>\n",
              "      <td>101</td>\n",
              "      <td>Rahul</td>\n",
              "      <td>b</td>\n",
              "      <td>15</td>\n",
              "      <td>Delhi</td>\n",
              "      <td>xyz</td>\n",
              "      <td>14.5</td>\n",
              "    </tr>\n",
              "    <tr>\n",
              "      <th>2</th>\n",
              "      <td>zu university</td>\n",
              "      <td>104</td>\n",
              "      <td>Prateek</td>\n",
              "      <td>a</td>\n",
              "      <td>20</td>\n",
              "      <td>Delhi</td>\n",
              "      <td>aep</td>\n",
              "      <td>6.0</td>\n",
              "    </tr>\n",
              "  </tbody>\n",
              "</table>\n",
              "</div>\n",
              "      <button class=\"colab-df-convert\" onclick=\"convertToInteractive('df-000121da-b96b-4958-bdef-0b9c4a684ae3')\"\n",
              "              title=\"Convert this dataframe to an interactive table.\"\n",
              "              style=\"display:none;\">\n",
              "        \n",
              "  <svg xmlns=\"http://www.w3.org/2000/svg\" height=\"24px\"viewBox=\"0 0 24 24\"\n",
              "       width=\"24px\">\n",
              "    <path d=\"M0 0h24v24H0V0z\" fill=\"none\"/>\n",
              "    <path d=\"M18.56 5.44l.94 2.06.94-2.06 2.06-.94-2.06-.94-.94-2.06-.94 2.06-2.06.94zm-11 1L8.5 8.5l.94-2.06 2.06-.94-2.06-.94L8.5 2.5l-.94 2.06-2.06.94zm10 10l.94 2.06.94-2.06 2.06-.94-2.06-.94-.94-2.06-.94 2.06-2.06.94z\"/><path d=\"M17.41 7.96l-1.37-1.37c-.4-.4-.92-.59-1.43-.59-.52 0-1.04.2-1.43.59L10.3 9.45l-7.72 7.72c-.78.78-.78 2.05 0 2.83L4 21.41c.39.39.9.59 1.41.59.51 0 1.02-.2 1.41-.59l7.78-7.78 2.81-2.81c.8-.78.8-2.07 0-2.86zM5.41 20L4 18.59l7.72-7.72 1.47 1.35L5.41 20z\"/>\n",
              "  </svg>\n",
              "      </button>\n",
              "      \n",
              "  <style>\n",
              "    .colab-df-container {\n",
              "      display:flex;\n",
              "      flex-wrap:wrap;\n",
              "      gap: 12px;\n",
              "    }\n",
              "\n",
              "    .colab-df-convert {\n",
              "      background-color: #E8F0FE;\n",
              "      border: none;\n",
              "      border-radius: 50%;\n",
              "      cursor: pointer;\n",
              "      display: none;\n",
              "      fill: #1967D2;\n",
              "      height: 32px;\n",
              "      padding: 0 0 0 0;\n",
              "      width: 32px;\n",
              "    }\n",
              "\n",
              "    .colab-df-convert:hover {\n",
              "      background-color: #E2EBFA;\n",
              "      box-shadow: 0px 1px 2px rgba(60, 64, 67, 0.3), 0px 1px 3px 1px rgba(60, 64, 67, 0.15);\n",
              "      fill: #174EA6;\n",
              "    }\n",
              "\n",
              "    [theme=dark] .colab-df-convert {\n",
              "      background-color: #3B4455;\n",
              "      fill: #D2E3FC;\n",
              "    }\n",
              "\n",
              "    [theme=dark] .colab-df-convert:hover {\n",
              "      background-color: #434B5C;\n",
              "      box-shadow: 0px 1px 3px 1px rgba(0, 0, 0, 0.15);\n",
              "      filter: drop-shadow(0px 1px 2px rgba(0, 0, 0, 0.3));\n",
              "      fill: #FFFFFF;\n",
              "    }\n",
              "  </style>\n",
              "\n",
              "      <script>\n",
              "        const buttonEl =\n",
              "          document.querySelector('#df-000121da-b96b-4958-bdef-0b9c4a684ae3 button.colab-df-convert');\n",
              "        buttonEl.style.display =\n",
              "          google.colab.kernel.accessAllowed ? 'block' : 'none';\n",
              "\n",
              "        async function convertToInteractive(key) {\n",
              "          const element = document.querySelector('#df-000121da-b96b-4958-bdef-0b9c4a684ae3');\n",
              "          const dataTable =\n",
              "            await google.colab.kernel.invokeFunction('convertToInteractive',\n",
              "                                                     [key], {});\n",
              "          if (!dataTable) return;\n",
              "\n",
              "          const docLinkHtml = 'Like what you see? Visit the ' +\n",
              "            '<a target=\"_blank\" href=https://colab.research.google.com/notebooks/data_table.ipynb>data table notebook</a>'\n",
              "            + ' to learn more about interactive tables.';\n",
              "          element.innerHTML = '';\n",
              "          dataTable['output_type'] = 'display_data';\n",
              "          await google.colab.output.renderOutput(dataTable, element);\n",
              "          const docLink = document.createElement('div');\n",
              "          docLink.innerHTML = docLinkHtml;\n",
              "          element.appendChild(docLink);\n",
              "        }\n",
              "      </script>\n",
              "    </div>\n",
              "  </div>\n",
              "  "
            ]
          },
          "metadata": {},
          "execution_count": 262
        }
      ]
    },
    {
      "cell_type": "code",
      "source": [
        "# Aggregation ans Summarization\n",
        "# data.label.sum() or sum or mean or mode or median\n",
        "# data.groupby([label])\n",
        "# data.first()\n",
        "# d.max()\n",
        "# data.groupby([label,label]).mean()\n",
        "\n",
        "# You can do a lot of pivot table with:\n",
        "#                           pd.pivot_table(data, index='',values='')...\n",
        "# pd,crosstab(data[''], data[''])\n",
        "\n",
        "# The aggregation is more complex than I thought, functions, large codes ...We can do with more time\n",
        "# Use librairy datetime to convert datetime to type timedelta64[ns]\n",
        "# Create cloumn of month or day of year is data.datatime.dt.day_name or month_day...\n",
        "# Localize timezone with data.datemtime.dt.tz_localize('Continent/Country')\n",
        "# Convert timezone with data.Column_tz.dt.tz_convert('Continent/Country')\n",
        "\n",
        "\n"
      ],
      "metadata": {
        "id": "_SKzq8ST2rPc"
      },
      "execution_count": 263,
      "outputs": []
    },
    {
      "cell_type": "code",
      "source": [
        "import pandas as pd\n",
        "import datetime as dt\n",
        "\n",
        "data = pd.DataFrame({'id': [0,1,2,3,4],\n",
        "                     'Datetime': ['25 Aug 2012','25 Aug 2012','25 Aug 2012','25 Aug 2012','25 Aug 2012'],\n",
        "                     'Count': [8,2,6,2,2]})\n",
        "pd.to_datetime(data.Datetime, format ='%d %b %Y')"
      ],
      "metadata": {
        "colab": {
          "base_uri": "https://localhost:8080/"
        },
        "id": "Q0z_F5sK-9O3",
        "outputId": "63987ad5-5e17-469d-d5a8-66a36443a3f7"
      },
      "execution_count": 264,
      "outputs": [
        {
          "output_type": "execute_result",
          "data": {
            "text/plain": [
              "0   2012-08-25\n",
              "1   2012-08-25\n",
              "2   2012-08-25\n",
              "3   2012-08-25\n",
              "4   2012-08-25\n",
              "Name: Datetime, dtype: datetime64[ns]"
            ]
          },
          "metadata": {},
          "execution_count": 264
        }
      ]
    }
  ]
}